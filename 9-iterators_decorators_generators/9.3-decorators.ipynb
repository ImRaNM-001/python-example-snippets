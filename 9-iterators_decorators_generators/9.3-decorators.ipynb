{
 "cells": [
  {
   "cell_type": "markdown",
   "metadata": {},
   "source": [
    "#### 1- function copy"
   ]
  },
  {
   "cell_type": "markdown",
   "metadata": {},
   "source": []
  },
  {
   "cell_type": "code",
   "execution_count": 416,
   "metadata": {},
   "outputs": [],
   "source": [
    "# def welcome()-> str:\n",
    "#     return 'Welcome to python grilling.......'\n",
    "\n",
    "welcome = lambda : 'Welcome to python grilling.......'\n"
   ]
  },
  {
   "cell_type": "code",
   "execution_count": 417,
   "metadata": {},
   "outputs": [
    {
     "name": "stdout",
     "output_type": "stream",
     "text": [
      "Welcome to python grilling.......\n",
      "Welcome to python grilling.......\n"
     ]
    }
   ],
   "source": [
    "# copy function to a variable (one of the aspect of functions as 1st class citizens)\n",
    "wel: str = welcome()\n",
    "print(wel)\n",
    "\n",
    "del welcome                 # cannot delete a function with () provided, just pass the function name\n",
    "print(wel)"
   ]
  },
  {
   "cell_type": "markdown",
   "metadata": {},
   "source": [
    "#### 2- function closures\n",
    "\n",
    "- function inside a function"
   ]
  },
  {
   "cell_type": "code",
   "execution_count": 418,
   "metadata": {},
   "outputs": [],
   "source": [
    "# Ex: 1 - passing a string and returning a function\n",
    "def main_welcome(msg: str) -> list[str]:\n",
    "    inside_msg: str = 'Welcome msg'\n",
    "\n",
    "    def sub_welcome() -> None:\n",
    "        print('Welcome 1')\n",
    "        print(inside_msg)\n",
    "        print('Welcome 2')\n",
    "        print(msg)\n",
    "    return sub_welcome()"
   ]
  },
  {
   "cell_type": "code",
   "execution_count": 419,
   "metadata": {},
   "outputs": [
    {
     "name": "stdout",
     "output_type": "stream",
     "text": [
      "Welcome 1\n",
      "Welcome msg\n",
      "Welcome 2\n",
      "functional programming\n"
     ]
    }
   ],
   "source": [
    "main_welcome('functional programming')"
   ]
  },
  {
   "cell_type": "code",
   "execution_count": 420,
   "metadata": {},
   "outputs": [],
   "source": [
    "# Ex: 2 - passing a function and returning a function\n",
    "from typing import Callable\n",
    "\n",
    "def main_welcome(func_name: Callable[[str], None]) -> list[str]:\n",
    "\n",
    "    def sub_welcome() -> None:\n",
    "        print('Welcome 1')\n",
    "        func_name('what you want the function to do')\n",
    "        print('Welcome 2')\n",
    "    return sub_welcome()"
   ]
  },
  {
   "cell_type": "code",
   "execution_count": 421,
   "metadata": {},
   "outputs": [
    {
     "name": "stdout",
     "output_type": "stream",
     "text": [
      "Welcome 1\n",
      "what you want the function to do\n",
      "Welcome 2\n"
     ]
    }
   ],
   "source": [
    "main_welcome(print)"
   ]
  },
  {
   "cell_type": "code",
   "execution_count": 422,
   "metadata": {},
   "outputs": [],
   "source": [
    "# another example using 'len' function\n",
    "\n",
    "def main_welcome(func_name: Callable[[str], None]) -> list[str]:\n",
    "\n",
    "    def sub_welcome() -> None:\n",
    "        print('Welcome 1')\n",
    "        print(func_name('what you want the function to do'))\n",
    "        print('Welcome 2')\n",
    "    return sub_welcome()"
   ]
  },
  {
   "cell_type": "code",
   "execution_count": 423,
   "metadata": {},
   "outputs": [
    {
     "name": "stdout",
     "output_type": "stream",
     "text": [
      "Welcome 1\n",
      "32\n",
      "Welcome 2\n"
     ]
    }
   ],
   "source": [
    "main_welcome(len)"
   ]
  },
  {
   "cell_type": "markdown",
   "metadata": {},
   "source": [
    "#### 3- decorators\n",
    "\n",
    "- are a powerful feature in Python for extending and modifying the behavior of functions and methods.\n",
    "\n",
    "- They provide a clean and readable way to add functionality such as logging, timing, access control, and more without changing the original code"
   ]
  },
  {
   "cell_type": "code",
   "execution_count": 424,
   "metadata": {},
   "outputs": [],
   "source": [
    "def my_decorator_fn(func_name):\n",
    "    def wrapper_fn():\n",
    "        print('Something BEFORE the function called')\n",
    "        func_name()\n",
    "        print('Something AFTER the function called')\n",
    "    return wrapper_fn()"
   ]
  },
  {
   "cell_type": "code",
   "execution_count": 425,
   "metadata": {},
   "outputs": [
    {
     "name": "stdout",
     "output_type": "stream",
     "text": [
      "Something BEFORE the function called\n",
      "Inside wrapper function\n",
      "Something AFTER the function called\n"
     ]
    }
   ],
   "source": [
    "# without decorator\n",
    "outside_fn = lambda : print('Inside wrapper function')\n",
    "\n",
    "my_decorator_fn(outside_fn)"
   ]
  },
  {
   "cell_type": "code",
   "execution_count": 426,
   "metadata": {},
   "outputs": [
    {
     "name": "stdout",
     "output_type": "stream",
     "text": [
      "Something BEFORE the function called\n",
      "Inside wrapper function\n",
      "Something AFTER the function called\n"
     ]
    }
   ],
   "source": [
    "\"\"\" with decorator - passing main function name as a decorator,\n",
    "meaning  outside_fn() is passed as a signature in my_decorator_fn(func)\n",
    "\n",
    "\"\"\"\n",
    "@my_decorator_fn\n",
    "def outside_fn() -> None:\n",
    "    print('Inside wrapper function')"
   ]
  },
  {
   "cell_type": "code",
   "execution_count": null,
   "metadata": {},
   "outputs": [],
   "source": []
  }
 ],
 "metadata": {
  "kernelspec": {
   "display_name": ".venv",
   "language": "python",
   "name": "python3"
  },
  "language_info": {
   "codemirror_mode": {
    "name": "ipython",
    "version": 3
   },
   "file_extension": ".py",
   "mimetype": "text/x-python",
   "name": "python",
   "nbconvert_exporter": "python",
   "pygments_lexer": "ipython3",
   "version": "3.12.7"
  }
 },
 "nbformat": 4,
 "nbformat_minor": 2
}
