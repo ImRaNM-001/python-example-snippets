{
 "cells": [
  {
   "cell_type": "markdown",
   "metadata": {},
   "source": [
    "#### Common functions used:\n",
    "           \n",
    "- .iter(list)\n",
    "\n",
    "- .next(itr_obj)"
   ]
  },
  {
   "cell_type": "code",
   "execution_count": 323,
   "metadata": {},
   "outputs": [
    {
     "name": "stdout",
     "output_type": "stream",
     "text": [
      "1\n",
      "3\n",
      "5\n",
      "7\n",
      "9\n",
      "\n",
      "1\n",
      "3\n",
      "5\n",
      "7\n",
      "9\n",
      "\n",
      "1 3 5 7 9\n",
      "1 3 5 7 9\n"
     ]
    }
   ],
   "source": [
    "num_list: list[int] = [1, 3, 5, 7, 9]\n",
    "\n",
    "# 1- Using a for loop\n",
    "for elem in num_list:\n",
    "    print(elem)\n",
    "\n",
    "print()\n",
    "\n",
    "# 2- Using list comprehension\n",
    "[print(elem) for elem in num_list]\n",
    "\n",
    "print()\n",
    "\n",
    "\n",
    "# 3- Using join method (only works for strings)\n",
    "print(' '.join(map(str, num_list)))\n",
    "\n",
    "\n",
    "# 4- Using unpacking operator\n",
    "print(*num_list)"
   ]
  },
  {
   "cell_type": "code",
   "execution_count": 324,
   "metadata": {},
   "outputs": [
    {
     "data": {
      "text/plain": [
       "list"
      ]
     },
     "execution_count": 324,
     "metadata": {},
     "output_type": "execute_result"
    }
   ],
   "source": [
    "type(num_list)"
   ]
  },
  {
   "cell_type": "code",
   "execution_count": 328,
   "metadata": {},
   "outputs": [
    {
     "name": "stdout",
     "output_type": "stream",
     "text": [
      "<list_iterator object at 0x1094b9a80>\n",
      "<class 'list_iterator'>\n"
     ]
    }
   ],
   "source": [
    "itr_obj = iter(num_list)              \n",
    "\n",
    "print(itr_obj)                               # prints         <list_iterator object at 0x109164a00>\n",
    "print(type(itr_obj))                         # prints         <class 'list_iterator'>"
   ]
  },
  {
   "cell_type": "markdown",
   "metadata": {},
   "source": [
    "#### Iterate all elements via the next() function"
   ]
  },
  {
   "cell_type": "code",
   "execution_count": 334,
   "metadata": {},
   "outputs": [
    {
     "name": "stdout",
     "output_type": "stream",
     "text": [
      "The list is now empty, hence iteration would throw an exception\n"
     ]
    }
   ],
   "source": [
    "# next(itr)                 # handled the exception below\n",
    "\n",
    "# handling exception\n",
    "try:\n",
    "    print(next(itr_obj))\n",
    "except StopIteration:                   # not used StopIteration as error, coz nothing will be returned by this Exception\n",
    "    print('The list is now empty, hence iteration would throw an exception')"
   ]
  },
  {
   "cell_type": "code",
   "execution_count": 335,
   "metadata": {},
   "outputs": [
    {
     "name": "stdout",
     "output_type": "stream",
     "text": [
      "H\n",
      "e\n",
      "l\n",
      "l\n",
      "o\n",
      "The iteration of string is over, hence iteration would throw an exception\n"
     ]
    }
   ],
   "source": [
    "# Iterate a string\n",
    "my_str: str = 'Hello'\n",
    "itr_obj = iter(my_str)          # storing in an iterator object is essential to avoid getting in an endless loop\n",
    "\n",
    "while True:\n",
    "    try:\n",
    "        print(next(itr_obj))\n",
    "    except StopIteration:\n",
    "        print('The iteration of string is over, hence iteration would throw an exception')\n",
    "        break"
   ]
  },
  {
   "cell_type": "code",
   "execution_count": null,
   "metadata": {},
   "outputs": [],
   "source": []
  }
 ],
 "metadata": {
  "kernelspec": {
   "display_name": ".venv",
   "language": "python",
   "name": "python3"
  },
  "language_info": {
   "codemirror_mode": {
    "name": "ipython",
    "version": 3
   },
   "file_extension": ".py",
   "mimetype": "text/x-python",
   "name": "python",
   "nbconvert_exporter": "python",
   "pygments_lexer": "ipython3",
   "version": "3.12.7"
  }
 },
 "nbformat": 4,
 "nbformat_minor": 2
}
