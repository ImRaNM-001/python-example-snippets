{
 "cells": [
  {
   "cell_type": "code",
   "execution_count": 201,
   "metadata": {},
   "outputs": [
    {
     "name": "stdout",
     "output_type": "stream",
     "text": [
      "0\n",
      "1\n",
      "4\n"
     ]
    }
   ],
   "source": [
    "square = lambda num: num ** 2\n",
    "\n",
    "for i in range(3):\n",
    "    print(square(i))"
   ]
  },
  {
   "cell_type": "markdown",
   "metadata": {},
   "source": [
    "#### **Generators** are a simpler way to create iterators. They use the yield keyword to produce a series of values lazily which means they generate values on the fly and do not store them in memory."
   ]
  },
  {
   "cell_type": "code",
   "execution_count": 202,
   "metadata": {},
   "outputs": [],
   "source": [
    "def my_generator():\n",
    "    yield 1\n",
    "    yield 2\n",
    "    yield 3"
   ]
  },
  {
   "cell_type": "code",
   "execution_count": 203,
   "metadata": {},
   "outputs": [
    {
     "data": {
      "text/plain": [
       "<generator object my_generator at 0x113390040>"
      ]
     },
     "execution_count": 203,
     "metadata": {},
     "output_type": "execute_result"
    }
   ],
   "source": [
    "# # storing in a varable is must to avoid any errors\n",
    "gen = my_generator()\n",
    "gen"
   ]
  },
  {
   "cell_type": "code",
   "execution_count": 204,
   "metadata": {},
   "outputs": [
    {
     "name": "stdout",
     "output_type": "stream",
     "text": [
      "1\n",
      "2\n",
      "3\n"
     ]
    }
   ],
   "source": [
    "# print in 1 shot\n",
    "# [print(i) for i in gen]\n",
    "\n",
    "for val in gen:\n",
    "    print(val)"
   ]
  },
  {
   "cell_type": "markdown",
   "metadata": {},
   "source": [
    "             Or,"
   ]
  },
  {
   "cell_type": "code",
   "execution_count": 205,
   "metadata": {},
   "outputs": [
    {
     "name": "stdout",
     "output_type": "stream",
     "text": [
      "The iteration of generator is over, hence iteration would throw an exception\n"
     ]
    }
   ],
   "source": [
    "# hit-by-hit\n",
    "# next(gen)\n",
    "\n",
    "try:\n",
    "    print(next(gen))\n",
    "\n",
    "except StopIteration:\n",
    "    print('The iteration of generator is over, hence iteration would throw an exception')"
   ]
  },
  {
   "cell_type": "markdown",
   "metadata": {},
   "source": [
    "#### Practical Example: Reading Large Files\n",
    "\n",
    "- Generators are particularly useful for reading large files because they allow you to process one line at a time without loading the entire file into memory."
   ]
  },
  {
   "cell_type": "code",
   "execution_count": 206,
   "metadata": {},
   "outputs": [
    {
     "name": "stdout",
     "output_type": "stream",
     "text": [
      "from typing import List, TypeVar, Generic, Any\n",
      "\n",
      "T = TypeVar('T')\n",
      "\n",
      "class TypedList(Generic[T], List[T]):\n",
      "def __init__(self, *args: T) -> None:\n",
      "super().__init__(args)\n",
      "self._check_types()\n",
      "\n",
      "def __setitem__(self, index: int, value: T) -> None:\n",
      "self._check_type(value)\n",
      "super().__setitem__(index, value)\n",
      "\n",
      "def append(self, value: T) -> None:\n",
      "self._check_type(value)\n",
      "super().append(value)\n",
      "\n",
      "def extend(self, values: List[T]) -> None:\n",
      "for value in values:\n",
      "self._check_type(value)\n",
      "super().extend(values)\n",
      "\n",
      "def insert(self, index: int, value: T) -> None:\n",
      "self._check_type(value)\n",
      "super().insert(index, value)\n",
      "\n",
      "def _check_type(self, value: Any) -> None:\n",
      "if not isinstance(value, self._type):\n",
      "raise TypeError(f\"Expected type {self._type.__name__}, got {type(value).__name__}\")\n",
      "\n",
      "def _check_types(self) -> None:\n",
      "for item in self:\n",
      "self._check_type(item)\n",
      "\n",
      "@property\n",
      "def _type(self) -> type:\n",
      "return self.__orig_class__.__args__[0]\n",
      "\n",
      "# Example usage\n",
      "if __name__ == \"__main__\":\n",
      "# Create a list of integers\n",
      "int_list = TypedList[int](1, 2, 3, 4, 5)\n",
      "print(int_list)\n",
      "\n",
      "# This will raise a TypeError\n",
      "try:\n",
      "int_list[2] = 'kal kal'\n",
      "except TypeError as e:\n",
      "print(e)\n",
      "\n",
      "# This will also raise a TypeError\n",
      "try:\n",
      "int_list.append('hello')\n",
      "except TypeError as e:\n",
      "print(e)\n",
      "\n",
      "# Create a list of strings\n",
      "str_list = TypedList[str](\"a\", \"b\", \"c\")\n",
      "print(str_list)\n",
      "\n",
      "# This will raise a TypeError\n",
      "try:\n",
      "str_list[1] = 123\n",
      "except TypeError as e:\n",
      "print(e)\n",
      "\n",
      "\n",
      "\n",
      "\"\"\" by pieces AI\n",
      "from typing import Any, TypeVar, Generic, Type\n",
      "\n",
      "T = TypeVar('T')\n",
      "\n",
      "class TypedVariable(Generic[T]):\n",
      "def __init__(self, value: T, expected_type: Type[T]) -> None:\n",
      "self._expected_type = expected_type\n",
      "self.value = value\n",
      "\n",
      "@property\n",
      "def value(self) -> T:\n",
      "return self._value\n",
      "\n",
      "@value.setter\n",
      "def value(self, new_value: T) -> None:\n",
      "if not isinstance(new_value, self._expected_type):\n",
      "raise TypeError(f\"Expected value of type {self._expected_type.__name__}, got {type(new_value).__name__}\")\n",
      "self._value = new_value\n",
      "\n",
      "# Example usage\n",
      "if __name__ == \"__main__\":\n",
      "# Initialize with an integer\n",
      "int_var = TypedVariable(10, int)\n",
      "print(int_var.value)  # Output: 10\n",
      "\n",
      "# Re-initialize with a valid type\n",
      "int_var.value = 20\n",
      "print(int_var.value)  # Output: 20\n",
      "\n",
      "# Attempt to re-initialize with an invalid type\n",
      "try:\n",
      "int_var.value = \"string\"  # This will raise a TypeError\n",
      "except TypeError as e:\n",
      "print(e)  # Output: Expected value of type int, got str\n",
      "\n",
      "# Initialize with a list\n",
      "list_var = TypedVariable([1, 2, 3], list)\n",
      "print(list_var.value)  # Output: [1, 2, 3]\n",
      "\n",
      "# Re-initialize with a valid type\n",
      "list_var.value = [4, 5, 6]\n",
      "print(list_var.value)  # Output: [4, 5, 6]\n",
      "\n",
      "# Attempt to re-initialize with an invalid type\n",
      "try:\n",
      "list_var.value = 123  # This will raise a TypeError\n",
      "except TypeError as e:\n",
      "print(e)  # Output: Expected value of type list, got int\n",
      "\n",
      "\"\"\"\n"
     ]
    }
   ],
   "source": [
    "# taken from copilot, yet to understand & absorb - FUTURE SHIT\n",
    "\n",
    "def read_large_file(file_path: str):\n",
    "    \"\"\"\n",
    "    A generator function to read a large file line by line.\n",
    "    \"\"\"\n",
    "    with open(file_path, 'r') as file:\n",
    "        for line in file:\n",
    "            yield line\n",
    "\n",
    "# Process the file line by line using the generator\n",
    "for line in read_large_file('../(EXPERIMENTAL)_prevent_type_errors.py'):               # Replace with the path to your large file\n",
    "    print(line.strip())                                     # Print each line without leading/trailing whitespace"
   ]
  },
  {
   "cell_type": "code",
   "execution_count": null,
   "metadata": {},
   "outputs": [],
   "source": []
  }
 ],
 "metadata": {
  "kernelspec": {
   "display_name": ".venv",
   "language": "python",
   "name": "python3"
  },
  "language_info": {
   "codemirror_mode": {
    "name": "ipython",
    "version": 3
   },
   "file_extension": ".py",
   "mimetype": "text/x-python",
   "name": "python",
   "nbconvert_exporter": "python",
   "pygments_lexer": "ipython3",
   "version": "3.12.7"
  }
 },
 "nbformat": 4,
 "nbformat_minor": 2
}
