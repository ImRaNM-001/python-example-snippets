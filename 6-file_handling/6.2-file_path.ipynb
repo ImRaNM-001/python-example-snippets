{
 "cells": [
  {
   "cell_type": "markdown",
   "metadata": {},
   "source": [
    "#### Common functions used:\n",
    "           from os  \n",
    "           \n",
    "- .listdir()\n",
    "\n",
    "- .path.join()\n",
    "\n",
    "- path.abspath()"
   ]
  },
  {
   "cell_type": "markdown",
   "metadata": {},
   "source": [
    "#### List files & directories"
   ]
  },
  {
   "cell_type": "code",
   "execution_count": 37,
   "metadata": {},
   "outputs": [],
   "source": [
    "import os"
   ]
  },
  {
   "cell_type": "code",
   "execution_count": 38,
   "metadata": {},
   "outputs": [
    {
     "name": "stdout",
     "output_type": "stream",
     "text": [
      "['destinaion_example.yml', '6.1-file_operations.ipynb', '6.2-file_path.ipynb', 'example.bin', 'example.txt', 'new_file_write.txt']\n"
     ]
    }
   ],
   "source": [
    "files_dir: list[str] = os.listdir('.')\n",
    "print(files_dir)"
   ]
  },
  {
   "cell_type": "markdown",
   "metadata": {},
   "source": [
    "#### Join Paths"
   ]
  },
  {
   "cell_type": "code",
   "execution_count": 39,
   "metadata": {},
   "outputs": [
    {
     "name": "stdout",
     "output_type": "stream",
     "text": [
      "folder/file_name.yaml\n",
      "/Users/imran-m/Python-projects/6-file_handling/folder/file_name.yaml\n"
     ]
    }
   ],
   "source": [
    "__dir_name: str = 'folder'\n",
    "__file_name: str = 'file_name.yaml'\n",
    "\n",
    "full_path: str = os.path.join(__dir_name, __file_name)              # will print relative path\n",
    "print(full_path)\n",
    "\n",
    "full_path: str = os.path.join(os.getcwd(), __dir_name, __file_name)     # will print absolute path\n",
    "print(full_path)"
   ]
  },
  {
   "cell_type": "markdown",
   "metadata": {},
   "source": [
    "#### Get Absolute path directly"
   ]
  },
  {
   "cell_type": "code",
   "execution_count": 40,
   "metadata": {},
   "outputs": [
    {
     "name": "stdout",
     "output_type": "stream",
     "text": [
      "/Users/imran-m/Python-projects/6-file_handling/file_name.yaml\n"
     ]
    }
   ],
   "source": [
    "absolute_path: str = os.path.abspath(__file_name)           # just pass the file name or relative path\n",
    "print(absolute_path)"
   ]
  },
  {
   "cell_type": "code",
   "execution_count": 41,
   "metadata": {},
   "outputs": [
    {
     "name": "stdout",
     "output_type": "stream",
     "text": [
      "path folder/file_name.yaml does not exist\n"
     ]
    }
   ],
   "source": [
    "# check if path is present\n",
    "full_path: str = os.path.join(__dir_name, __file_name)\n",
    "print(f'path {full_path} exists' if os.path.exists(full_path) else f'path {full_path} does not exist')"
   ]
  },
  {
   "cell_type": "markdown",
   "metadata": {},
   "source": [
    "#### Check if path is file or directory"
   ]
  },
  {
   "cell_type": "code",
   "execution_count": 42,
   "metadata": {},
   "outputs": [
    {
     "name": "stdout",
     "output_type": "stream",
     "text": [
      "6.2-file_path.ipynb\n",
      "The path \"6.2-file_path.ipynb\" is a file\n"
     ]
    }
   ],
   "source": [
    "current_path: str = os.listdir('.')[2]               # prints 6.2-file_path.ipynb\n",
    "print(current_path)\n",
    "\n",
    "# current_path = 'aankhen.yaml'                     # to print The path \"aankhen.yaml\" is neither a file or directory\n",
    "\n",
    "if os.path.isfile(current_path):\n",
    "    print(f'The path \"{current_path}\" is a file')\n",
    "\n",
    "elif os.path.isdir(current_path):\n",
    "    print(f'The path \"{current_path}\" is a directory')\n",
    "\n",
    "else:\n",
    "    print(f'The path \"{current_path}\" is neither a file or directory')"
   ]
  },
  {
   "cell_type": "markdown",
   "metadata": {},
   "source": [
    "#### Incase \"match\" case statements used,\n",
    "\n",
    "    - The error in your code is due to the misuse of the match statement - the match-case syntax doesn't work with function calls like \"os.path.isfile(current_path):\" directly in the case patterns. \n",
    "    \n",
    "    - The match-case in Python, used for pattern matching expects patterns to match against, not \"boolean\" expressions, and it doesn't directly support calling functions like os.path.isfile or os.path.isdir within the case clauses\n",
    "\n",
    "    - Instead, you should use the match statement to match against specific patterns or values."
   ]
  },
  {
   "cell_type": "code",
   "execution_count": null,
   "metadata": {},
   "outputs": [],
   "source": []
  }
 ],
 "metadata": {
  "kernelspec": {
   "display_name": ".venv",
   "language": "python",
   "name": "python3"
  },
  "language_info": {
   "codemirror_mode": {
    "name": "ipython",
    "version": 3
   },
   "file_extension": ".py",
   "mimetype": "text/x-python",
   "name": "python",
   "nbconvert_exporter": "python",
   "pygments_lexer": "ipython3",
   "version": "3.12.7"
  }
 },
 "nbformat": 4,
 "nbformat_minor": 2
}
