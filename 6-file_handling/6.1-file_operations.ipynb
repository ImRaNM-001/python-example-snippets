{
 "cells": [
  {
   "cell_type": "markdown",
   "metadata": {},
   "source": [
    "#### Common functions used:\n",
    "\n",
    "- file.read()\n",
    "\n",
    "- file.write()\n",
    "\n",
    "- file.writelines(list)\n",
    "\n",
    "- line.strip()"
   ]
  },
  {
   "cell_type": "markdown",
   "metadata": {},
   "source": [
    "#### Read whole file"
   ]
  },
  {
   "cell_type": "code",
   "execution_count": 109,
   "metadata": {},
   "outputs": [
    {
     "name": "stdout",
     "output_type": "stream",
     "text": [
      "Hello World\n",
      "Inserted a new line\n",
      "Append operation,\n",
      "person:\n",
      "  - name: \"John\"\n",
      "    age: 42\n",
      "    interest: \"programming\"\n",
      "    is_employed: False\n",
      "\n"
     ]
    }
   ],
   "source": [
    "with open('../5-modules_and_packages/source.yml', 'r') as file:\n",
    "    file_content: str = file.read()\n",
    "    print(file_content)"
   ]
  },
  {
   "cell_type": "markdown",
   "metadata": {},
   "source": [
    "#### Read a file line by line"
   ]
  },
  {
   "cell_type": "code",
   "execution_count": 110,
   "metadata": {},
   "outputs": [
    {
     "name": "stdout",
     "output_type": "stream",
     "text": [
      "Hello World\n",
      "Inserted a new line\n",
      "Append operation,\n",
      "person:\n",
      "- name: \"John\"\n",
      "age: 42\n",
      "interest: \"programming\"\n",
      "is_employed: False\n",
      "\n",
      "Inserted a new line\n"
     ]
    }
   ],
   "source": [
    "# print all lines\n",
    "with open('../5-modules_and_packages/source.yml', 'r') as file:\n",
    "    for each_line in file:\n",
    "        print(each_line.strip())\n",
    "print()\n",
    "\n",
    "# print 1st line only\n",
    "lines: list[str] = file_content.split('\\n')\n",
    "print(lines[1].strip())"
   ]
  },
  {
   "cell_type": "markdown",
   "metadata": {},
   "source": [
    "#### Writing a file\n",
    "\n",
    "- overwriting\n",
    "\n",
    "- no overwrite\n",
    "\n",
    "- writing list of lines"
   ]
  },
  {
   "cell_type": "code",
   "execution_count": 111,
   "metadata": {},
   "outputs": [],
   "source": [
    "# overwritten existing file\n",
    "with open('../5-modules_and_packages/source.yml', 'w') as file:\n",
    "    file.write('Hello World\\n')\n",
    "    file.write('Inserted a new line\\n')"
   ]
  },
  {
   "cell_type": "code",
   "execution_count": 112,
   "metadata": {},
   "outputs": [],
   "source": [
    "# no overwrite the file\n",
    "\n",
    "# Define the YAML content as a string\n",
    "yaml_content = \"\"\"person:\n",
    "  - name: \"John\"\n",
    "    age: 42\n",
    "    interest: \"programming\"\n",
    "    is_employed: False\n",
    "\"\"\"\n",
    "\n",
    "with open('../5-modules_and_packages/source.yml', 'a') as file:\n",
    "    file.write('Append operation,\\n')\n",
    "    file.write(yaml_content)"
   ]
  },
  {
   "cell_type": "code",
   "execution_count": 113,
   "metadata": {},
   "outputs": [
    {
     "name": "stdout",
     "output_type": "stream",
     "text": [
      "1st line\n",
      "2nd line\n",
      "3rd line\n",
      "1st line\n",
      "2nd line\n",
      "3rd line\n",
      "1st line\n",
      "2nd line\n",
      "3rd line\n",
      "\n"
     ]
    }
   ],
   "source": [
    "# writing list of lines\n",
    "\n",
    "lines: list[str] = ['1st line\\n',\n",
    "                    '2nd line\\n',\n",
    "                    '3rd line\\n']\n",
    "\n",
    "with open('example.txt', 'a') as file:          # with append 'a', it will still create the file if not present\n",
    "    file.writelines(lines)\n",
    "\n",
    "with open('example.txt', 'r') as file:          # use w+ mode as at the bottom to avoid writing with open again & again for other operations\n",
    "    print(file.read())"
   ]
  },
  {
   "cell_type": "markdown",
   "metadata": {},
   "source": [
    "#### Binary files aka .bin files\n",
    "\n",
    "- we write bytes"
   ]
  },
  {
   "cell_type": "code",
   "execution_count": 114,
   "metadata": {},
   "outputs": [
    {
     "name": "stdout",
     "output_type": "stream",
     "text": [
      "b'\\x00\\x01\\x02\\x03\\x04'\n",
      "\u0000\u0001\u0002\u0003\u0004\n"
     ]
    }
   ],
   "source": [
    "# read binary file\n",
    "with open('example.bin', 'rb') as file:\n",
    "    print(file.read())                      # prints like b'Hell\\n1st line\\n\\n'\n",
    "\n",
    "# to print in new line without above junk\n",
    "with open('example.bin', 'rb') as file:\n",
    "    file_content: bytes = file.read()\n",
    "    for line in file_content.decode().splitlines():\n",
    "        print(line)"
   ]
  },
  {
   "cell_type": "code",
   "execution_count": 115,
   "metadata": {},
   "outputs": [
    {
     "name": "stdout",
     "output_type": "stream",
     "text": [
      "b'\\x00\\x01\\x02\\x03\\x04'\n"
     ]
    }
   ],
   "source": [
    "# write to a binary file\n",
    "data = b'\\x00\\x01\\x02\\x03\\x04'\n",
    "with open('example.bin', 'wb') as file:\n",
    "    file.write(data)\n",
    "\n",
    "with open('example.bin', 'rb') as file:\n",
    "    print(file.read())"
   ]
  },
  {
   "cell_type": "markdown",
   "metadata": {},
   "source": [
    "#### Read file from a source text file and write to a destination text file"
   ]
  },
  {
   "cell_type": "code",
   "execution_count": 116,
   "metadata": {},
   "outputs": [
    {
     "name": "stdout",
     "output_type": "stream",
     "text": [
      "1st line\n",
      "2nd line\n",
      "3rd line\n",
      "1st line\n",
      "2nd line\n",
      "3rd line\n",
      "1st line\n",
      "2nd line\n",
      "3rd line\n",
      "\n"
     ]
    }
   ],
   "source": [
    "with open('example.txt', 'r') as source_file:\n",
    "    file_content: str = source_file.read()\n",
    "    print(file_content)\n",
    "\n",
    "with open('destinaion_example.yml', 'w') as destination_file:\n",
    "    destination_file.write(file_content)"
   ]
  },
  {
   "cell_type": "markdown",
   "metadata": {},
   "source": [
    "#### Read a text file,\n",
    "        count no of lines\n",
    "\n",
    "        count no of words\n",
    "\n",
    "        count no of chars"
   ]
  },
  {
   "cell_type": "code",
   "execution_count": 117,
   "metadata": {},
   "outputs": [],
   "source": [
    "# to be taken from copilot, yet to understand & absorb - FUTURE SHIT\n"
   ]
  },
  {
   "cell_type": "markdown",
   "metadata": {},
   "source": [
    "#### \n",
    "    'w+': This mode opens a file for both writing and reading. If the file does not exist, it will be created. If the file already exists, its contents will be truncated (i.e., the file will be cleared)."
   ]
  },
  {
   "cell_type": "code",
   "execution_count": 120,
   "metadata": {},
   "outputs": [
    {
     "name": "stdout",
     "output_type": "stream",
     "text": [
      "This is just a sample line\n",
      "This is a 2nd sample line\n",
      "\n"
     ]
    }
   ],
   "source": [
    "with open('new_file_write.txt', 'w+') as new_file:\n",
    "    new_file.write('This is just a sample line\\n')\n",
    "    new_file.write('This is a 2nd sample line\\n')\n",
    "\n",
    "    new_file.seek(0)             # moves cursor to 1st position to read file from begining\n",
    "    print(new_file.read())"
   ]
  },
  {
   "cell_type": "code",
   "execution_count": null,
   "metadata": {},
   "outputs": [],
   "source": []
  }
 ],
 "metadata": {
  "kernelspec": {
   "display_name": ".venv",
   "language": "python",
   "name": "python3"
  },
  "language_info": {
   "codemirror_mode": {
    "name": "ipython",
    "version": 3
   },
   "file_extension": ".py",
   "mimetype": "text/x-python",
   "name": "python",
   "nbconvert_exporter": "python",
   "pygments_lexer": "ipython3",
   "version": "3.12.7"
  }
 },
 "nbformat": 4,
 "nbformat_minor": 2
}
