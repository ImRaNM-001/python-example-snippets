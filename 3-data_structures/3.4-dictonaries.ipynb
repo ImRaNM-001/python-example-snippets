{
 "cells": [
  {
   "cell_type": "markdown",
   "metadata": {},
   "source": [
    "#### Common functions of dictonary:\n",
    "\n",
    "- .items()\n",
    "\n",
    "- .get()\n",
    "\n",
    "- .keys()\n",
    "\n",
    "- .values()\n",
    "\n",
    "- .copy()"
   ]
  },
  {
   "cell_type": "code",
   "execution_count": 180,
   "metadata": {},
   "outputs": [
    {
     "name": "stdout",
     "output_type": "stream",
     "text": [
      "[] --> <class 'list'>\n",
      "set() --> <class 'set'>\n",
      "() --> <class 'tuple'>\n",
      "{} --> <class 'dict'>\n",
      "{} --> <class 'dict'>\n"
     ]
    }
   ],
   "source": [
    "emp_list: list = []\n",
    "emp_set: set = set()\n",
    "emp_tup: tuple = ()\n",
    "emp_dict: dict = {}\n",
    "\n",
    "emp_dict2: dict = dict()\n",
    "\n",
    "print(emp_list, f'-->', type(emp_list))\n",
    "print(emp_set, f'-->', type(emp_set))\n",
    "print(emp_tup, f'-->', type(emp_tup))\n",
    "print(emp_dict, f'-->', type(emp_dict))\n",
    "print(emp_dict2, f'-->', type(emp_dict2))"
   ]
  },
  {
   "cell_type": "code",
   "execution_count": 181,
   "metadata": {},
   "outputs": [
    {
     "data": {
      "text/plain": [
       "dict_items([])"
      ]
     },
     "execution_count": 181,
     "metadata": {},
     "output_type": "execute_result"
    }
   ],
   "source": [
    "emp_dict2.items()"
   ]
  },
  {
   "cell_type": "code",
   "execution_count": 182,
   "metadata": {},
   "outputs": [
    {
     "name": "stdout",
     "output_type": "stream",
     "text": [
      "{'name': 'John Doe', 'age': 21, 'grade': 85}\n",
      "<class 'dict'>\n"
     ]
    }
   ],
   "source": [
    "student: dict[str, object] = {\n",
    "    'name': 'John Doe',\n",
    "    'age': 21,\n",
    "    'grade': 85\n",
    "}\n",
    "\n",
    "print(student)\n",
    "print(type(student))"
   ]
  },
  {
   "cell_type": "code",
   "execution_count": 183,
   "metadata": {},
   "outputs": [
    {
     "name": "stdout",
     "output_type": "stream",
     "text": [
      "{'name': 'Poe', 'age': 21}\n"
     ]
    }
   ],
   "source": [
    "# single key is always used to encourage unique keys of no-sql db\n",
    "\n",
    "student2: dict[str, object] = {\n",
    "    'name': 'John Doe',\n",
    "    'age': 21,\n",
    "    'name': 'Poe'\n",
    "}\n",
    "\n",
    "# 'name' is overriden & prints {'name': 'Poe', 'age': 21}\n",
    "print(student2)"
   ]
  },
  {
   "cell_type": "markdown",
   "metadata": {},
   "source": [
    "#### Accessing dictonary elements\n",
    "\n",
    "- via [] brackets\n",
    "\n",
    "- via .get() method"
   ]
  },
  {
   "cell_type": "code",
   "execution_count": 184,
   "metadata": {},
   "outputs": [
    {
     "name": "stdout",
     "output_type": "stream",
     "text": [
      "John Doe\n",
      "21\n",
      "85\n"
     ]
    }
   ],
   "source": [
    "print(student['name'])\n",
    "print(student['age'])\n",
    "print(student['grade'])"
   ]
  },
  {
   "cell_type": "code",
   "execution_count": 185,
   "metadata": {},
   "outputs": [
    {
     "name": "stdout",
     "output_type": "stream",
     "text": [
      "John Doe\n",
      "85\n",
      "None\n",
      "Yeh 'Key' Nhi Hai Bhidu.....kuch aur soch!!\n"
     ]
    }
   ],
   "source": [
    "print(student.get('name'))\n",
    "print(student.get('grade'))\n",
    "# prints None if a invalid key is written inside get()\n",
    "print(student.get('last_name'))\n",
    "print(student.get('last_name', 'Yeh \\'Key\\' Nhi Hai Bhidu.....kuch aur soch!!'))"
   ]
  },
  {
   "cell_type": "markdown",
   "metadata": {},
   "source": [
    "#### Modifying dictonary elements\n",
    "\n",
    "- dictonary are mutable --> we can add, update or delete elements"
   ]
  },
  {
   "cell_type": "code",
   "execution_count": 186,
   "metadata": {},
   "outputs": [
    {
     "name": "stdout",
     "output_type": "stream",
     "text": [
      "{'name': 'John Doe', 'age': 54, 'grade': 85}\n",
      "{'name': 'John Doe', 'age': 54, 'grade': 85, 'address': '53rd Rockko St. Thressa'}\n"
     ]
    }
   ],
   "source": [
    "student['age'] = 54             # updated existing value\n",
    "print(student)\n",
    "student['address'] = '53rd Rockko St. Thressa'          # added a new <k, v>\n",
    "print(student)"
   ]
  },
  {
   "cell_type": "code",
   "execution_count": 187,
   "metadata": {},
   "outputs": [
    {
     "name": "stdout",
     "output_type": "stream",
     "text": [
      "{'name': 'John Doe', 'age': 54, 'address': '53rd Rockko St. Thressa'}\n"
     ]
    }
   ],
   "source": [
    "del student['grade']\n",
    "print(student)"
   ]
  },
  {
   "cell_type": "markdown",
   "metadata": {},
   "source": [
    "#### Common dictonary methods"
   ]
  },
  {
   "cell_type": "code",
   "execution_count": 188,
   "metadata": {},
   "outputs": [
    {
     "name": "stdout",
     "output_type": "stream",
     "text": [
      "dict_keys(['name', 'age', 'address'])\n",
      "dict_values(['John Doe', 54, '53rd Rockko St. Thressa'])\n",
      "dict_items([('name', 'John Doe'), ('age', 54), ('address', '53rd Rockko St. Thressa')])\n"
     ]
    }
   ],
   "source": [
    "print(student.keys())\n",
    "print(student.values())\n",
    "# prints entire dictonary in the form of list of tuples)\n",
    "print(student.items())"
   ]
  },
  {
   "cell_type": "markdown",
   "metadata": {},
   "source": [
    "#### Shallow Copy"
   ]
  },
  {
   "cell_type": "code",
   "execution_count": 189,
   "metadata": {},
   "outputs": [
    {
     "name": "stdout",
     "output_type": "stream",
     "text": [
      "{'name': 'John Doe', 'age': 54, 'address': '53rd Rockko St. Thressa'}\n",
      "{'name': 'John Doe', 'age': 54, 'address': '53rd Rockko St. Thressa', 'grade': 'ek dum fail'}\n",
      "{'name': 'John Doe', 'age': 54, 'address': '53rd Rockko St. Thressa', 'grade': 'ek dum fail'}\n"
     ]
    }
   ],
   "source": [
    "student_duplicate: dict[str, object] = student\n",
    "print(student)\n",
    "\n",
    "student_duplicate['grade'] = 'ek dum fail'\n",
    "print(student_duplicate)\n",
    "# student dictonary shares memory location of student_duplicate, hence takes changes done on other dictonary automatically\n",
    "print(student)"
   ]
  },
  {
   "cell_type": "code",
   "execution_count": 190,
   "metadata": {},
   "outputs": [
    {
     "name": "stdout",
     "output_type": "stream",
     "text": [
      "{'name': 'John Doe', 'age': 54, 'address': '53rd Rockko St. Thressa', 'grade': 'ek dum fail'}\n",
      "{'name': 'John Doe', 'age': 54, 'address': '53rd Rockko St. Thressa', 'grade': 'chalo ji ho gya paas launda isbar'}\n"
     ]
    }
   ],
   "source": [
    "student_copied: dict[str, object] = student.copy()              # shallow copy\n",
    "student_copied['grade'] = 'chalo ji ho gya paas launda isbar'\n",
    "\n",
    "print(student)\n",
    "print(student_copied)"
   ]
  },
  {
   "cell_type": "markdown",
   "metadata": {},
   "source": [
    "#### Iterating over dictonaries\n",
    "\n",
    "- iterate over keys using for loop\n",
    "\n",
    "- iterate over values using for loop\n",
    "\n",
    "- iterate over keys using for <k, v> pairs"
   ]
  },
  {
   "cell_type": "code",
   "execution_count": 191,
   "metadata": {},
   "outputs": [
    {
     "name": "stdout",
     "output_type": "stream",
     "text": [
      "name\n",
      "age\n",
      "address\n",
      "grade\n"
     ]
    }
   ],
   "source": [
    "each_key: str\n",
    "for each_key in student_copied.keys():\n",
    "    print(each_key)"
   ]
  },
  {
   "cell_type": "code",
   "execution_count": 192,
   "metadata": {},
   "outputs": [
    {
     "name": "stdout",
     "output_type": "stream",
     "text": [
      "John Doe\n",
      "54\n",
      "53rd Rockko St. Thressa\n",
      "chalo ji ho gya paas launda isbar\n"
     ]
    }
   ],
   "source": [
    "each_vals: str\n",
    "for each_vals in student_copied.values():\n",
    "    print(each_vals)"
   ]
  },
  {
   "cell_type": "code",
   "execution_count": 193,
   "metadata": {},
   "outputs": [
    {
     "name": "stdout",
     "output_type": "stream",
     "text": [
      " name: John Doe\n",
      " age: 54\n",
      " address: 53rd Rockko St. Thressa\n",
      " grade: ek dum fail\n"
     ]
    }
   ],
   "source": [
    "for each_key, each_vals in student.items():\n",
    "    print(f' {each_key}: {each_vals}')"
   ]
  },
  {
   "cell_type": "markdown",
   "metadata": {},
   "source": [
    "#### Nested dictonaries\n",
    "- and iterate over them"
   ]
  },
  {
   "cell_type": "code",
   "execution_count": 194,
   "metadata": {},
   "outputs": [
    {
     "name": "stdout",
     "output_type": "stream",
     "text": [
      "Sarah\n",
      "24\n"
     ]
    }
   ],
   "source": [
    "students_batch: dict[str, dict[str, object]] = {\n",
    "    '_1st_student': {\n",
    "        'name': 'Sarah',\n",
    "        'age': 19\n",
    "    },\n",
    "    '_2nd_student': {\n",
    "        'name': 'Bill',\n",
    "        'age': 24\n",
    "    }\n",
    "}\n",
    "\n",
    "print(students_batch['_1st_student']['name'])\n",
    "print(students_batch['_2nd_student']['age'])"
   ]
  },
  {
   "cell_type": "code",
   "execution_count": 195,
   "metadata": {},
   "outputs": [
    {
     "data": {
      "text/plain": [
       "dict_items([('_1st_student', {'name': 'Sarah', 'age': 19}), ('_2nd_student', {'name': 'Bill', 'age': 24})])"
      ]
     },
     "execution_count": 195,
     "metadata": {},
     "output_type": "execute_result"
    }
   ],
   "source": [
    "students_batch.items()"
   ]
  },
  {
   "cell_type": "code",
   "execution_count": 196,
   "metadata": {},
   "outputs": [
    {
     "name": "stdout",
     "output_type": "stream",
     "text": [
      "_1st_student: {'name': 'Sarah', 'age': 19}\n",
      " name: Sarah\n",
      " age: 19\n",
      "\n",
      "_2nd_student: {'name': 'Bill', 'age': 24}\n",
      " name: Bill\n",
      " age: 24\n",
      "\n"
     ]
    }
   ],
   "source": [
    "for each_student, each_student_info in students_batch.items():\n",
    "    print(f'{each_student}: {each_student_info}')\n",
    "    for each_key, each_vals in each_student_info.items():\n",
    "        print(f' {each_key}: {each_vals}')\n",
    "    print()"
   ]
  },
  {
   "cell_type": "markdown",
   "metadata": {},
   "source": [
    "#### Dictonary Comprehension\n",
    "\n",
    "- Ex:1 - find squares of num 0 to 5\n",
    "\n",
    "- Ex:2 - find squares of only even num 0 to 10"
   ]
  },
  {
   "cell_type": "code",
   "execution_count": 197,
   "metadata": {},
   "outputs": [
    {
     "name": "stdout",
     "output_type": "stream",
     "text": [
      "{0: 0, 1: 1, 2: 4, 3: 9, 4: 16}\n"
     ]
    }
   ],
   "source": [
    "# Ex:1\n",
    "\n",
    "squares: dict[int, object] = {\n",
    "    x: x ** 2\n",
    "    for x in range(5)\n",
    "}\n",
    "print(squares)"
   ]
  },
  {
   "cell_type": "code",
   "execution_count": 198,
   "metadata": {},
   "outputs": [
    {
     "name": "stdout",
     "output_type": "stream",
     "text": [
      "{2: 4, 4: 16, 6: 36, 8: 64}\n",
      "\n",
      "{\n",
      " 2: 4 \n",
      " 4: 16 \n",
      " 6: 36 \n",
      " 8: 64 \n",
      "}\n"
     ]
    }
   ],
   "source": [
    "# Ex:2\n",
    "\n",
    "even_num: dict[int, int] = {\n",
    "    x: x ** 2\n",
    "    for x in range(1, 10)\n",
    "    if x % 2 == 0\n",
    "}\n",
    "print(even_num)\n",
    "\n",
    "print('\\n{')\n",
    "for each_key, each_value in even_num.items():\n",
    "    print(f' {each_key}: {each_value} ')\n",
    "print('}')"
   ]
  },
  {
   "cell_type": "markdown",
   "metadata": {},
   "source": [
    "#### Another practical example:\n",
    "- use dictonary to count num of elements in a list"
   ]
  },
  {
   "cell_type": "code",
   "execution_count": 199,
   "metadata": {},
   "outputs": [
    {
     "name": "stdout",
     "output_type": "stream",
     "text": [
      "{11: 1, 22: 2, 33: 3, 44: 4}\n"
     ]
    }
   ],
   "source": [
    "numbers: list[int] = [11, 22, 22, 33, 33, 33, 44, 44, 44, 44]\n",
    "frequency: dict = {}\n",
    "\n",
    "each_num: int\n",
    "for each_num in numbers:\n",
    "    if each_num in frequency:           # if each_num is present in the frequency dictonary\n",
    "        # take frequency of that num & keep incrementing it\n",
    "        frequency[each_num] += 1\n",
    "    else:\n",
    "        frequency[each_num] = 1\n",
    "print(frequency)"
   ]
  },
  {
   "cell_type": "markdown",
   "metadata": {},
   "source": [
    "#### Merge 2 dictonaries\n",
    "\n",
    "- Ex1: merge the values of common keys using unpacking - later value is only seen\n",
    "\n",
    "- Ex2: maintain all the values of the common key in a list\n"
   ]
  },
  {
   "cell_type": "code",
   "execution_count": 200,
   "metadata": {},
   "outputs": [
    {
     "name": "stdout",
     "output_type": "stream",
     "text": [
      "{'d': 1, 'e': 3, 'f': 4}\n"
     ]
    }
   ],
   "source": [
    "# Ex: 1\n",
    "\n",
    "dict1 = {\n",
    "    'd': 1,\n",
    "    'e': 2\n",
    "}\n",
    "dict2 = {\n",
    "    'e': 3,\n",
    "    'f': 4\n",
    "}\n",
    "\n",
    "merge_dicto: dict[str, int] = {\n",
    "    ** dict1,\n",
    "    ** dict2\n",
    "}\n",
    "print(merge_dicto)"
   ]
  },
  {
   "cell_type": "code",
   "execution_count": 201,
   "metadata": {},
   "outputs": [
    {
     "name": "stdout",
     "output_type": "stream",
     "text": [
      "{'a': 1, 'b': [2, 3], 'c': 4}\n"
     ]
    }
   ],
   "source": [
    "# Ex:2\n",
    "\n",
    "dict1 = {\n",
    "    'a': 1,\n",
    "    'b': 2\n",
    "}\n",
    "dict2 = {\n",
    "    'b': 3,\n",
    "    'c': 4\n",
    "}\n",
    "\n",
    "# merged_dict = dict1.copy()  # Start with a copy of dict1\n",
    "for each_key, each_val in dict2.items():\n",
    "    if each_key in dict1:\n",
    "        dict1[each_key] = [dict1[each_key], each_val]  # Combine values into a list\n",
    "    else:\n",
    "        dict1[each_key] = each_val\n",
    "\n",
    "print(dict1)"
   ]
  },
  {
   "cell_type": "code",
   "execution_count": 1,
   "metadata": {},
   "outputs": [
    {
     "ename": "NameError",
     "evalue": "name '__file__' is not defined",
     "output_type": "error",
     "traceback": [
      "\u001b[0;31m---------------------------------------------------------------------------\u001b[0m",
      "\u001b[0;31mNameError\u001b[0m                                 Traceback (most recent call last)",
      "Cell \u001b[0;32mIn[1], line 2\u001b[0m\n\u001b[1;32m      1\u001b[0m \u001b[38;5;28;01mfrom\u001b[39;00m \u001b[38;5;21;01mpathlib\u001b[39;00m \u001b[38;5;28;01mimport\u001b[39;00m Path\n\u001b[0;32m----> 2\u001b[0m \u001b[38;5;28mprint\u001b[39m(Path(\u001b[38;5;18;43m__file__\u001b[39;49m)\u001b[38;5;241m.\u001b[39mparent)\n",
      "\u001b[0;31mNameError\u001b[0m: name '__file__' is not defined"
     ]
    }
   ],
   "source": []
  }
 ],
 "metadata": {
  "kernelspec": {
   "display_name": ".venv",
   "language": "python",
   "name": "python3"
  },
  "language_info": {
   "codemirror_mode": {
    "name": "ipython",
    "version": 3
   },
   "file_extension": ".py",
   "mimetype": "text/x-python",
   "name": "python",
   "nbconvert_exporter": "python",
   "pygments_lexer": "ipython3",
   "version": "3.12.7"
  }
 },
 "nbformat": 4,
 "nbformat_minor": 2
}
