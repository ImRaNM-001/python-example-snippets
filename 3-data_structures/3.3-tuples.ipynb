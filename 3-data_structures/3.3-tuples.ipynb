{
 "cells": [
  {
   "cell_type": "markdown",
   "metadata": {},
   "source": [
    "#### Tuple Methods - most common methods as follows\n",
    "\n",
    "- .count(elem) --> counts the no. of elements present in a tuple\n",
    "\n",
    "- .index(n) --> gets what element is present in the nth index"
   ]
  },
  {
   "cell_type": "markdown",
   "metadata": {},
   "source": [
    "#### empty tuple"
   ]
  },
  {
   "cell_type": "code",
   "execution_count": 1,
   "metadata": {},
   "outputs": [
    {
     "data": {
      "text/plain": [
       "tuple"
      ]
     },
     "execution_count": 1,
     "metadata": {},
     "output_type": "execute_result"
    }
   ],
   "source": [
    "empty_tuple: tuple = ()\n",
    "type(empty_tuple)"
   ]
  },
  {
   "cell_type": "code",
   "execution_count": 2,
   "metadata": {},
   "outputs": [
    {
     "name": "stdout",
     "output_type": "stream",
     "text": [
      "()\n",
      "<class 'tuple'>\n"
     ]
    }
   ],
   "source": [
    "print(empty_tuple)\n",
    "print(type(empty_tuple))"
   ]
  },
  {
   "cell_type": "code",
   "execution_count": 3,
   "metadata": {},
   "outputs": [
    {
     "name": "stdout",
     "output_type": "stream",
     "text": [
      "(3, 5, 7, 9, 13)\n",
      "[3, 9, 27, 81]\n"
     ]
    }
   ],
   "source": [
    " # converted list to tuple\n",
    "num: tuple[int, ...] = tuple([3, 5, 7, 9, 13])\n",
    "print(num)\n",
    "\n",
    "# and tuple to a list \n",
    "print(list((3, 9, 27, 81)))\n"
   ]
  },
  {
   "cell_type": "code",
   "execution_count": 4,
   "metadata": {},
   "outputs": [
    {
     "data": {
      "text/plain": [
       "\" ## sample code to check effectiveness of nbqa & mypy in .ipynb files\\n\\n# from typing import List\\nfaltu_list: list[int] = list([3, 5, 7, 9, 13])\\n\\nfaltu_list.append('17')\\nfaltu_list[2]='hi'\\n\\nprint(faltu_list)   \""
      ]
     },
     "execution_count": 4,
     "metadata": {},
     "output_type": "execute_result"
    }
   ],
   "source": [
    "''' ## sample code to check effectiveness of nbqa & mypy in .ipynb files\n",
    "\n",
    "# from typing import List\n",
    "faltu_list: list[int] = list([3, 5, 7, 9, 13])\n",
    "\n",
    "faltu_list.append('17')\n",
    "faltu_list[2]='hi'\n",
    "\n",
    "print(faltu_list)   '''"
   ]
  },
  {
   "cell_type": "markdown",
   "metadata": {},
   "source": [
    "#### mixed tuple"
   ]
  },
  {
   "cell_type": "code",
   "execution_count": 5,
   "metadata": {},
   "outputs": [
    {
     "data": {
      "text/plain": [
       "tuple"
      ]
     },
     "execution_count": 5,
     "metadata": {},
     "output_type": "execute_result"
    }
   ],
   "source": [
    "mixed_tuple: tuple[int, str, float, bool] = (4, 'Bob', 3.14, True)\n",
    "type(mixed_tuple)"
   ]
  },
  {
   "cell_type": "code",
   "execution_count": 6,
   "metadata": {},
   "outputs": [
    {
     "name": "stdout",
     "output_type": "stream",
     "text": [
      "(4, 'Bob', 3.14, True)\n"
     ]
    }
   ],
   "source": [
    "print(mixed_tuple)"
   ]
  },
  {
   "cell_type": "markdown",
   "metadata": {},
   "source": [
    "#### Accessing tuple elements"
   ]
  },
  {
   "cell_type": "code",
   "execution_count": 7,
   "metadata": {},
   "outputs": [
    {
     "data": {
      "text/plain": [
       "3.14"
      ]
     },
     "execution_count": 7,
     "metadata": {},
     "output_type": "execute_result"
    }
   ],
   "source": [
    "mixed_tuple[2]\n",
    "# print(mixed_tuple[2])"
   ]
  },
  {
   "cell_type": "code",
   "execution_count": 8,
   "metadata": {},
   "outputs": [
    {
     "name": "stdout",
     "output_type": "stream",
     "text": [
      "True\n"
     ]
    }
   ],
   "source": [
    "print(mixed_tuple[-1])          # gets the last element of the tuple"
   ]
  },
  {
   "cell_type": "markdown",
   "metadata": {},
   "source": [
    "#### other ways to access elements"
   ]
  },
  {
   "cell_type": "code",
   "execution_count": 9,
   "metadata": {},
   "outputs": [
    {
     "data": {
      "text/plain": [
       "(4, 'Bob', 3.14, True)"
      ]
     },
     "execution_count": 9,
     "metadata": {},
     "output_type": "execute_result"
    }
   ],
   "source": [
    "mixed_tuple[0:4]        # or writing mixed_tuple[0:5] where 5th element not present still accepts and prints entire tuple, this is called slicing operation - starts from oth index and goes upto 4th index and ignores 4th index"
   ]
  },
  {
   "cell_type": "code",
   "execution_count": 10,
   "metadata": {},
   "outputs": [
    {
     "data": {
      "text/plain": [
       "(True, 3.14, 'Bob', 4)"
      ]
     },
     "execution_count": 10,
     "metadata": {},
     "output_type": "execute_result"
    }
   ],
   "source": [
    "mixed_tuple[::-1]    # prints the tuple in reverse order"
   ]
  },
  {
   "cell_type": "markdown",
   "metadata": {},
   "source": [
    "#### using keyword tuple(), initializing tuple"
   ]
  },
  {
   "cell_type": "code",
   "execution_count": 11,
   "metadata": {},
   "outputs": [
    {
     "name": "stdout",
     "output_type": "stream",
     "text": [
      "('H', 'e', 'y')\n"
     ]
    }
   ],
   "source": [
    "tuple_ex: tuple[str] = tuple('Hey')\n",
    "print(tuple_ex)"
   ]
  },
  {
   "cell_type": "markdown",
   "metadata": {},
   "source": [
    "#### Tuple Operations"
   ]
  },
  {
   "cell_type": "code",
   "execution_count": 12,
   "metadata": {},
   "outputs": [
    {
     "data": {
      "text/plain": [
       "(3, 5, 7, 9, 13, 'H', 'e', 'y', 4, 'Bob', 3.14, True)"
      ]
     },
     "execution_count": 12,
     "metadata": {},
     "output_type": "execute_result"
    }
   ],
   "source": [
    "num + tuple_ex + mixed_tuple            # concatenating all previous tuples"
   ]
  },
  {
   "cell_type": "code",
   "execution_count": 13,
   "metadata": {},
   "outputs": [
    {
     "data": {
      "text/plain": [
       "(4, 'Bob', 3.14, True, 4, 'Bob', 3.14, True)"
      ]
     },
     "execution_count": 13,
     "metadata": {},
     "output_type": "execute_result"
    }
   ],
   "source": [
    "mixed_tuple * 2"
   ]
  },
  {
   "cell_type": "markdown",
   "metadata": {},
   "source": [
    "#### Immutable nature of tuples\n",
    "\n",
    "- elements of tuple can't be changed once assigned\n",
    "\n",
    "- ways to do: take the tuple & convert it to a list, make changes and convert it back to a tuple"
   ]
  },
  {
   "cell_type": "code",
   "execution_count": 14,
   "metadata": {},
   "outputs": [
    {
     "name": "stdout",
     "output_type": "stream",
     "text": [
      "[2, 4, 7]\n",
      "[2, 0, 7]\n"
     ]
    },
    {
     "ename": "TypeError",
     "evalue": "'tuple' object does not support item assignment",
     "output_type": "error",
     "traceback": [
      "\u001b[0;31m---------------------------------------------------------------------------\u001b[0m",
      "\u001b[0;31mTypeError\u001b[0m                                 Traceback (most recent call last)",
      "Cell \u001b[0;32mIn[14], line 11\u001b[0m\n\u001b[1;32m      7\u001b[0m \u001b[38;5;28mprint\u001b[39m(list_mut)         \u001b[38;5;66;03m# changed list to [2, 0, 7]\u001b[39;00m\n\u001b[1;32m     10\u001b[0m tup_immut: \u001b[38;5;28mtuple\u001b[39m[\u001b[38;5;28mint\u001b[39m, \u001b[38;5;28mstr\u001b[39m, \u001b[38;5;28mbool\u001b[39m, \u001b[38;5;28;01mNone\u001b[39;00m] \u001b[38;5;241m=\u001b[39m (\u001b[38;5;241m3\u001b[39m, \u001b[38;5;124m'\u001b[39m\u001b[38;5;124mNO\u001b[39m\u001b[38;5;124m'\u001b[39m, \u001b[38;5;28;01mFalse\u001b[39;00m, \u001b[38;5;28;01mNone\u001b[39;00m)\n\u001b[0;32m---> 11\u001b[0m \u001b[43mtup_immut\u001b[49m\u001b[43m[\u001b[49m\u001b[38;5;241;43m2\u001b[39;49m\u001b[43m]\u001b[49m \u001b[38;5;241m=\u001b[39m \u001b[38;5;124m'\u001b[39m\u001b[38;5;124mHey\u001b[39m\u001b[38;5;124m'\u001b[39m\n\u001b[1;32m     13\u001b[0m \u001b[38;5;28mprint\u001b[39m(tup_immut)\n",
      "\u001b[0;31mTypeError\u001b[0m: 'tuple' object does not support item assignment"
     ]
    }
   ],
   "source": [
    "# ex: for a list, it is mutable\n",
    "\n",
    "list_mut: list[int] = list([2, 4, 7])\n",
    "print(list_mut)\n",
    "\n",
    "list_mut[1] = 0\n",
    "print(list_mut)         # changed list to [2, 0, 7]\n",
    "\n",
    "\n",
    "tup_immut: tuple[int, str, bool, None] = (3, 'NO', False, None)\n",
    "tup_immut[2] = 'Hey'\n",
    "\n",
    "print(tup_immut)"
   ]
  },
  {
   "cell_type": "code",
   "execution_count": null,
   "metadata": {},
   "outputs": [
    {
     "name": "stdout",
     "output_type": "stream",
     "text": [
      "[3, 'NO', False, None]\n",
      "[3, 'NO', 'Hey - I changed this element', None]\n",
      "(3, 'NO', 'Hey - I changed this element', None)\n"
     ]
    }
   ],
   "source": [
    "converted_list: list[int | str | bool | None] = list(tup_immut)\n",
    "print(converted_list)               # prints [3, 'NO', False, None]\n",
    "\n",
    "converted_list[2] = 'Hey - I changed this element'\n",
    "print(converted_list)\n",
    "\n",
    "# converting to a tuple and printing it\n",
    "converted_tuple: tuple[int, str, str, None] = tuple(converted_list)\n",
    "print(converted_tuple)"
   ]
  },
  {
   "cell_type": "markdown",
   "metadata": {},
   "source": [
    "#### Tuple Methods - most common methods - (drawn reference from top cell)\n",
    "\n",
    "- .count(elem) --> counts the no. of elements present in a tuple\n",
    "\n",
    "- .index(n) --> gets what element is present in the nth index"
   ]
  },
  {
   "cell_type": "code",
   "execution_count": 15,
   "metadata": {},
   "outputs": [
    {
     "name": "stdout",
     "output_type": "stream",
     "text": [
      "(3, 5, 7, 9, 13)\n",
      "2\n",
      "1\n",
      "0\n"
     ]
    }
   ],
   "source": [
    "num2: tuple[int, ...] = tuple([3, 5, 7, 9, 13, 3])       \n",
    "print(num)\n",
    "\n",
    "print(num2.count(3))\n",
    "print(num2.count(9))\n",
    "print(num2.count(17))"
   ]
  },
  {
   "cell_type": "code",
   "execution_count": null,
   "metadata": {},
   "outputs": [
    {
     "name": "stdout",
     "output_type": "stream",
     "text": [
      "4\n"
     ]
    }
   ],
   "source": [
    "print(num2.index(13))\n",
    "# print(num2.index(133))      # will throw an error as 133 is not present in the num2 tuple"
   ]
  },
  {
   "cell_type": "markdown",
   "metadata": {},
   "source": [
    "#### Packing & Unpacking tuple"
   ]
  },
  {
   "cell_type": "code",
   "execution_count": null,
   "metadata": {},
   "outputs": [
    {
     "name": "stdout",
     "output_type": "stream",
     "text": [
      "('si', 4.88, 89, False)\n",
      "si\n",
      "4.88\n",
      "89\n",
      "False\n"
     ]
    }
   ],
   "source": [
    "# pack\n",
    "packed_tup: tuple[str, float, int, bool] = 'si', 4.88, 89, False        # basically writing without any paranthesis\n",
    "print(packed_tup)\n",
    "\n",
    "# unpack\n",
    "a, b, c, d = packed_tup\n",
    "print(a)    \n",
    "print(b)    \n",
    "print(c)    \n",
    "print(d)    "
   ]
  },
  {
   "cell_type": "code",
   "execution_count": null,
   "metadata": {},
   "outputs": [
    {
     "name": "stdout",
     "output_type": "stream",
     "text": [
      "11\n",
      "[33, 55, 88, 99]\n",
      "51\n"
     ]
    }
   ],
   "source": [
    "# unpacking with * operator\n",
    "\n",
    "_1st, *_2nd, _3rd = (11, 33, 55, 88, 99, 51)\n",
    "print(_1st)\n",
    "print(_2nd)\n",
    "print(_3rd)"
   ]
  },
  {
   "cell_type": "markdown",
   "metadata": {},
   "source": [
    "#### Nested Tuple"
   ]
  },
  {
   "cell_type": "code",
   "execution_count": 23,
   "metadata": {},
   "outputs": [
    {
     "name": "stdout",
     "output_type": "stream",
     "text": [
      "7\n",
      "[7, 2, 3]\n",
      "['bob', True]\n",
      "((1, 2, 3), ('a', 'b', 'c'), (True, False))\n",
      "(1, 2, 3)\n",
      "3\n",
      "('b', 'c')\n",
      "(True,)\n",
      "(False,)\n",
      "(False,)\n"
     ]
    }
   ],
   "source": [
    "# nested list - ignore seeing types when doing revision to avoid get overwhelmed\n",
    "\n",
    "list_of_elem: list[list[int], list[int], list[str | bool | float]] = [ [7, 2, 3, 4],   [0, 9, 8],  ['1', 'bob', True, 89.34] ]\n",
    "print(list_of_elem[0][0])\n",
    "print(list_of_elem[0][0:3])      # starts from 0th index and goes till 3rd index and ignore 3rd index\n",
    "\n",
    "print(list_of_elem[2][1:3])       # starts from 1st index and goes till 3rd index and ignore 3rd index\n",
    "\n",
    "\n",
    "# nested tuple\n",
    "tup_of_tup: tuple[tuple[int, ...], tuple[str, ...], tuple[bool, bool]] = ( (1, 2, 3),   ('a', 'b', 'c'),    (True, False) )\n",
    "\n",
    "print(tup_of_tup)\n",
    "print(tup_of_tup[0])\n",
    "print(tup_of_tup[0][2])\n",
    "# print(tup_of_tup[0][3])         # will throw an error as 3rd index is not present - IndexError: tuple index out of range\n",
    "\n",
    "print(tup_of_tup[1][1:3])\n",
    "\n",
    "print(tup_of_tup[2][0:1])\n",
    "print(tup_of_tup[2][1::2])          # starts from 2nd element >> 1st element which is \"False\" and skips 2 element henceforth\n",
    "print(tup_of_tup[2][1:2])\n"
   ]
  },
  {
   "cell_type": "markdown",
   "metadata": {},
   "source": [
    "#### Iterating through a nested tuple"
   ]
  },
  {
   "cell_type": "code",
   "execution_count": null,
   "metadata": {},
   "outputs": [
    {
     "name": "stdout",
     "output_type": "stream",
     "text": [
      "1 2 3 \n",
      "a b c \n",
      "True False \n"
     ]
    }
   ],
   "source": [
    "for sub_tuple in tup_of_tup:\n",
    "    for each_item in sub_tuple:\n",
    "        print(each_item, end = ' ')\n",
    "    print()\n"
   ]
  },
  {
   "cell_type": "code",
   "execution_count": null,
   "metadata": {},
   "outputs": [],
   "source": []
  }
 ],
 "metadata": {
  "kernelspec": {
   "display_name": ".venv",
   "language": "python",
   "name": "python3"
  },
  "language_info": {
   "codemirror_mode": {
    "name": "ipython",
    "version": 3
   },
   "file_extension": ".py",
   "mimetype": "text/x-python",
   "name": "python",
   "nbconvert_exporter": "python",
   "pygments_lexer": "ipython3",
   "version": "3.12.7"
  }
 },
 "nbformat": 4,
 "nbformat_minor": 2
}
