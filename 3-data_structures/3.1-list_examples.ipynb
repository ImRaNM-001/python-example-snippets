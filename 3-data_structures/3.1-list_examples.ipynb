{
 "cells": [
  {
   "cell_type": "markdown",
   "metadata": {
    "vscode": {
     "languageId": "bat"
    }
   },
   "source": [
    "#### Common functions of list:\n",
    "\n",
    "- .append()\n",
    "\n",
    "- .remove()\n",
    "\n",
    "- .max()\n",
    "\n",
    "- .min()"
   ]
  },
  {
   "cell_type": "markdown",
   "metadata": {},
   "source": [
    "#### Ex:1 Manage a To-Do list\n",
    "\n",
    "- create a to_do list to keep track of tasks"
   ]
  },
  {
   "cell_type": "code",
   "execution_count": 6,
   "metadata": {},
   "outputs": [
    {
     "name": "stdout",
     "output_type": "stream",
     "text": [
      "Initial Tasks are:  ['Buy Groceries', 'Do The Dishes', 'Do Laundry', 'Pay The Bills'] \n",
      "\n",
      "Reminder! Do Not forget to Go For A Walk\n",
      "Active Tasks are:\n",
      "\n",
      "- Buy Groceries\n",
      "- Do The Dishes\n",
      "- Pay The Bills\n",
      "- Cook The Dinner\n",
      "- Go For A Walk\n"
     ]
    }
   ],
   "source": [
    "to_do_list: list[str] = ['Buy Groceries', 'Do The Dishes', 'Do Laundry', 'Pay The Bills']\n",
    "print(f'Initial Tasks are: ', to_do_list, '\\n')\n",
    "\n",
    "to_do_list.append('Cook The Dinner')\n",
    "to_do_list.append('Go For A Walk')\n",
    "to_do_list.remove('Do Laundry')\n",
    "\n",
    "# if 'Pay The Bills' in to_do_list:\n",
    "#     print(f'Reminder! Do Not forget to {to_do_list[4]}\\n')\n",
    "\n",
    "print(f'Reminder! Do Not forget to {to_do_list[4]}' if 'Pay The Bills' in to_do_list else '')        \n",
    "\n",
    "task: str\n",
    "print(f'Active Tasks are:\\n')\n",
    "\n",
    "for task in to_do_list:\n",
    "    print(f'- {task}')    "
   ]
  },
  {
   "cell_type": "markdown",
   "metadata": {},
   "source": [
    "#### Ex:2 Organizing Student Grades\n",
    "\n",
    "- create a list to store and calculate average grades for students"
   ]
  },
  {
   "cell_type": "code",
   "execution_count": 7,
   "metadata": {},
   "outputs": [
    {
     "name": "stdout",
     "output_type": "stream",
     "text": [
      "70\n",
      "88\n",
      "93\n",
      "87\n",
      "92\n",
      "81\n",
      "Average Grade is: 85.167\n",
      "\n",
      "Highest Grade is: 93 \n",
      "while Lowest Grade is: 70\n"
     ]
    }
   ],
   "source": [
    "grades: list[int] = [70, 88, 93, 87, 92]\n",
    "\n",
    "grades.append(81)\n",
    "\n",
    "grade: int\n",
    "for grade in grades:\n",
    "    print(f'{grade}')\n",
    "\n",
    "avg_grade: float = sum(grades) / len(grades)\n",
    "print(f'Average Grade is: {avg_grade:.3f}\\n')\n",
    "\n",
    "# compute highest & lowest grades\n",
    "highest_grade:int = max(grades)\n",
    "lowest_grade:int = min(grades)\n",
    "\n",
    "print(f'Highest Grade is: {highest_grade} \\nwhile Lowest Grade is: {lowest_grade}')\n",
    "\n",
    "\n"
   ]
  },
  {
   "cell_type": "markdown",
   "metadata": {},
   "source": [
    "#### Managing an inventory\n",
    "\n",
    "- use a list to manage inventory items in a store"
   ]
  },
  {
   "cell_type": "code",
   "execution_count": 8,
   "metadata": {},
   "outputs": [
    {
     "name": "stdout",
     "output_type": "stream",
     "text": [
      "Helmets are not in stock\n",
      "\n",
      "Inventory List:\n",
      "\n",
      "- Bats\n",
      "- Balls\n",
      "- Gloves\n",
      "- Pads\n",
      "- Shoes\n"
     ]
    }
   ],
   "source": [
    "inventory: list[str] = ['Bats', 'Balls', 'Gloves', 'Helmets', 'Pads']\n",
    "\n",
    "inventory.append('Shoes')\n",
    "inventory.remove('Helmets')\n",
    "\n",
    "# check if an item is in stock\n",
    "item: str = 'Helmets'\n",
    "# if item in inventory:\n",
    "#     print(f'{item} are in stock\\n')\n",
    "# else:\n",
    "#     print(f'{item} are not in stock\\n')\n",
    "\n",
    "print(f'{item} are in stock\\n' if item in inventory else f'{item} are not in stock\\n')\n",
    "\n",
    "print(f'Inventory List:\\n')\n",
    "item: str\n",
    "for item in inventory:\n",
    "    print(f'- {item}')\n",
    "\n"
   ]
  },
  {
   "cell_type": "markdown",
   "metadata": {},
   "source": [
    "#### Collecting user feedback\n",
    "\n",
    "- use a list to collect and analyze user feedback"
   ]
  },
  {
   "cell_type": "code",
   "execution_count": 9,
   "metadata": {},
   "outputs": [
    {
     "name": "stdout",
     "output_type": "stream",
     "text": [
      "Postive Feedback Count is: 2\n",
      "\n",
      "User Feedback:\n",
      "\n",
      "- Great Service!\n",
      "- Very Satisfied\n",
      "- Could Be Better\n",
      "- Not Satisfied\n",
      "- Needs Improvement\n"
     ]
    }
   ],
   "source": [
    "feedback: list[str] = ['Great Service!', 'Very Satisfied', 'Could Be Better', 'Not Satisfied']\n",
    "feedback.append('Needs Improvement')\n",
    "\n",
    "# counting specific feedback\n",
    "postive_feedback_count: int = sum(1 for comment in feedback \n",
    "                                  if 'great' in comment.lower() \n",
    "                                  or 'better' in comment.lower())\n",
    "print(f'Postive Feedback Count is: {postive_feedback_count}\\n')\n",
    "\n",
    "print(f'User Feedback:\\n')\n",
    "for comment in feedback:\n",
    "    print(f'- {comment}')\n"
   ]
  },
  {
   "cell_type": "code",
   "execution_count": null,
   "metadata": {},
   "outputs": [],
   "source": []
  }
 ],
 "metadata": {
  "kernelspec": {
   "display_name": ".venv",
   "language": "python",
   "name": "python3"
  },
  "language_info": {
   "codemirror_mode": {
    "name": "ipython",
    "version": 3
   },
   "file_extension": ".py",
   "mimetype": "text/x-python",
   "name": "python",
   "nbconvert_exporter": "python",
   "pygments_lexer": "ipython3",
   "version": "3.12.7"
  }
 },
 "nbformat": 4,
 "nbformat_minor": 2
}
