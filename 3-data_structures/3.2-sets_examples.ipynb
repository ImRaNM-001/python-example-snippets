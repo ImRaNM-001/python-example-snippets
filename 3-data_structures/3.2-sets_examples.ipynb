{
 "cells": [
  {
   "cell_type": "markdown",
   "metadata": {},
   "source": [
    "#### Common functions of set:\n",
    "\n",
    "- .add()\n",
    "\n",
    "- .remove()\n",
    "\n",
    "- .discard()\n",
    "\n",
    "- .pop()\n",
    "\n",
    "- .clear()\n",
    "\n",
    "- **in** keyword --> print(3 in another_set)\n",
    "\n",
    "- .union()\n",
    "\n",
    "- .intersection()\n",
    "\n",
    "- .update() and .intersection_update()\n",
    "\n",
    "- .difference() and  .difference_update()\n",
    "\n",
    "- .symmetric_difference()\n",
    "\n",
    "- .issuperset() and .issubset()"
   ]
  },
  {
   "cell_type": "markdown",
   "metadata": {},
   "source": [
    "#### create a set"
   ]
  },
  {
   "cell_type": "code",
   "execution_count": 185,
   "metadata": {},
   "outputs": [
    {
     "data": {
      "text/plain": [
       "set"
      ]
     },
     "execution_count": 185,
     "metadata": {},
     "output_type": "execute_result"
    }
   ],
   "source": [
    "# initialize like below - 1\n",
    "my_set: set[int] = {99, 66, 11, 22, 44}\n",
    "type(my_set)"
   ]
  },
  {
   "cell_type": "code",
   "execution_count": 186,
   "metadata": {},
   "outputs": [
    {
     "name": "stdout",
     "output_type": "stream",
     "text": [
      "{66, 99, 22, 11, 44}\n",
      "<class 'set'>\n"
     ]
    }
   ],
   "source": [
    "print(my_set)\n",
    "print(type(my_set))"
   ]
  },
  {
   "cell_type": "code",
   "execution_count": 187,
   "metadata": {},
   "outputs": [
    {
     "name": "stdout",
     "output_type": "stream",
     "text": [
      "{0, 9, 84, 17}\n"
     ]
    }
   ],
   "source": [
    "# initialize like below - 2\n",
    "my_set: set[int] = set([0, 9, 0, 17, 9, 84])\n",
    "print(my_set)\n"
   ]
  },
  {
   "cell_type": "markdown",
   "metadata": {},
   "source": [
    "#### Basic Set Operations\n",
    "\n",
    "- Adding and Removing Elements\n",
    "\n",
    "- Do not throw error if element not present in set --> use .discard() method"
   ]
  },
  {
   "cell_type": "code",
   "execution_count": 188,
   "metadata": {},
   "outputs": [
    {
     "name": "stdout",
     "output_type": "stream",
     "text": [
      "{0, 9, 17, 84, 20}\n",
      "{0, 9, 17, 84, 20}\n",
      "{0, 17, 84, 20}\n"
     ]
    }
   ],
   "source": [
    "my_set.add(20)\n",
    "print(my_set)\n",
    "\n",
    "my_set.add(20)\n",
    "print(my_set)\n",
    "\n",
    "my_set.remove(9)\n",
    "print(my_set)\n"
   ]
  },
  {
   "cell_type": "code",
   "execution_count": 189,
   "metadata": {},
   "outputs": [
    {
     "name": "stdout",
     "output_type": "stream",
     "text": [
      "{0, 17, 84, 20}\n",
      "{0, 17, 20}\n"
     ]
    }
   ],
   "source": [
    "my_set.discard(9)\n",
    "print(my_set)\n",
    "\n",
    "my_set.discard(84)\n",
    "print(my_set)"
   ]
  },
  {
   "cell_type": "markdown",
   "metadata": {},
   "source": [
    "#### use .pop() method to remove 1st element"
   ]
  },
  {
   "cell_type": "code",
   "execution_count": 190,
   "metadata": {},
   "outputs": [
    {
     "name": "stdout",
     "output_type": "stream",
     "text": [
      "{17, 20}\n"
     ]
    }
   ],
   "source": [
    "my_set.pop()\n",
    "print(my_set)"
   ]
  },
  {
   "cell_type": "markdown",
   "metadata": {},
   "source": [
    "#### use .clear() to remove all elements from the set"
   ]
  },
  {
   "cell_type": "code",
   "execution_count": 191,
   "metadata": {},
   "outputs": [
    {
     "name": "stdout",
     "output_type": "stream",
     "text": [
      "set()\n"
     ]
    }
   ],
   "source": [
    "my_set.clear()\n",
    "print(my_set)"
   ]
  },
  {
   "cell_type": "markdown",
   "metadata": {},
   "source": [
    "#### Set Membership Test --> check if element is a member or present in the set"
   ]
  },
  {
   "cell_type": "code",
   "execution_count": 192,
   "metadata": {},
   "outputs": [
    {
     "name": "stdout",
     "output_type": "stream",
     "text": [
      "False\n",
      "True\n"
     ]
    }
   ],
   "source": [
    "another_set: set[int] = {11, 22, 33, 44, 55}\n",
    "print(3 in another_set)\n",
    "print(33 in another_set)"
   ]
  },
  {
   "cell_type": "markdown",
   "metadata": {},
   "source": [
    "#### Mathematical Operations\n",
    "\n",
    "- union & intersection\n",
    "\n",
    "- difference & symmetric difference"
   ]
  },
  {
   "cell_type": "code",
   "execution_count": 193,
   "metadata": {},
   "outputs": [
    {
     "name": "stdout",
     "output_type": "stream",
     "text": [
      "{99, 40, 10, 77, 50, 20, 25, 30}\n",
      "{40, 10}\n",
      "{40, 10}\n"
     ]
    }
   ],
   "source": [
    "setA: set[int] = {10, 20, 30, 40, 50}\n",
    "setB: set[int] = {77, 25, 10, 99, 40}\n",
    "\n",
    "union_set: set[int] = setA.union(setB)                  # .union() --> Creates and returns a new set with elements from both sets, without modifying the original sets.\n",
    "intersection_set: set[int] = setA.intersection(setB)\n",
    "\n",
    "print(union_set)\n",
    "print(intersection_set)\n",
    "\n",
    "# setA.update(setB)                 # .update() --> MODIFIES / OVERRIDES the original set by adding elements from another set (or iterable).\n",
    "# print(setA)\n",
    "\n",
    "setA.intersection_update(setB)      # UPDATES / OVERRIDES setA with the intersection i.e, common elements of setA and setB\n",
    "print(setA)\n"
   ]
  },
  {
   "cell_type": "code",
   "execution_count": 194,
   "metadata": {},
   "outputs": [
    {
     "name": "stdout",
     "output_type": "stream",
     "text": [
      "{5, 6, 7}\n",
      "{11, 12}\n"
     ]
    }
   ],
   "source": [
    "setC: set[int] = {5, 6, 7, 8, 9}\n",
    "setD: set[int] = set([8, 9, 11, 12])\n",
    "\n",
    "setE: set[int] = setC.difference(setD)      # .difference() --> Removes the common elements from the original set i.e, setE and returns the remaining (uncommon) elements as a new set.\n",
    "print(setE)\n",
    "\n",
    "setD.difference_update(setC)            # .difference_update() --> MODIFIES / OVERRIDES the original set by removing the common elements comparing with the other set\n",
    "print(setD)"
   ]
  },
  {
   "cell_type": "code",
   "execution_count": 195,
   "metadata": {},
   "outputs": [
    {
     "name": "stdout",
     "output_type": "stream",
     "text": [
      "{1, 2, 3, 6, 7, 8}\n"
     ]
    }
   ],
   "source": [
    "# symmetric difference --> creates a new set combining the uncommon (unique) elements from the two sets\n",
    "\n",
    "setC: set[int] = {1, 2, 3, 4, 5}\n",
    "setD: set[int] = { 4, 5, 6, 7, 8}\n",
    "\n",
    "sym_diff: set[int] = setC.symmetric_difference(setD)\n",
    "print(sym_diff)"
   ]
  },
  {
   "cell_type": "markdown",
   "metadata": {},
   "source": [
    "#### Set Methods ****"
   ]
  },
  {
   "cell_type": "code",
   "execution_count": 196,
   "metadata": {},
   "outputs": [
    {
     "name": "stdout",
     "output_type": "stream",
     "text": [
      "True\n",
      "True\n",
      "False\n"
     ]
    }
   ],
   "source": [
    "setA: set[int] = set([100, 200, 300, 400, 500])\n",
    "setB: set[int] = set([200, 300, 500])\n",
    "\n",
    "print(setA.issuperset(setB))\n",
    "print(setB.issubset(setB))\n",
    "\n",
    "print(setA.issubset(setB))"
   ]
  },
  {
   "cell_type": "markdown",
   "metadata": {},
   "source": [
    "#### remove duplicates from a list"
   ]
  },
  {
   "cell_type": "code",
   "execution_count": 197,
   "metadata": {},
   "outputs": [
    {
     "name": "stdout",
     "output_type": "stream",
     "text": [
      "[0, 1, 2, 3, 4, 5, 7]\n"
     ]
    }
   ],
   "source": [
    "num_list: list[int] = list([1, 2, 2, 3, 4, 5, 4, 7, 0])\n",
    "\n",
    "# converted_set: set[int] = set(num_list)\n",
    "# print(converted_set)\n",
    "\n",
    "# converted_list: list[int] = list(converted_set)\n",
    "# print(converted_list)\n",
    "\n",
    "print(list(set(num_list)))"
   ]
  },
  {
   "cell_type": "markdown",
   "metadata": {},
   "source": [
    "#### counting unique words in a sentence"
   ]
  },
  {
   "cell_type": "code",
   "execution_count": 203,
   "metadata": {},
   "outputs": [
    {
     "name": "stdout",
     "output_type": "stream",
     "text": [
      "64\n",
      "['the', 'quick', 'brown', 'fox', 'jumps', 'over', 'the', 'lazy', 'dog', 'over', 'the', 'brown', 'fence']\n",
      "13 \n",
      "\n",
      "{'over', 'the', 'quick', 'lazy', 'brown', 'dog', 'fence', 'fox', 'jumps'}\n",
      "9\n"
     ]
    }
   ],
   "source": [
    "sentence: str = 'The quick brown fox jumps over the lazy dog over the brown fence'\n",
    "print(len(sentence))        # counts chars in the sentence\n",
    "\n",
    "just_words: list[str] = sentence.lower().split()\n",
    "print(just_words)\n",
    "print(len(just_words),'\\n')\n",
    "\n",
    "unique_words: set[str] = set(just_words)         # converting the list to a set\n",
    "print(unique_words)\n",
    "print(len(unique_words))"
   ]
  },
  {
   "cell_type": "code",
   "execution_count": null,
   "metadata": {},
   "outputs": [],
   "source": []
  }
 ],
 "metadata": {
  "kernelspec": {
   "display_name": ".venv",
   "language": "python",
   "name": "python3"
  },
  "language_info": {
   "codemirror_mode": {
    "name": "ipython",
    "version": 3
   },
   "file_extension": ".py",
   "mimetype": "text/x-python",
   "name": "python",
   "nbconvert_exporter": "python",
   "pygments_lexer": "ipython3",
   "version": "3.12.7"
  }
 },
 "nbformat": 4,
 "nbformat_minor": 2
}
