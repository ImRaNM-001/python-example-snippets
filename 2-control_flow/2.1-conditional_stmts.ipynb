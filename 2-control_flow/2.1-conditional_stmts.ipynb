{
 "cells": [
  {
   "cell_type": "code",
   "execution_count": 1,
   "metadata": {},
   "outputs": [
    {
     "name": "stdout",
     "output_type": "stream",
     "text": [
      "y is greater\n"
     ]
    }
   ],
   "source": [
    "x: int = 10\n",
    "y: int = 20\n",
    "\n",
    "result: str = 'x is greater' if x > y else 'y is greater'\n",
    "print(result)\n",
    "# print('x is greater' if x > y else 'y is greater')"
   ]
  },
  {
   "cell_type": "code",
   "execution_count": 2,
   "metadata": {},
   "outputs": [
    {
     "name": "stdout",
     "output_type": "stream",
     "text": [
      "You are an teenager\n"
     ]
    }
   ],
   "source": [
    "age: int = 16\n",
    "\n",
    "if age < 13:\n",
    "    print('You are a child')\n",
    "elif age < 18:\n",
    "    print('You are an teenager')\n",
    "else:\n",
    "    print('You are an adult')"
   ]
  },
  {
   "cell_type": "markdown",
   "metadata": {},
   "source": [
    "#### match-case for a calc. application"
   ]
  },
  {
   "cell_type": "code",
   "execution_count": 3,
   "metadata": {},
   "outputs": [
    {
     "name": "stdout",
     "output_type": "stream",
     "text": [
      "Result is 2\n"
     ]
    }
   ],
   "source": [
    "from typing import Union\n",
    "\n",
    "num1: int = int(input('enter the 1st num'))\n",
    "num2: int = int(input('enter the 2nd num'))\n",
    "operation: str = input('enter the operation (+, -, *, /):')\n",
    "\n",
    "# result_of_calc: int | None | str\n",
    "result_of_calc: Union[int | str]           \n",
    "\n",
    "match operation:\n",
    "    case '+':\n",
    "        result_of_calc = num1 + num2\n",
    "    case '-':\n",
    "        result_of_calc = num1 - num2\n",
    "    case '*':\n",
    "        result_of_calc = num1 * num2\n",
    "    case '/':\n",
    "        result_of_calc = int(num1 / num2) if num2 != 0 else 'Error ! Division by zero ain\\'t possible'\n",
    "    case _:\n",
    "        result_of_calc = 'Invalid operation'\n",
    "\n",
    "print('Result is', result_of_calc)"
   ]
  },
  {
   "cell_type": "code",
   "execution_count": null,
   "metadata": {},
   "outputs": [],
   "source": []
  }
 ],
 "metadata": {
  "kernelspec": {
   "display_name": ".venv",
   "language": "python",
   "name": "python3"
  },
  "language_info": {
   "codemirror_mode": {
    "name": "ipython",
    "version": 3
   },
   "file_extension": ".py",
   "mimetype": "text/x-python",
   "name": "python",
   "nbconvert_exporter": "python",
   "pygments_lexer": "ipython3",
   "version": "3.12.7"
  }
 },
 "nbformat": 4,
 "nbformat_minor": 2
}
