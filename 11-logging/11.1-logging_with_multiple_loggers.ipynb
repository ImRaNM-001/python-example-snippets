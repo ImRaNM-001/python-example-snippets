{
 "cells": [
  {
   "cell_type": "markdown",
   "metadata": {},
   "source": [
    "#### Log Levels:\n",
    "            Python's logging module has several log levels indicating the severity of events. The default levels are:\n",
    "\n",
    "• DEBUG: Detailed information, typically of interest only when diagnosing problems.\n",
    "\n",
    "• INFO: Confirmation that things are working as expected.\n",
    "\n",
    "• WARNING An indication that something unexpected happened or indicative of some problem in the near future (e.g. 'disk space low'). The software is still working as expected.\n",
    "\n",
    "• ERROR: Due to a more serious problem, the software has not been able to perform some function.\n",
    "\n",
    "• CRITICAL: A very serious error, indicating that the program itself may be unable to continue running.\n",
    "\n",
    "\n",
    "- DEBUG (10)\n",
    "\n",
    "- INFO (20)\n",
    "\n",
    "- WARNING (30)\n",
    "\n",
    "- ERROR (40)\n",
    "\n",
    "- CRITICAL (50)\n",
    "\n",
    "        > In Python's logging module, each logging level is associated with a numeric value, used to set the threshold for logging / determine the severity of the log messages and are used internally by the logging system to filter and prioritize log messages.\n"
   ]
  },
  {
   "cell_type": "markdown",
   "metadata": {},
   "source": [
    "#### Common functions used:\n",
    "\n",
    "- .getlogger('module_name')\n",
    "\n",
    "\n",
    "- .setlevel()\n",
    "\n",
    "\n",
    "- .basicConfig()"
   ]
  },
  {
   "cell_type": "code",
   "execution_count": 1,
   "metadata": {},
   "outputs": [],
   "source": [
    "import logging"
   ]
  },
  {
   "cell_type": "code",
   "execution_count": 2,
   "metadata": {},
   "outputs": [],
   "source": [
    "# create a logger for various modules\n",
    "logger_de = logging.getLogger('Module 1')\n",
    "logger_wa = logging.getLogger('Module 2')\n",
    "logger_in = logging.getLogger('Module 3')\n",
    "logger_er = logging.getLogger('Module 4')\n",
    "logger_cr = logging.getLogger('Module 5')\n",
    "\n",
    "\n",
    "# setting level for each - INDIVIDUAL Loggers\n",
    "logger_de.setLevel(logging.DEBUG)\n",
    "logger_wa.setLevel(logging.WARNING)\n",
    "logger_in.setLevel(logging.INFO)\n",
    "logger_er.setLevel(logging.ERROR)\n",
    "logger_cr.setLevel(logging.CRITICAL)"
   ]
  },
  {
   "cell_type": "markdown",
   "metadata": {},
   "source": [
    "#### Root Logger vs Individual Logger info:\n",
    "\n",
    "- The logging.basicConfig() function sets the configuration for the **\"root\"** logger.\n",
    "\n",
    "- The level parameter in logging.basicConfig() fn sets the threshold for the root logger, which means it will handle all messages at or above this level. \n",
    "\n",
    "                    Root Logger:\n",
    "\n",
    "- The root logger is the default logger in the logging hierarchy.\n",
    "\n",
    "- When you configure the root logger using logging.basicConfig() fn, it sets the default behavior for logging, including the log level, format, and handlers.\n",
    "\n",
    "- All loggers inherit from the root logger unless they are explicitly configured otherwise.\n",
    "\n",
    "                    \n",
    "                    Individual logger:  \n",
    "\n",
    "- Individual loggers can have their own levels set, which will override the root logger's level for those specific loggers.\n",
    "\n",
    "- If an individual logger is not explicitly configured, it inherits the configuration from the root logger.\n",
    "\n",
    "- If explicitly configured, its configuration takes precedence over the root logger's configuration for that specific logger.\n"
   ]
  },
  {
   "cell_type": "code",
   "execution_count": 3,
   "metadata": {},
   "outputs": [],
   "source": [
    "# configure logging settings - ROOT Logger\n",
    "logging.basicConfig(\n",
    "    level = logging.DEBUG,\n",
    "    format = '%(asctime)s - %(name)s - %(levelname)s - %(message)s',\n",
    "    datefmt = '%Y-%m-%d %H:%M:%S'\n",
    ")"
   ]
  },
  {
   "cell_type": "code",
   "execution_count": 4,
   "metadata": {},
   "outputs": [
    {
     "name": "stderr",
     "output_type": "stream",
     "text": [
      "2025-01-02 11:49:48 - Module 1 - DEBUG - Debug message for Module 1\n",
      "2025-01-02 11:49:48 - Module 2 - WARNING - Warning message for Module 2\n",
      "2025-01-02 11:49:48 - Module 3 - INFO - Info message for Module 3\n",
      "2025-01-02 11:49:48 - Module 4 - ERROR - Error message for Module 4\n",
      "2025-01-02 11:49:48 - Module 5 - CRITICAL - Critical message for Module 5\n"
     ]
    }
   ],
   "source": [
    "# log message for specific loggers - INDIVIDUAL Loggers\n",
    "\n",
    "logger_de.debug('Debug message for Module 1')\n",
    "logger_wa.warning('Warning message for Module 2')\n",
    "logger_in.info('Info message for Module 3')\n",
    "logger_er.error('Error message for Module 4')\n",
    "logger_cr.critical('Critical message for Module 5')"
   ]
  },
  {
   "cell_type": "code",
   "execution_count": null,
   "metadata": {},
   "outputs": [],
   "source": []
  }
 ],
 "metadata": {
  "kernelspec": {
   "display_name": ".venv",
   "language": "python",
   "name": "python3"
  },
  "language_info": {
   "codemirror_mode": {
    "name": "ipython",
    "version": 3
   },
   "file_extension": ".py",
   "mimetype": "text/x-python",
   "name": "python",
   "nbconvert_exporter": "python",
   "pygments_lexer": "ipython3",
   "version": "3.12.7"
  }
 },
 "nbformat": 4,
 "nbformat_minor": 2
}
