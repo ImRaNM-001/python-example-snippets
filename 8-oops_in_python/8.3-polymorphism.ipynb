{
 "cells": [
  {
   "cell_type": "code",
   "execution_count": 323,
   "metadata": {},
   "outputs": [],
   "source": [
    "# Base class\n",
    "class Animal:\n",
    "    speak = lambda self: 'Sound of an animal'\n",
    "\n",
    "# Derived class 1\n",
    "class Dog(Animal):\n",
    "    speak = lambda self: 'Woof!'\n",
    "\n",
    "# Derived class 2\n",
    "class Cat(Animal):\n",
    "    speak = lambda self: 'Meow!'\n",
    "\n",
    "# create the objects\n",
    "dog: Dog = Dog()\n",
    "cat: Cat = Cat()"
   ]
  },
  {
   "cell_type": "code",
   "execution_count": 324,
   "metadata": {},
   "outputs": [
    {
     "data": {
      "text/plain": [
       "'Woof!'"
      ]
     },
     "execution_count": 324,
     "metadata": {},
     "output_type": "execute_result"
    }
   ],
   "source": [
    "dog.speak()"
   ]
  },
  {
   "cell_type": "code",
   "execution_count": 325,
   "metadata": {},
   "outputs": [
    {
     "data": {
      "text/plain": [
       "'Meow!'"
      ]
     },
     "execution_count": 325,
     "metadata": {},
     "output_type": "execute_result"
    }
   ],
   "source": [
    "cat.speak()"
   ]
  },
  {
   "cell_type": "markdown",
   "metadata": {},
   "source": [
    "#### Ex:1 - Function that demonstrates Polymorphism"
   ]
  },
  {
   "cell_type": "code",
   "execution_count": 326,
   "metadata": {},
   "outputs": [],
   "source": [
    "animal_speak = lambda animal: animal.speak()\n",
    "\n",
    "# def animal_speak(animal: 'Animal'):\n",
    "#     return animal.speak()"
   ]
  },
  {
   "cell_type": "code",
   "execution_count": 327,
   "metadata": {},
   "outputs": [
    {
     "name": "stdout",
     "output_type": "stream",
     "text": [
      "Woof!\n",
      "Meow!\n"
     ]
    }
   ],
   "source": [
    "# now pass Animal objects inside the animal_speak function:\n",
    "print(animal_speak(dog))\n",
    "print(animal_speak(cat))"
   ]
  },
  {
   "cell_type": "markdown",
   "metadata": {},
   "source": [
    "#### Ex:2 - with Shapes"
   ]
  },
  {
   "cell_type": "code",
   "execution_count": 328,
   "metadata": {},
   "outputs": [],
   "source": [
    "from dataclasses import dataclass\n",
    "from math import pi\n",
    "\n",
    "class Shape:\n",
    "    area = lambda self: 'The area of the figure'\n",
    "\n",
    "\n",
    "# Dervied class 1\n",
    "@dataclass\n",
    "class Rectangle(Shape):\n",
    "    length: str\n",
    "    width: str\n",
    "\n",
    "    area = lambda self: self.length * self.width\n",
    "\n",
    "\n",
    "# Dervied class 2\n",
    "@dataclass\n",
    "class Circle(Shape):\n",
    "    radius: int\n",
    "\n",
    "    area = lambda self: f'{pi * self.radius ** 2:.2f}'"
   ]
  },
  {
   "cell_type": "code",
   "execution_count": 329,
   "metadata": {},
   "outputs": [],
   "source": [
    "# Function that demonstrates Polymorphism [Method Overriding] - this \"area()\" method is present in all classes\n",
    "area_of_shape = lambda shape: f'The area of {type(shape).__name__} is {shape.area()}'\n",
    "\n",
    "\"\"\"\n",
    "    NOTE: {shape} will print                Rectangle(length=20, width=40)\n",
    "    BUT {type(shape).__name__} will print           Rectangle which is the Derived class name\n",
    "\n",
    "    here, shape is the object of orginal base class Shape\n",
    "\"\"\"\n",
    "\n",
    "rectangle: Rectangle = Rectangle(20, 40)\n",
    "circle: Circle = Circle(3)"
   ]
  },
  {
   "cell_type": "code",
   "execution_count": 330,
   "metadata": {},
   "outputs": [
    {
     "name": "stdout",
     "output_type": "stream",
     "text": [
      "800\n",
      "The area of Rectangle is 800\n",
      "The area of Circle is 28.27\n"
     ]
    }
   ],
   "source": [
    "print(rectangle.area())\n",
    "\n",
    "print(area_of_shape(rectangle))\n",
    "print(area_of_shape(circle))"
   ]
  },
  {
   "cell_type": "code",
   "execution_count": 331,
   "metadata": {},
   "outputs": [
    {
     "name": "stdout",
     "output_type": "stream",
     "text": [
      "The area of Shape is The area of the figure\n"
     ]
    }
   ],
   "source": [
    "shape: Shape = Shape()                  # created object of the Parent class\n",
    "print(area_of_shape(shape))"
   ]
  },
  {
   "cell_type": "markdown",
   "metadata": {},
   "source": [
    "#### Abstract classes (python has no interfaces)\n",
    "\n",
    "- The abc module in Python stands for \"Abstract Base Classes.\" \n",
    "\n",
    "- It provides the infrastructure for defining abstract base classes (ABCs) in Python."
   ]
  },
  {
   "cell_type": "code",
   "execution_count": 332,
   "metadata": {},
   "outputs": [],
   "source": [
    "from abc import ABC, abstractmethod\n",
    "\n",
    "# Define an abstract class\n",
    "class Vehicle(ABC):\n",
    "\n",
    "    @abstractmethod                         # abstract methods cannot be written in lambda syntax\n",
    "    def start_engine(self) -> None:\n",
    "        pass\n",
    "\n",
    "# Derived class 1\n",
    "class Car(Vehicle):\n",
    "    start_engine = lambda self: 'Car engine started'\n",
    "\n",
    "\n",
    "# Derived class 2\n",
    "class Motorcycle(Vehicle):\n",
    "    start_engine = lambda self: f'{type(self).__name__} engine started'     # {type(self).__name__}   will print class name 'Motorcycle'\n",
    "\n",
    "\n",
    "# single function which demonstrates Polymorphism [Method Overriding] - this \"start_engine()\" method is present in all classes\n",
    "vehicle_starts = lambda vehicle: vehicle.start_engine()"
   ]
  },
  {
   "cell_type": "code",
   "execution_count": 333,
   "metadata": {},
   "outputs": [
    {
     "name": "stdout",
     "output_type": "stream",
     "text": [
      "Car engine started\n",
      "Motorcycle engine started\n"
     ]
    }
   ],
   "source": [
    "# create objects of Car & Motorcycle\n",
    "maruthi: Car = Car()\n",
    "ktm: Motorcycle = Motorcycle()\n",
    "\n",
    "# calling the common function\n",
    "print(vehicle_starts(maruthi))\n",
    "print(vehicle_starts(ktm))"
   ]
  },
  {
   "cell_type": "code",
   "execution_count": null,
   "metadata": {},
   "outputs": [],
   "source": []
  }
 ],
 "metadata": {
  "kernelspec": {
   "display_name": ".venv",
   "language": "python",
   "name": "python3"
  },
  "language_info": {
   "codemirror_mode": {
    "name": "ipython",
    "version": 3
   },
   "file_extension": ".py",
   "mimetype": "text/x-python",
   "name": "python",
   "nbconvert_exporter": "python",
   "pygments_lexer": "ipython3",
   "version": "3.12.7"
  }
 },
 "nbformat": 4,
 "nbformat_minor": 2
}
