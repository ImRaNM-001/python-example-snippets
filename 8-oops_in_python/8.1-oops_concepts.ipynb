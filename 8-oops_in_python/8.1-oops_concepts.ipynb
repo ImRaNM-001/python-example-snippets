{
 "cells": [
  {
   "cell_type": "code",
   "execution_count": 145,
   "metadata": {},
   "outputs": [
    {
     "data": {
      "text/plain": [
       "__main__.Car"
      ]
     },
     "execution_count": 145,
     "metadata": {},
     "output_type": "execute_result"
    }
   ],
   "source": [
    "class Car:\n",
    "    pass\n",
    "\n",
    "audi: Car = Car()\n",
    "bmw: Car = Car()\n",
    "\n",
    "type(audi)"
   ]
  },
  {
   "cell_type": "code",
   "execution_count": 146,
   "metadata": {},
   "outputs": [
    {
     "name": "stdout",
     "output_type": "stream",
     "text": [
      "<class '__main__.Car'>\n",
      "<__main__.Car object at 0x105af8980>\n"
     ]
    }
   ],
   "source": [
    "print(type(bmw))    # prints <class '__main__.Car'>\n",
    "print(bmw)          # prints <__main__.Car object at 0x105ab3110>       --> 0x105ab3110  is the specific memory location"
   ]
  },
  {
   "cell_type": "markdown",
   "metadata": {},
   "source": [
    "#### Instance variables & methods"
   ]
  },
  {
   "cell_type": "code",
   "execution_count": 147,
   "metadata": {},
   "outputs": [
    {
     "data": {
      "text/plain": [
       "['__class__',\n",
       " '__delattr__',\n",
       " '__dict__',\n",
       " '__dir__',\n",
       " '__doc__',\n",
       " '__eq__',\n",
       " '__format__',\n",
       " '__ge__',\n",
       " '__getattribute__',\n",
       " '__getstate__',\n",
       " '__gt__',\n",
       " '__hash__',\n",
       " '__init__',\n",
       " '__init_subclass__',\n",
       " '__le__',\n",
       " '__lt__',\n",
       " '__module__',\n",
       " '__ne__',\n",
       " '__new__',\n",
       " '__reduce__',\n",
       " '__reduce_ex__',\n",
       " '__repr__',\n",
       " '__setattr__',\n",
       " '__sizeof__',\n",
       " '__str__',\n",
       " '__subclasshook__',\n",
       " '__weakref__']"
      ]
     },
     "execution_count": 147,
     "metadata": {},
     "output_type": "execute_result"
    }
   ],
   "source": [
    "dir(audi)       # prints all inbuilt methods of audi object"
   ]
  },
  {
   "cell_type": "code",
   "execution_count": 148,
   "metadata": {},
   "outputs": [
    {
     "name": "stdout",
     "output_type": "stream",
     "text": [
      "Ralphie barks as woof\n"
     ]
    }
   ],
   "source": [
    "class Dog:\n",
    "\n",
    "    def __init__(self, name: str, age: int) -> None:\n",
    "        self.name: str = name\n",
    "        self.age: int = age\n",
    "\n",
    "    # def bark(self) -> None:\n",
    "    #     print(f'{self.name} barks as woof')\n",
    "\n",
    "    # via lambda\n",
    "    bark = lambda self: print(f'{self.name} barks as woof')\n",
    "\n",
    "\n",
    "# create objects\n",
    "_1_dog: Dog = Dog('Ralphie', 5)\n",
    "_1_dog.bark()"
   ]
  },
  {
   "cell_type": "markdown",
   "metadata": {},
   "source": [
    "#### Ex: Modelling a bank account\n",
    "\n",
    "- should have actions as \"deposit\", \"withdraw\" and \"get_balance\"\n",
    "\n",
    "- all 3 methdods should return some values and then to be called using objects of \"bank account\""
   ]
  },
  {
   "cell_type": "code",
   "execution_count": 149,
   "metadata": {},
   "outputs": [
    {
     "data": {
      "text/plain": [
       "4000"
      ]
     },
     "execution_count": 149,
     "metadata": {},
     "output_type": "execute_result"
    }
   ],
   "source": [
    "class BankAccount:\n",
    "\n",
    "    # constructor\n",
    "    def __init__(self, account_holder: str, balance: int = 0) -> None:\n",
    "        self.account_holder: str = account_holder\n",
    "        self.balance: int = balance\n",
    "\n",
    "    # instance methods\n",
    "    def deposit(self, amount: int) -> None:\n",
    "        self.balance += amount\n",
    "        print(f'{amount} is deposited now and available balance is {self.balance}')\n",
    "    \n",
    "    def withdraw(self, amount: int) -> str:\n",
    "        if amount > self.balance:\n",
    "            return f'Insufficient funds coz available balance is {self.balance}'\n",
    "        else:\n",
    "            self.balance -= amount\n",
    "            return f'{amount} is withdrawn and available balance is {self.balance}'\n",
    "        \n",
    "    def get_balance(self):\n",
    "        return self.balance\n",
    "    \n",
    "_1st_account_details: BankAccount = BankAccount('Dan', 4000)\n",
    "\n",
    "# printing instance variables first\n",
    "_1st_account_details.balance                      # balance is nothing but an instance variable"
   ]
  },
  {
   "cell_type": "code",
   "execution_count": 150,
   "metadata": {},
   "outputs": [
    {
     "data": {
      "text/plain": [
       "'Dan'"
      ]
     },
     "execution_count": 150,
     "metadata": {},
     "output_type": "execute_result"
    }
   ],
   "source": [
    "_1st_account_details.account_holder               # balance is nothing but instance variable"
   ]
  },
  {
   "cell_type": "code",
   "execution_count": 151,
   "metadata": {},
   "outputs": [
    {
     "name": "stdout",
     "output_type": "stream",
     "text": [
      "1500 is deposited now and available balance is 5500\n"
     ]
    }
   ],
   "source": [
    "# printing / calling instance methods now i.e, making deposits, withdrawls, get_balance\n",
    "_1st_account_details.deposit(1500)"
   ]
  },
  {
   "cell_type": "code",
   "execution_count": 152,
   "metadata": {},
   "outputs": [
    {
     "data": {
      "text/plain": [
       "'300 is withdrawn and available balance is 5200'"
      ]
     },
     "execution_count": 152,
     "metadata": {},
     "output_type": "execute_result"
    }
   ],
   "source": [
    "_1st_account_details.withdraw(300)"
   ]
  },
  {
   "cell_type": "code",
   "execution_count": 153,
   "metadata": {},
   "outputs": [
    {
     "data": {
      "text/plain": [
       "'Insufficient funds coz available balance is 5200'"
      ]
     },
     "execution_count": 153,
     "metadata": {},
     "output_type": "execute_result"
    }
   ],
   "source": [
    "_1st_account_details.withdraw(8000)"
   ]
  },
  {
   "cell_type": "code",
   "execution_count": 154,
   "metadata": {},
   "outputs": [
    {
     "name": "stdout",
     "output_type": "stream",
     "text": [
      "Available balance is: 5200\n"
     ]
    }
   ],
   "source": [
    "print(f'Available balance is: {_1st_account_details.get_balance()}')"
   ]
  },
  {
   "cell_type": "code",
   "execution_count": null,
   "metadata": {},
   "outputs": [],
   "source": []
  }
 ],
 "metadata": {
  "kernelspec": {
   "display_name": ".venv",
   "language": "python",
   "name": "python3"
  },
  "language_info": {
   "codemirror_mode": {
    "name": "ipython",
    "version": 3
   },
   "file_extension": ".py",
   "mimetype": "text/x-python",
   "name": "python",
   "nbconvert_exporter": "python",
   "pygments_lexer": "ipython3",
   "version": "3.12.7"
  }
 },
 "nbformat": 4,
 "nbformat_minor": 2
}
