{
 "cells": [
  {
   "cell_type": "markdown",
   "metadata": {},
   "source": [
    "##### Magic Methods,\n",
    "\n",
    "are predefined methods in Python that you can override to change the behavior of your objects. Some common magic methods include:\n",
    "\n",
    "- \\__init__: Initializes a new instance of a class. \n",
    "\n",
    "- \\__str__: Returns a string representation of an object.\n",
    "\n",
    "- \\__repr__: Returns an official string representation of an object.\n",
    "\n",
    "- \\__len__: Returns the length of an object.\n",
    "\n",
    "- \\__getitem__: Gets an item from a container.\n",
    "\n",
    "- \\__setitem__: Sets an item in a container."
   ]
  },
  {
   "cell_type": "code",
   "execution_count": 1,
   "metadata": {},
   "outputs": [
    {
     "data": {
      "text/plain": [
       "['__class__',\n",
       " '__delattr__',\n",
       " '__dict__',\n",
       " '__dir__',\n",
       " '__doc__',\n",
       " '__eq__',\n",
       " '__format__',\n",
       " '__ge__',\n",
       " '__getattribute__',\n",
       " '__getstate__',\n",
       " '__gt__',\n",
       " '__hash__',\n",
       " '__init__',\n",
       " '__init_subclass__',\n",
       " '__le__',\n",
       " '__lt__',\n",
       " '__module__',\n",
       " '__ne__',\n",
       " '__new__',\n",
       " '__reduce__',\n",
       " '__reduce_ex__',\n",
       " '__repr__',\n",
       " '__setattr__',\n",
       " '__sizeof__',\n",
       " '__str__',\n",
       " '__subclasshook__',\n",
       " '__weakref__']"
      ]
     },
     "execution_count": 1,
     "metadata": {},
     "output_type": "execute_result"
    }
   ],
   "source": [
    "class Person:\n",
    "    pass\n",
    "\n",
    "person1: Person = Person()\n",
    "dir(person1)            # will display all magic methods of the \"person1\" object"
   ]
  },
  {
   "cell_type": "code",
   "execution_count": 2,
   "metadata": {},
   "outputs": [
    {
     "data": {
      "text/plain": [
       "<__main__.Person at 0x106f94590>"
      ]
     },
     "execution_count": 2,
     "metadata": {},
     "output_type": "execute_result"
    }
   ],
   "source": [
    "person1                     # prints  <__main__.Person at 0x1056d9430> which is coming from  '__str__'"
   ]
  },
  {
   "cell_type": "markdown",
   "metadata": {},
   "source": [
    "#### Overriding \"\\__str__\" & \"\\__len__\" methods"
   ]
  },
  {
   "cell_type": "code",
   "execution_count": 3,
   "metadata": {},
   "outputs": [],
   "source": [
    "from dataclasses import dataclass\n",
    "\n",
    "@dataclass\n",
    "class Hitman:\n",
    "    name: str\n",
    "    is_working: bool\n",
    "\n",
    "    # override the __str__ method to get custom output\n",
    "    __str__ = lambda self: f'{self.name} is a {type(self).__name__} and working: {self.is_working}'\n",
    "\n",
    "    # override the __len__ method to get custom output\n",
    "    __len__ = lambda self: 'I can\\'t give you any length' "
   ]
  },
  {
   "cell_type": "code",
   "execution_count": 4,
   "metadata": {},
   "outputs": [
    {
     "name": "stdout",
     "output_type": "stream",
     "text": [
      "John Wick is a Hitman and working: True\n",
      "Hitman(name='John Wick', is_working=True)\n"
     ]
    }
   ],
   "source": [
    "hit1: Hitman = Hitman('John Wick', True)\n",
    "print(hit1)\n",
    "print(hit1.__repr__())                  # prints Hitman(name='John Wick', is_working=True) which is default for  \"__str__\" as well"
   ]
  },
  {
   "cell_type": "code",
   "execution_count": 5,
   "metadata": {},
   "outputs": [
    {
     "data": {
      "text/plain": [
       "\"I can't give you any length\""
      ]
     },
     "execution_count": 5,
     "metadata": {},
     "output_type": "execute_result"
    }
   ],
   "source": [
    "hit1.__len__()"
   ]
  },
  {
   "cell_type": "code",
   "execution_count": null,
   "metadata": {},
   "outputs": [],
   "source": []
  }
 ],
 "metadata": {
  "kernelspec": {
   "display_name": ".venv",
   "language": "python",
   "name": "python3"
  },
  "language_info": {
   "codemirror_mode": {
    "name": "ipython",
    "version": 3
   },
   "file_extension": ".py",
   "mimetype": "text/x-python",
   "name": "python",
   "nbconvert_exporter": "python",
   "pygments_lexer": "ipython3",
   "version": "3.12.7"
  }
 },
 "nbformat": 4,
 "nbformat_minor": 2
}
