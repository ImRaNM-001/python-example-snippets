{
 "cells": [
  {
   "cell_type": "code",
   "execution_count": 42,
   "metadata": {},
   "outputs": [],
   "source": [
    "from abc import ABC, abstractmethod"
   ]
  },
  {
   "cell_type": "code",
   "execution_count": 43,
   "metadata": {},
   "outputs": [],
   "source": [
    "class Drive:\n",
    "\n",
    "    @abstractmethod\n",
    "    def start_engine(self):\n",
    "        pass\n",
    "\n",
    "    lets_drive = lambda self: 'Driving the vehicle'\n",
    "\n",
    "# Derived class\n",
    "class Bike(Drive):\n",
    "\n",
    "    # implement the abstract method\n",
    "    start_engine = lambda self: 'Engine started'"
   ]
  },
  {
   "cell_type": "code",
   "execution_count": 1,
   "metadata": {},
   "outputs": [],
   "source": [
    "# creating abstract functionality for above methods (the idea is to hide the original implementation from the method caller) -->\n",
    "\n",
    "\"\"\" \n",
    "def operate_vehicle(vehicle):\n",
    "    print(vehicle.start_engine())\n",
    "    print(vehicle.lets_drive())\n",
    "\"\"\"\n",
    "\n",
    "operate_vehicle = lambda vehicle: (vehicle.start_engine(), \n",
    "                                   vehicle.lets_drive())"
   ]
  },
  {
   "cell_type": "code",
   "execution_count": 45,
   "metadata": {},
   "outputs": [
    {
     "data": {
      "text/plain": [
       "('Engine started', 'Driving the vehicle')"
      ]
     },
     "execution_count": 45,
     "metadata": {},
     "output_type": "execute_result"
    }
   ],
   "source": [
    "# creating object of Derived class\n",
    "ktm_bike: Bike = Bike()\n",
    "operate_vehicle(ktm_bike)"
   ]
  },
  {
   "cell_type": "code",
   "execution_count": null,
   "metadata": {},
   "outputs": [],
   "source": []
  }
 ],
 "metadata": {
  "kernelspec": {
   "display_name": ".venv",
   "language": "python",
   "name": "python3"
  },
  "language_info": {
   "codemirror_mode": {
    "name": "ipython",
    "version": 3
   },
   "file_extension": ".py",
   "mimetype": "text/x-python",
   "name": "python",
   "nbconvert_exporter": "python",
   "pygments_lexer": "ipython3",
   "version": "3.12.7"
  }
 },
 "nbformat": 4,
 "nbformat_minor": 2
}
