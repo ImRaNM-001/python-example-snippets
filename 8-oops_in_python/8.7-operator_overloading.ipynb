{
 "cells": [
  {
   "cell_type": "markdown",
   "metadata": {},
   "source": [
    "#### (drawn reference): Add two lists directly via map() function\n",
    "\n",
    "- below is achieved by operator overloading in a Vector clas below"
   ]
  },
  {
   "cell_type": "code",
   "execution_count": 457,
   "metadata": {},
   "outputs": [
    {
     "data": {
      "text/plain": [
       "[5, 9, 13]"
      ]
     },
     "execution_count": 457,
     "metadata": {},
     "output_type": "execute_result"
    }
   ],
   "source": [
    "_1st_nums_list: list[int] = [2, 4, 6]\n",
    "_2nd_nums_list: list[int] = [3, 5, 7]\n",
    "\n",
    "list(map(lambda x, y: x + y,                    # lambda x, y: x + y  is technicaly the anonymous function written directly wihout any () \n",
    "          _1st_nums_list, \n",
    "          _2nd_nums_list))"
   ]
  },
  {
   "cell_type": "markdown",
   "metadata": {},
   "source": [
    "##### Common Operator Overloading Methods,\n",
    "\n",
    "are predefined methods in Python that allow to define the behavior of oeprators (+, -, *, /) for custom objects. \n",
    "\n",
    "- \\__add__(self, other): Adds two objects using the + operator\n",
    "\n",
    "- \\__sub__(self, other): Subtracts two objects using the - operator\n",
    "\n",
    "- \\__mul__(self, other): Multiplies two objects using the * operator\n",
    "\n",
    "- \\__truediv__(self, other): Divides two objects using the / operator\n",
    "\n",
    "- \\__eq__(self, other): Checks if two objects are equal using the == operator\n",
    "\n",
    "- \\__lt__(self, other): Checks if one object is less than another using the < operator  (this is l like less than and not 1)"
   ]
  },
  {
   "cell_type": "markdown",
   "metadata": {},
   "source": [
    "#### Mathematical operation for vectors"
   ]
  },
  {
   "cell_type": "code",
   "execution_count": 458,
   "metadata": {},
   "outputs": [],
   "source": [
    "from dataclasses  import dataclass\n",
    "\n",
    "@dataclass\n",
    "class Vector:\n",
    "    first_num: int\n",
    "    second_num: int\n",
    "\n",
    "    \"\"\" below constructor will help understand the base foundation::\n",
    "    def __init__(self, first_num, second_num) -> None:\n",
    "        self.first_num = first_num\n",
    "        self.second_num = second_num        \"\"\"\n",
    "\n",
    "    # overriding inbuilt functions\n",
    "    __add__ = lambda self, other: Vector(self.first_num + other.first_num, self.second_num + other.second_num)\n",
    "\n",
    "    __sub__ = lambda self, other: Vector(self.first_num - other.first_num, self.second_num - other.second_num)\n",
    "\n",
    "    # __mul__ = lambda self, other: Vector(self.first_num * other.first_num, self.second_num * other.second_num)     # works for print(v1 * v2) i.e, Vector multiplication\n",
    "\n",
    "    # __mul__ = lambda self, other: Vector(self.first_num * other, self.second_num * other)         # works for print(v1 * 3) i.e, Scalar multiplication\n",
    "    \n",
    "    # combined both\n",
    "    __mul__ = lambda self, other: Vector(self.first_num * other.first_num, self.second_num * other.second_num) if isinstance(other, Vector) else (Vector(self.first_num * other, self.second_num * other) if isinstance(other, int) else NotImplemented)\n",
    "\n",
    "\n",
    "    __eq__ = lambda self, other: (self.first_num == other.first_num and self.second_num == other.second_num)\n",
    "\n",
    "    __repr__ = lambda self: f'Vector {self.first_num}, {self.second_num}'"
   ]
  },
  {
   "cell_type": "code",
   "execution_count": 459,
   "metadata": {},
   "outputs": [
    {
     "name": "stdout",
     "output_type": "stream",
     "text": [
      "Vector 8, 10\n",
      "Vector -4, -4\n",
      "Vector 12, 21\n",
      "Vector 6, 9\n"
     ]
    }
   ],
   "source": [
    "# create objects of Vector class\n",
    "v1: Vector = Vector(2, 3)\n",
    "v2 = Vector(6, 7)\n",
    "\n",
    "print(v1 + v2)\n",
    "print(v1 - v2)\n",
    "print(v1 * v2)\n",
    "print(v1 * 3)"
   ]
  },
  {
   "cell_type": "code",
   "execution_count": 460,
   "metadata": {},
   "outputs": [
    {
     "name": "stdout",
     "output_type": "stream",
     "text": [
      "False\n",
      "Vector 6, 7\n",
      "True\n"
     ]
    }
   ],
   "source": [
    "print(v1.__eq__(v2))\n",
    "print(v2.__repr__())\n",
    "\n",
    "v2 = v1\n",
    "print(v1.__eq__(v2))"
   ]
  },
  {
   "cell_type": "markdown",
   "metadata": {},
   "source": [
    "#### Operator Overloading for Complex Numbers --> a + ib \n",
    "\n",
    "- where, a, b are real numbers and 'i' is an imaginary number called “iota”\n",
    "\n",
    "- The value of i = (√-1). For ex, 2+3i is a complex number"
   ]
  },
  {
   "cell_type": "code",
   "execution_count": 461,
   "metadata": {},
   "outputs": [
    {
     "name": "stdout",
     "output_type": "stream",
     "text": [
      "1j\n"
     ]
    }
   ],
   "source": [
    "import cmath\n",
    "\n",
    "i: complex = cmath.sqrt(-1)\n",
    "print(i)                        # print 1j"
   ]
  },
  {
   "cell_type": "code",
   "execution_count": 462,
   "metadata": {},
   "outputs": [],
   "source": [
    "@dataclass\n",
    "class ComplexNumber:\n",
    "    real_num: int\n",
    "    imag_num: int\n",
    "\n",
    "    # overriding inbuilt functions\n",
    "    __add__ = lambda self, other: ComplexNumber(self.real_num + other.real_num, self.imag_num + other.imag_num)\n",
    "\n",
    "    __sub__ = lambda self, other: ComplexNumber(self.real_num - other.real_num, self.imag_num - other.imag_num)\n",
    "\n",
    "    __mul__ = lambda self, other: ComplexNumber(self.real_num * other.real_num, self.imag_num * other.imag_num) if isinstance(other, ComplexNumber) else (ComplexNumber(self.real_num * other, self.imag_num * other) if isinstance(other, int) else NotImplemented)\n",
    "\n",
    "    __eq__ = lambda self, other: (self.real_num == other.real_num and self.imag_num == other.imag_num)\n",
    "\n",
    "    __repr__ = lambda self: f'Complex Number: {self.real_num} + {i * self.imag_num}'                 # \"__repr__\" is the function which when overridden does the complex number trick"
   ]
  },
  {
   "cell_type": "code",
   "execution_count": 463,
   "metadata": {},
   "outputs": [
    {
     "name": "stdout",
     "output_type": "stream",
     "text": [
      "Complex Number: 2 + 7j\n",
      "Complex Number: 6 + 8j\n",
      "Complex Number: -2 + 6j\n",
      "Complex Number: 8 + 7j\n",
      "Complex Number: 20 + 70j\n",
      "False\n",
      "Complex Number: 4 + 1j\n",
      "True\n"
     ]
    }
   ],
   "source": [
    "c1: ComplexNumber = ComplexNumber(2, 7)\n",
    "print(c1.__repr__())                            # prints Complex Number: 2 + 7j\n",
    "\n",
    "c2 = ComplexNumber(4, 1)\n",
    "\n",
    "print(c1 + c2)                      # prints Complex Number: 6 + 8j\n",
    "print(c1 - c2)                      # prints Complex Number: -2 + 6j\n",
    "print(c1 * c2)                      # prints Complex Number: 8 + 7j\n",
    "print(c1 * 10)                      # prints Complex Number: 20 + 70j\n",
    "\n",
    "print(c1.__eq__(c2))                # prints False\n",
    "print(c2.__repr__())                # prints Complex Number: 4 + 1j\n",
    "\n",
    "c2: ComplexNumber = c1\n",
    "print(c1.__eq__(c2))                # prints True"
   ]
  },
  {
   "cell_type": "code",
   "execution_count": 456,
   "metadata": {},
   "outputs": [],
   "source": []
  }
 ],
 "metadata": {
  "kernelspec": {
   "display_name": ".venv",
   "language": "python",
   "name": "python3"
  },
  "language_info": {
   "codemirror_mode": {
    "name": "ipython",
    "version": 3
   },
   "file_extension": ".py",
   "mimetype": "text/x-python",
   "name": "python",
   "nbconvert_exporter": "python",
   "pygments_lexer": "ipython3",
   "version": "3.12.7"
  }
 },
 "nbformat": 4,
 "nbformat_minor": 2
}
