{
 "cells": [
  {
   "cell_type": "markdown",
   "metadata": {},
   "source": [
    "#### Co-Pilot one tweaked"
   ]
  },
  {
   "cell_type": "code",
   "execution_count": 199,
   "metadata": {},
   "outputs": [],
   "source": [
    "from dataclasses import dataclass\n",
    "\n",
    "@dataclass\n",
    "class ExampleClass:\n",
    "    public_var: int\n",
    "    _protected_var: int\n",
    "    __private_var: int\n",
    "\n",
    "    # def __post_init__(self):                              # not needed\n",
    "    #     # Accessing private variable within the class\n",
    "    #     self.__private_var = self.__private_var\n",
    "\n",
    "    def get_private_var(self) -> int:\n",
    "        return self.__private_var\n",
    "    \n",
    "    def set_private_var(self, __private_var) -> None:\n",
    "        self.__private_var = __private_var"
   ]
  },
  {
   "cell_type": "code",
   "execution_count": 200,
   "metadata": {},
   "outputs": [
    {
     "name": "stdout",
     "output_type": "stream",
     "text": [
      "Public variable: 11\n",
      "Protected variable: 22\n",
      "Error: 'ExampleClass' object has no attribute '__private_var'\n",
      "Private variable via getter method: 33\n"
     ]
    }
   ],
   "source": [
    "# Create an instance of ExampleClass\n",
    "example = ExampleClass(11, 22, 33)\n",
    "\n",
    "# Accessing public variable\n",
    "print(f'Public variable: {example.public_var}')                 # Output: 11\n",
    "\n",
    "# Accessing protected variable\n",
    "print(f'Protected variable: {example._protected_var}')              # Output: 22\n",
    "\n",
    "\n",
    "# But accessing private variable directly (will raise an AttributeError)\n",
    "try:\n",
    "    print(f'Private variable: {example.__private_var}')\n",
    "except AttributeError as error:\n",
    "    print(f'Error: {error}')\n",
    "\n",
    "# Accessing private variable using a method\n",
    "print(f'Private variable via getter method: {example.get_private_var()}')       # Output: 33"
   ]
  },
  {
   "cell_type": "code",
   "execution_count": 201,
   "metadata": {},
   "outputs": [
    {
     "data": {
      "text/plain": [
       "['_ExampleClass__private_var',\n",
       " '__annotations__',\n",
       " '__class__',\n",
       " '__dataclass_fields__',\n",
       " '__dataclass_params__',\n",
       " '__delattr__',\n",
       " '__dict__',\n",
       " '__dir__',\n",
       " '__doc__',\n",
       " '__eq__',\n",
       " '__format__',\n",
       " '__ge__',\n",
       " '__getattribute__',\n",
       " '__getstate__',\n",
       " '__gt__',\n",
       " '__hash__',\n",
       " '__init__',\n",
       " '__init_subclass__',\n",
       " '__le__',\n",
       " '__lt__',\n",
       " '__match_args__',\n",
       " '__module__',\n",
       " '__ne__',\n",
       " '__new__',\n",
       " '__reduce__',\n",
       " '__reduce_ex__',\n",
       " '__repr__',\n",
       " '__setattr__',\n",
       " '__sizeof__',\n",
       " '__str__',\n",
       " '__subclasshook__',\n",
       " '__weakref__',\n",
       " '_protected_var',\n",
       " 'get_private_var',\n",
       " 'public_var',\n",
       " 'set_private_var']"
      ]
     },
     "execution_count": 201,
     "metadata": {},
     "output_type": "execute_result"
    }
   ],
   "source": [
    "dir(example)"
   ]
  },
  {
   "cell_type": "markdown",
   "metadata": {},
   "source": [
    "#### Krish one tweaked"
   ]
  },
  {
   "cell_type": "code",
   "execution_count": 202,
   "metadata": {},
   "outputs": [],
   "source": [
    "@dataclass\n",
    "class Person:\n",
    "    _gender: str         # protected variable\n",
    "    __name: str          # protected variable\n",
    "    __age: int           # private variable\n",
    "\n",
    "    # getter method for __name\n",
    "    get_name = lambda self: self.__name\n",
    "\n",
    "    # getter method for __age\n",
    "    get_age = lambda self: self.__age\n",
    "\n",
    "\n",
    "    # setter method for __name (SyntaxError: cannot assign to lambda since it carries a return type)\n",
    "    def set_name(self, __name) -> None:\n",
    "        self.__name = __name\n",
    "\n",
    "    # setter method for __age\n",
    "    def set_age(self, __age) -> None:\n",
    "        self.__age = __age if __age > 0 else print(f'Age entered is {__age} which cannot be negative')\n",
    "\n",
    "\n",
    "# Derived class 1\n",
    "# @dataclass                        # enable dataclass only if introducing new variables in Child class\n",
    "class Player(Person):\n",
    "    pass"
   ]
  },
  {
   "cell_type": "code",
   "execution_count": 203,
   "metadata": {},
   "outputs": [
    {
     "name": "stdout",
     "output_type": "stream",
     "text": [
      "Male\n"
     ]
    }
   ],
   "source": [
    "# create objects for Player (Derived) class\n",
    "\n",
    "player1: Player = Player('Male', 39, 'Vishwas Prajapati')      # follows sequence \"_gender\"  then    \"__name\"  then    \"__age\"\n",
    "print(player1._gender)"
   ]
  },
  {
   "cell_type": "code",
   "execution_count": 204,
   "metadata": {},
   "outputs": [
    {
     "name": "stdout",
     "output_type": "stream",
     "text": [
      "35\n",
      "Neha Teacher\n"
     ]
    }
   ],
   "source": [
    "# create objects for Person (Base) class & just calling the getter functions\n",
    "\n",
    "person1: Person = Person('Female', 35, 'Neha Teacher')\n",
    "\n",
    "print(person1.get_name())\n",
    "print(person1.get_age())"
   ]
  },
  {
   "cell_type": "code",
   "execution_count": 205,
   "metadata": {},
   "outputs": [
    {
     "name": "stdout",
     "output_type": "stream",
     "text": [
      "Arjun\n",
      "37\n"
     ]
    }
   ],
   "source": [
    "# now changing the __name & __age private variables calling the setter functions\n",
    "person1.set_name('Arjun')\n",
    "person1.set_age(37)\n",
    "\n",
    "print(person1.get_name())\n",
    "print(person1.get_age())"
   ]
  },
  {
   "cell_type": "code",
   "execution_count": 206,
   "metadata": {},
   "outputs": [
    {
     "name": "stdout",
     "output_type": "stream",
     "text": [
      "Age entered is -19 which cannot be negative\n"
     ]
    }
   ],
   "source": [
    "person1.set_age(-19)                # setting negative value for age\n",
    "person1.get_age()"
   ]
  },
  {
   "cell_type": "code",
   "execution_count": null,
   "metadata": {},
   "outputs": [],
   "source": []
  }
 ],
 "metadata": {
  "kernelspec": {
   "display_name": ".venv",
   "language": "python",
   "name": "python3"
  },
  "language_info": {
   "codemirror_mode": {
    "name": "ipython",
    "version": 3
   },
   "file_extension": ".py",
   "mimetype": "text/x-python",
   "name": "python",
   "nbconvert_exporter": "python",
   "pygments_lexer": "ipython3",
   "version": "3.12.7"
  }
 },
 "nbformat": 4,
 "nbformat_minor": 2
}
