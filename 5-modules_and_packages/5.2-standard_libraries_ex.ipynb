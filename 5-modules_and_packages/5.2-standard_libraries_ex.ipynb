{
 "cells": [
  {
   "cell_type": "markdown",
   "metadata": {},
   "source": [
    "#### Common functions used:\n",
    "\n",
    "1- .array()\n",
    "\n",
    "           from random  \n",
    "           \n",
    "2- .randint()\n",
    "\n",
    "3- .choice()\n",
    "\n",
    "            from os\n",
    "            \n",
    "4- .getcwd()\n",
    "\n",
    "5- .mkdir()\n",
    "\n",
    "            from shutil\n",
    "\n",
    "6- .copy()\n",
    "\n",
    "            from json\n",
    "\n",
    "7- .dumps()\n",
    "\n",
    "8- .loads()\n",
    "\n",
    "           from csv\n",
    "\n",
    "9- .writer(file)\n",
    "\n",
    "10- .reader(file)\n",
    "\n",
    "           from datetime\n",
    "\n",
    "11- .now()\n",
    "\n",
    "           from date\n",
    "\n",
    "12- .today()\n",
    "\n",
    "           from re\n",
    "\n",
    "13- .search(pattern, text)\n",
    "\n",
    "14- .findall(pattern, text)"
   ]
  },
  {
   "cell_type": "code",
   "execution_count": 2,
   "metadata": {},
   "outputs": [
    {
     "name": "stdout",
     "output_type": "stream",
     "text": [
      "<class 'array.array'>\n",
      "array('i', [1, 2, 3])\n"
     ]
    }
   ],
   "source": [
    "import array\n",
    "\n",
    "arr = array.array('i', [1, 2, 3])   # array.array('i', [1, 2, 3])   will create an array of integers with the type code 'i' and initial values [1, 2, 3].\n",
    "print(type(arr))\n",
    "print(arr)"
   ]
  },
  {
   "cell_type": "markdown",
   "metadata": {},
   "source": [
    "    The issue in your original code was:\n",
    "    - Missing typecode parameter\n",
    "    \n",
    "    - Wrong syntax for array creationKey points about array:\n",
    "    \n",
    "- Arrays are more memory efficient than lists for numeric data\n",
    "\n",
    "- Arrays can only store one type of data (specified by typecode)Common typecodes:\n",
    "    - 'i': signed integer\n",
    "\n",
    "    - 'f': float\n",
    "\n",
    "    - 'd': double\n",
    "\n",
    "    - 'B': unsigned char\n",
    "    \n",
    "    - 'u': Unicode character\n",
    "    \n",
    "- The array module is useful when you need to handle large sequences of numeric data efficiently and don't need the flexibility of Python lists."
   ]
  },
  {
   "cell_type": "code",
   "execution_count": 3,
   "metadata": {},
   "outputs": [
    {
     "name": "stdout",
     "output_type": "stream",
     "text": [
      "1\n",
      "Berries\n"
     ]
    }
   ],
   "source": [
    "import random\n",
    "print(random.randint(1, 8))\n",
    "print(random.choice(['Apple', 'Melon', 'Berries']))"
   ]
  },
  {
   "cell_type": "markdown",
   "metadata": {},
   "source": [
    "#### File & Directory Access"
   ]
  },
  {
   "cell_type": "code",
   "execution_count": 4,
   "metadata": {},
   "outputs": [
    {
     "data": {
      "text/plain": [
       "'/Users/imran-m/Python-projects/5-modules_and_packages'"
      ]
     },
     "execution_count": 4,
     "metadata": {},
     "output_type": "execute_result"
    }
   ],
   "source": [
    "# get full file path\n",
    "import os\n",
    "os.getcwd()                     # prints absolute path"
   ]
  },
  {
   "cell_type": "code",
   "execution_count": 5,
   "metadata": {},
   "outputs": [],
   "source": [
    "# create a new directory\n",
    "# os.mkdir('created_new_dir')         # recreating throws an error for the directory aleady exists, hence commented"
   ]
  },
  {
   "cell_type": "markdown",
   "metadata": {},
   "source": [
    "#### High level operations on files and collection of files"
   ]
  },
  {
   "cell_type": "code",
   "execution_count": 6,
   "metadata": {},
   "outputs": [
    {
     "data": {
      "text/plain": [
       "'destination.yaml'"
      ]
     },
     "execution_count": 6,
     "metadata": {},
     "output_type": "execute_result"
    }
   ],
   "source": [
    "# Copy Files\n",
    "import shutil\n",
    "shutil.copy('source.yml', 'destination.yaml')"
   ]
  },
  {
   "cell_type": "markdown",
   "metadata": {},
   "source": [
    "#### Data Serialization"
   ]
  },
  {
   "cell_type": "code",
   "execution_count": 7,
   "metadata": {},
   "outputs": [
    {
     "name": "stdout",
     "output_type": "stream",
     "text": [
      "{\"name\": \"Aditya\", \"emp_id\": 6756587, \"is_developer\": true, \"hacker_rank_spot\": 668.98}\n",
      "<class 'str'>\n",
      "{'name': 'Aditya', 'emp_id': 6756587, 'is_developer': True, 'hacker_rank_spot': 668.98}\n",
      "<class 'dict'> \n",
      "\n",
      "name: Aditya\n",
      "emp_id: 6756587\n",
      "is_developer: True\n",
      "hacker_rank_spot: 668.98\n"
     ]
    }
   ],
   "source": [
    "import json\n",
    "employee: dict[str, object] = {\n",
    "    'name': 'Aditya',\n",
    "    'emp_id': 6756587,\n",
    "    'is_developer': True,\n",
    "    'hacker_rank_spot': 668.98\n",
    "}\n",
    "\n",
    "# convert to string\n",
    "employee_str: str = json.dumps(employee)\n",
    "print(employee_str)\n",
    "print(type(employee_str))\n",
    "\n",
    "\n",
    "# convert back to json data (dict) like object\n",
    "employee_json: dict[str, object] = json.loads(employee_str)\n",
    "print(employee_json)\n",
    "print(type(employee_json),'\\n')\n",
    "\n",
    "\n",
    "for each_key, each_val in employee_json.items():\n",
    "    print(f'{each_key}: {each_val}')"
   ]
  },
  {
   "cell_type": "code",
   "execution_count": 8,
   "metadata": {},
   "outputs": [],
   "source": [
    "# write / create a csv file\n",
    "import csv\n",
    "with open('example.csv', 'w', newline = '') as file:        # with open('example.csv', mode = 'w', newline = '') as file:\n",
    "    writer = csv.writer(file)\n",
    "    writer.writerow(['Name', 'Age'])\n",
    "    writer.writerow(['Aradhana', '52'])"
   ]
  },
  {
   "cell_type": "code",
   "execution_count": 9,
   "metadata": {},
   "outputs": [
    {
     "name": "stdout",
     "output_type": "stream",
     "text": [
      "['Name', 'Age']\n",
      "['Aradhana', '52']\n"
     ]
    }
   ],
   "source": [
    "# read the csv file\n",
    "with open('example.csv', 'r') as file:\n",
    "    reader = csv.reader(file)\n",
    "    for row in reader:\n",
    "        print(row)"
   ]
  },
  {
   "cell_type": "markdown",
   "metadata": {},
   "source": [
    "#### Date & Time functions"
   ]
  },
  {
   "cell_type": "code",
   "execution_count": 10,
   "metadata": {},
   "outputs": [
    {
     "name": "stdout",
     "output_type": "stream",
     "text": [
      "2024-12-28 14:07:35.917773\n",
      "2024-12-28\n"
     ]
    }
   ],
   "source": [
    "from datetime import date, datetime, timedelta\n",
    "\n",
    "print(datetime.now())          # prints current date & time, use with print statement to get better format\n",
    "print(date.today())            # prints 2024-12-28"
   ]
  },
  {
   "cell_type": "code",
   "execution_count": 11,
   "metadata": {},
   "outputs": [
    {
     "name": "stdout",
     "output_type": "stream",
     "text": [
      "2024-12-27 14:07:35.922361\n"
     ]
    }
   ],
   "source": [
    "# print yesterday's date time - 24hrs back\n",
    "current_time: datetime = datetime.now()\n",
    "\n",
    "yday: datetime = current_time-timedelta(days = 1)\n",
    "print(yday)"
   ]
  },
  {
   "cell_type": "code",
   "execution_count": 12,
   "metadata": {},
   "outputs": [
    {
     "name": "stdout",
     "output_type": "stream",
     "text": [
      "1735375055.9261708\n",
      "1735375056.9315479\n"
     ]
    }
   ],
   "source": [
    "# use time() to sleep apps\n",
    "import time\n",
    "\n",
    "print(time.time())\n",
    "time.sleep(1)                   # halts for 1 sec and then goes to line #6\n",
    "# print(time.sleep(1))        # useless but prints None\n",
    "print(time.time())"
   ]
  },
  {
   "cell_type": "markdown",
   "metadata": {},
   "source": [
    "#### Regular Expressions"
   ]
  },
  {
   "cell_type": "code",
   "execution_count": 13,
   "metadata": {},
   "outputs": [
    {
     "name": "stdout",
     "output_type": "stream",
     "text": [
      "123\n",
      "['123', '456']\n"
     ]
    }
   ],
   "source": [
    "import re\n",
    "\n",
    "pattern: str = r'\\d+'\n",
    "\n",
    "# Example usage of the pattern\n",
    "text: str = \"There are 123 apples and 456 oranges.\"\n",
    "\n",
    "match: re.Match[str] | None = re.search(pattern, text)\n",
    "print(match.group())                                    # only prints 123 coz it stops after finding a digit search i.e, \\d+\n",
    "\n",
    "match: re.Match[str] | None = re.findall(pattern, text)\n",
    "print(match)                            # searches till end of line and Output: ['123', '456']"
   ]
  },
  {
   "cell_type": "code",
   "execution_count": null,
   "metadata": {},
   "outputs": [],
   "source": []
  }
 ],
 "metadata": {
  "kernelspec": {
   "display_name": ".venv",
   "language": "python",
   "name": "python3"
  },
  "language_info": {
   "codemirror_mode": {
    "name": "ipython",
    "version": 3
   },
   "file_extension": ".py",
   "mimetype": "text/x-python",
   "name": "python",
   "nbconvert_exporter": "python",
   "pygments_lexer": "ipython3",
   "version": "3.12.7"
  }
 },
 "nbformat": 4,
 "nbformat_minor": 2
}
