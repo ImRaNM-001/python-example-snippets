{
 "cells": [
  {
   "cell_type": "markdown",
   "metadata": {},
   "source": [
    "#### Naming Conventions\n",
    "can start with letter or _ but not with number \\\n",
    "can be case sensitive \\\n",
    "can contain letters, numbers & underscore"
   ]
  },
  {
   "cell_type": "markdown",
   "metadata": {},
   "source": [
    "#### valid variable names"
   ]
  },
  {
   "cell_type": "code",
   "execution_count": 10,
   "metadata": {},
   "outputs": [],
   "source": [
    "first_name: str = 'John'\n",
    "last_name12: str = 'Doe'"
   ]
  },
  {
   "cell_type": "markdown",
   "metadata": {},
   "source": [
    "#### Invalid variable names"
   ]
  },
  {
   "cell_type": "code",
   "execution_count": 11,
   "metadata": {},
   "outputs": [
    {
     "ename": "SyntaxError",
     "evalue": "invalid decimal literal (2568157717.py, line 1)",
     "output_type": "error",
     "traceback": [
      "\u001b[0;36m  Cell \u001b[0;32mIn[11], line 1\u001b[0;36m\u001b[0m\n\u001b[0;31m    2age: int = 30\u001b[0m\n\u001b[0m    ^\u001b[0m\n\u001b[0;31mSyntaxError\u001b[0m\u001b[0;31m:\u001b[0m invalid decimal literal\n"
     ]
    }
   ],
   "source": [
    "2age: int = 30\n",
    "first-name: str = 'Jack'        # - is not a valid symbol for variable declaration\n",
    "@name: str = 'Phil'"
   ]
  },
  {
   "cell_type": "code",
   "execution_count": 19,
   "metadata": {},
   "outputs": [
    {
     "data": {
      "text/plain": [
       "True"
      ]
     },
     "execution_count": 19,
     "metadata": {},
     "output_type": "execute_result"
    }
   ],
   "source": [
    "#### case sensitivity\n",
    "name: str = 'John'\n",
    "Name: str = 'John'\n",
    "\n",
    "name == Name        # prints True as values are same"
   ]
  },
  {
   "cell_type": "markdown",
   "metadata": {},
   "source": [
    "#### Type checking and conversion\n",
    "print type of variable \\\n",
    "convert 1 type to another"
   ]
  },
  {
   "cell_type": "code",
   "execution_count": 22,
   "metadata": {},
   "outputs": [
    {
     "data": {
      "text/plain": [
       "float"
      ]
     },
     "execution_count": 22,
     "metadata": {},
     "output_type": "execute_result"
    }
   ],
   "source": [
    "height: float = 5.5\n",
    "is_employee: bool = True\n",
    "\n",
    "type(height)"
   ]
  },
  {
   "cell_type": "code",
   "execution_count": 23,
   "metadata": {},
   "outputs": [
    {
     "data": {
      "text/plain": [
       "bool"
      ]
     },
     "execution_count": 23,
     "metadata": {},
     "output_type": "execute_result"
    }
   ],
   "source": [
    "type(is_employee)"
   ]
  },
  {
   "cell_type": "code",
   "execution_count": 28,
   "metadata": {},
   "outputs": [
    {
     "name": "stdout",
     "output_type": "stream",
     "text": [
      "<class 'int'>\n",
      "25\n",
      "<class 'str'>\n",
      "5.5\n",
      "True\n",
      "<class 'str'>\n"
     ]
    }
   ],
   "source": [
    "age: int = 25\n",
    "print(type(age))\n",
    "\n",
    "age_str: str = str(age)\n",
    "print(age_str)\n",
    "print(type(age_str))\n",
    "\n",
    "height_str: str = str(height)\n",
    "print(height_str)\n",
    "\n",
    "is_employee: str = str(is_employee)\n",
    "print(is_employee)\n",
    "print(type(is_employee))\n"
   ]
  },
  {
   "cell_type": "code",
   "execution_count": 34,
   "metadata": {},
   "outputs": [
    {
     "name": "stdout",
     "output_type": "stream",
     "text": [
      "<class 'int'>\n",
      "5\n",
      "<class 'int'>\n"
     ]
    }
   ],
   "source": [
    "age_str: str = '25'\n",
    "age: int = int(age_str)\n",
    "\n",
    "print(type(age))\n",
    "\n",
    "# convert float to int\n",
    "height_int: int = int(height)\n",
    "print(height_int)\n",
    "print(type(height_int))"
   ]
  },
  {
   "cell_type": "markdown",
   "metadata": {},
   "source": [
    "#### Input function\n",
    "by default takes as a 'string' unless typecasted \\\n",
    "\\\n",
    "ex: written a calculator application"
   ]
  },
  {
   "cell_type": "code",
   "execution_count": 40,
   "metadata": {},
   "outputs": [
    {
     "name": "stdout",
     "output_type": "stream",
     "text": [
      "mike\n",
      "45\n"
     ]
    }
   ],
   "source": [
    "new_name: str = input('what is your name?')\n",
    "print(new_name)\n",
    "\n",
    "# another_age: int = input('enter your age')        # won't work if NOT typecasted\n",
    "another_age: int = int(input('enter your age'))     # typecasted to int\n",
    "print(another_age)"
   ]
  },
  {
   "cell_type": "markdown",
   "metadata": {},
   "source": [
    "#### Simple Calculator application"
   ]
  },
  {
   "cell_type": "code",
   "execution_count": 45,
   "metadata": {},
   "outputs": [
    {
     "name": "stdout",
     "output_type": "stream",
     "text": [
      "Sum of 2 nos  15.4\n",
      "Subtraction of 2 nos  -2.4000000000000004\n",
      "Multiplication of 2 nos  58\n",
      "Division of 2 nos  0.7303370786516854\n"
     ]
    }
   ],
   "source": [
    "num1: float = float(input('enter the 1st num'))\n",
    "num2: float = float(input('enter the 2nd num'))\n",
    "\n",
    "sum: float = num1 + num2\n",
    "sub: float = num1 - num2\n",
    "mul: float = num1 * num2\n",
    "div: float = num1 / num2\n",
    "\n",
    "print('Sum of 2 nos ', sum)\n",
    "print('Subtraction of 2 nos ', sub)\n",
    "print('Multiplication of 2 nos ', round(mul))\n",
    "print('Division of 2 nos ', div)\n"
   ]
  },
  {
   "cell_type": "code",
   "execution_count": null,
   "metadata": {},
   "outputs": [],
   "source": []
  }
 ],
 "metadata": {
  "kernelspec": {
   "display_name": ".venv",
   "language": "python",
   "name": "python3"
  },
  "language_info": {
   "codemirror_mode": {
    "name": "ipython",
    "version": 3
   },
   "file_extension": ".py",
   "mimetype": "text/x-python",
   "name": "python",
   "nbconvert_exporter": "python",
   "pygments_lexer": "ipython3",
   "version": "3.12.7"
  }
 },
 "nbformat": 4,
 "nbformat_minor": 2
}
