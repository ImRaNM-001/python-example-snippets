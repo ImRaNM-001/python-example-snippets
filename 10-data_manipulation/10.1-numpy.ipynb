{
 "cells": [
  {
   "cell_type": "markdown",
   "metadata": {},
   "source": [
    "#### NumPy (aka Numerical Python) \n",
    "\n",
    "    is a fundamental library for scientific computing in Python. \n",
    "    \n",
    "    It provides support for arrays and matrices, along with a collection of mathematical functions to operate on these data structures &focuses on arrays and vectorized operations.\n",
    "    \n",
    "    \n",
    "#### Common functions used:\n",
    "           \n",
    "1- .array()  \n",
    "\n",
    "2- .shape \\\n",
    "ex: arr.shape\n",
    "\n",
    "3- .reshape()\n",
    "\n",
    "4- .arange()\n",
    "\n",
    "5- .ones(row, col)\n",
    "\n",
    "6- .zeros(row, col)\n",
    "\n",
    "7- .eye()\n",
    "\n",
    "8- .ndim \\\n",
    "ex: arr.ndim\n",
    "\n",
    "9- .size\n",
    "\n",
    "10- .dtype\n",
    "\n",
    "11- .itemsize\n",
    "\n",
    "12- .sqrt()\n",
    "\n",
    "13- .exp() \\\n",
    "exponential\n",
    "\n",
    "14- .sin()\n",
    "\n",
    "15- .log()\n",
    "\n",
    "16- .mean(data) \\\n",
    "data could be anything\n",
    "\n",
    "17- .std(data)\n",
    "\n",
    "18- .median(data)\n",
    "\n",
    "19- .var(data) \\\n",
    "variance\n",
    "\n",
    "20- .random().randint()\n",
    "\n",
    "21- .random().randn()\n",
    "\n",
    "22- .random().random_sample()"
   ]
  },
  {
   "cell_type": "code",
   "execution_count": 65,
   "metadata": {},
   "outputs": [
    {
     "name": "stdout",
     "output_type": "stream",
     "text": [
      "[1, 3, 7, 9, 13]\n",
      "<class 'list'>\n"
     ]
    }
   ],
   "source": [
    "num_list: list[int] = [1, 3, 7, 9, 13]\n",
    "print(num_list)\n",
    "print(type(num_list))"
   ]
  },
  {
   "cell_type": "code",
   "execution_count": 66,
   "metadata": {},
   "outputs": [],
   "source": [
    "import numpy as np"
   ]
  },
  {
   "cell_type": "code",
   "execution_count": 67,
   "metadata": {},
   "outputs": [
    {
     "name": "stdout",
     "output_type": "stream",
     "text": [
      "[ 1  3  7  9 13]\n",
      "(5,)\n",
      "\n",
      " <class 'numpy.ndarray'>\n"
     ]
    }
   ],
   "source": [
    "arr_1 = np.array(num_list)                # also can be written as  np.array( [1, 3, 7, 9, 13] )\n",
    "print(arr_1)                # prints [ 1  3  7  9 13]\n",
    "print(arr_1.shape)           # prints (5,) means 1D array having 5 elements\n",
    "\n",
    "print('\\n', type(arr_1))"
   ]
  },
  {
   "cell_type": "code",
   "execution_count": 68,
   "metadata": {},
   "outputs": [
    {
     "name": "stdout",
     "output_type": "stream",
     "text": [
      "[[ 1  3  7  9 13]]\n",
      "[[[ 1]\n",
      "  [ 3]\n",
      "  [ 7]\n",
      "  [ 9]\n",
      "  [13]]]\n",
      "[ 1  3  7  9 13]\n"
     ]
    }
   ],
   "source": [
    "# reshape to a 2D array\n",
    "print(arr_1.reshape(1, 5))              # prints a 2D array [[ 1  3  7  9 13]] means 1 row & 5 columns\n",
    "print(arr_1.reshape(1, 5, 1))            # prints  a 3D array with 5 rows and  1 column\n",
    "\n",
    "print(arr_1)                    # prints [ 1  3  7  9 13] - changes won't be saved"
   ]
  },
  {
   "cell_type": "code",
   "execution_count": 69,
   "metadata": {},
   "outputs": [
    {
     "name": "stdout",
     "output_type": "stream",
     "text": [
      "[[ 1  3  7  9 13]]\n",
      "(1, 5)\n"
     ]
    }
   ],
   "source": [
    "# create 2D array directly\n",
    "arr_2 = np.array([ num_list ])                # also can be written as np.array([ [1, 3, 7, 9, 13] ])\n",
    "print(arr_2)\n",
    "print(arr_2.shape)                      # prints (1, 5) means 1 row and 5 columns"
   ]
  },
  {
   "cell_type": "code",
   "execution_count": 70,
   "metadata": {},
   "outputs": [
    {
     "name": "stdout",
     "output_type": "stream",
     "text": [
      "[[ 1  2  3  4  5]\n",
      " [ 3  4  5  6  7]\n",
      " [ 7  9 11 13 19]]\n",
      "15\n"
     ]
    }
   ],
   "source": [
    "list_1: list[int] = [1, 2, 3, 4, 5]\n",
    "list_2: list[int] = [3, 4, 5, 6, 7]\n",
    "list_3: list[int] = [7, 9, 11, 13, 19]              # ensure rows & cols count/size should be same\n",
    "\n",
    "arr_from_list = np.array([ list_1, \n",
    "          list_2, \n",
    "          list_3] )                     # prints 3 x 5 matrix\n",
    "\n",
    "print(arr_from_list)\n",
    "print(arr_from_list.size)               # size of 3 x 5 matrix = 15"
   ]
  },
  {
   "cell_type": "code",
   "execution_count": 71,
   "metadata": {},
   "outputs": [
    {
     "name": "stdout",
     "output_type": "stream",
     "text": [
      "Array: [[ 2  3  5  6]\n",
      " [ 7  9 11 21]]\n",
      "\n",
      "Shape of array: (2, 4)\n",
      "\n",
      "Number of dimensions: 2\n",
      "\n",
      "Size aka no. of elements: 8\n",
      "\n",
      "Data type of array: int64\n",
      "\n",
      "Item size (in bytes) of array: 8\n",
      "\n"
     ]
    }
   ],
   "source": [
    "arr_3 = np.array([ [2, 3, 5, 6],\n",
    "                                [7, 9, 11, 21] ])\n",
    "\n",
    "# Attributes of Numpy Array\n",
    "print(f'Array: {arr_3}\\n')\n",
    "print(f'Shape of array: {arr_3.shape}\\n')              # prints (2,4) means 2 row & 4 columns\n",
    "print(f'Number of dimensions: {arr_3.ndim}\\n') \n",
    "print(f'Size aka no. of elements: {arr_3.size}\\n') \n",
    "print(f'Data type of array: {arr_3.dtype}\\n') \n",
    "print(f'Item size (in bytes) of array: {arr_3.itemsize}\\n') "
   ]
  },
  {
   "cell_type": "markdown",
   "metadata": {},
   "source": [
    "#### other ways to create array\n",
    "\n",
    "            - via .arange([start],  [stop],  [step]) function"
   ]
  },
  {
   "cell_type": "code",
   "execution_count": 72,
   "metadata": {},
   "outputs": [
    {
     "data": {
      "text/plain": [
       "array([0, 2, 4, 6, 8])"
      ]
     },
     "execution_count": 72,
     "metadata": {},
     "output_type": "execute_result"
    }
   ],
   "source": [
    "np.arange(0, 10, 2)         # means start from 0, go till 10 but skip 10 and jump every 2 nos. - 0, 2, 4...."
   ]
  },
  {
   "cell_type": "code",
   "execution_count": 73,
   "metadata": {},
   "outputs": [
    {
     "data": {
      "text/plain": [
       "array([[0],\n",
       "       [2],\n",
       "       [4],\n",
       "       [6],\n",
       "       [8]])"
      ]
     },
     "execution_count": 73,
     "metadata": {},
     "output_type": "execute_result"
    }
   ],
   "source": [
    "# reshaping similar array to 2D\n",
    "np.arange(0, 10, 2).reshape(5, 1)         # since there are 5 elements in array, hence reshaping can be done in multiples of 5 either in 5 x 1 (or) 1 x 5"
   ]
  },
  {
   "cell_type": "code",
   "execution_count": 74,
   "metadata": {},
   "outputs": [
    {
     "data": {
      "text/plain": [
       "array([1., 1., 1.])"
      ]
     },
     "execution_count": 74,
     "metadata": {},
     "output_type": "execute_result"
    }
   ],
   "source": [
    "np.ones((3, ))          # means create 1D array with 3 elements - all with values = 1"
   ]
  },
  {
   "cell_type": "code",
   "execution_count": 75,
   "metadata": {},
   "outputs": [
    {
     "data": {
      "text/plain": [
       "array([[1., 1., 1., 1.],\n",
       "       [1., 1., 1., 1.],\n",
       "       [1., 1., 1., 1.]])"
      ]
     },
     "execution_count": 75,
     "metadata": {},
     "output_type": "execute_result"
    }
   ],
   "source": [
    "np.ones((3, 4))          # means create 2D array with 3 rows and 4 cols - all with values = 1"
   ]
  },
  {
   "cell_type": "code",
   "execution_count": 76,
   "metadata": {},
   "outputs": [
    {
     "data": {
      "text/plain": [
       "array([[0., 0., 0., 0.],\n",
       "       [0., 0., 0., 0.],\n",
       "       [0., 0., 0., 0.]])"
      ]
     },
     "execution_count": 76,
     "metadata": {},
     "output_type": "execute_result"
    }
   ],
   "source": [
    "np.zeros((3, 4))             # means create 2D array with 3 rows and 4 cols - all with values = 0"
   ]
  },
  {
   "cell_type": "code",
   "execution_count": 77,
   "metadata": {},
   "outputs": [
    {
     "name": "stdout",
     "output_type": "stream",
     "text": [
      "[[1. 0. 0.]\n",
      " [0. 1. 0.]\n",
      " [0. 0. 1.]]\n",
      "[[1. 0.]\n",
      " [0. 1.]]\n"
     ]
    }
   ],
   "source": [
    "# create identity matrix\n",
    "print(np.eye(3))               # creates a sqaure matrix of 3 x 3 (3 rows, 3 cols) which has 1 inserted diagonally\n",
    "print(np.eye(2))               # creates a sqaure matrix of 2 x 2 (2 rows, 2 cols) which has 1 inserted diagonally"
   ]
  },
  {
   "cell_type": "markdown",
   "metadata": {},
   "source": [
    "#### Numpy Vectorized oeprations"
   ]
  },
  {
   "cell_type": "code",
   "execution_count": 78,
   "metadata": {},
   "outputs": [
    {
     "name": "stdout",
     "output_type": "stream",
     "text": [
      "Adding 2 arrays: [ 9  5  9 12]\n",
      "Subtracting 2 arrays: [-5  3  3  4]\n",
      "Multiplying 2 arrays: [14  4 18 32]\n",
      "Multiplying num_1 array with 3: [ 6 12 18 24]\n",
      "Dividing 2 arrays: [0.28571429 4.         2.         2.        ]\n"
     ]
    }
   ],
   "source": [
    "num_1 = np.array([2, 4, 6, 8])\n",
    "num_2 = np.array([7, 1, 3, 4])\n",
    "\n",
    "print('Adding 2 arrays:', num_1 + num_2)\n",
    "print('Subtracting 2 arrays:', num_1 - num_2)\n",
    "print('Multiplying 2 arrays:', num_1 * num_2)\n",
    "print('Multiplying num_1 array with 3:', num_1 * 3)\n",
    "\n",
    "print('Dividing 2 arrays:', num_1 / num_2)"
   ]
  },
  {
   "cell_type": "markdown",
   "metadata": {},
   "source": [
    "#### Universal functions\n",
    "\n",
    "        are the functions which applies to the entire array"
   ]
  },
  {
   "cell_type": "code",
   "execution_count": 79,
   "metadata": {},
   "outputs": [
    {
     "name": "stdout",
     "output_type": "stream",
     "text": [
      "[ 3.  4.  8.  9. 10.]\n",
      "[   7.3890561    54.59815003  403.42879349 2980.95798704]\n",
      "[ 0.90929743 -0.7568025  -0.2794155   0.98935825]\n",
      "[0.69314718 1.38629436 1.79175947 2.07944154]\n"
     ]
    }
   ],
   "source": [
    "num_4 = np.array([9, 16, 64, 81, 100])\n",
    "\n",
    "# square root\n",
    "print(np.sqrt(num_4))\n",
    "\n",
    "# exponential like 8^8\n",
    "print(np.exp(num_1))                    # num_1 = np.array([2, 4, 6, 8])\n",
    "\n",
    "# Sine\n",
    "print(np.sin(num_1))\n",
    "\n",
    "# natural log\n",
    "print(np.log(num_1))"
   ]
  },
  {
   "cell_type": "markdown",
   "metadata": {},
   "source": [
    "#### Array slicing and indexing     [VERY IMPORTANT]"
   ]
  },
  {
   "cell_type": "code",
   "execution_count": 80,
   "metadata": {},
   "outputs": [
    {
     "name": "stdout",
     "output_type": "stream",
     "text": [
      "13\n",
      "9\n",
      "[1 3 7 9]\n",
      "[1 3 7]\n"
     ]
    }
   ],
   "source": [
    "# pick last & 2nd last element\n",
    "# arr_1 was defined above as        [ 1  3  7  9 13]\n",
    "\n",
    "print(arr_1[-1])            # -1 means pick last element only i.e, 13\n",
    "print(arr_1[-2])            # -2 means pick 2nd last element only i.e, 9\n",
    "\n",
    "# single colon : with -1 means start from 0th index and go till -1 (which is last element) and skip last element\n",
    "print(arr_1[:-1])                   # prints [1 3 7 9]\n",
    "\n",
    "print(arr_1[:-2])                   # prints [1 3 7] - skipped the last 2 elements"
   ]
  },
  {
   "cell_type": "code",
   "execution_count": 81,
   "metadata": {},
   "outputs": [
    {
     "name": "stdout",
     "output_type": "stream",
     "text": [
      "[13  9  7  3  1]\n",
      "[13  7  1]\n"
     ]
    }
   ],
   "source": [
    "# reverse the array\n",
    "print(arr_1[::-1])                 # prints array([13,  9,  7,  3,  1])\n",
    "\n",
    "# print from back but jump / skip 1 element\n",
    "print(arr_1[::-2])                          # prints [13  7  1]"
   ]
  },
  {
   "cell_type": "code",
   "execution_count": 103,
   "metadata": {},
   "outputs": [
    {
     "name": "stdout",
     "output_type": "stream",
     "text": [
      "[[ 2  3  5  6]\n",
      " [11  7  9  0]\n",
      " [ 1  8 -1 12]]\n"
     ]
    }
   ],
   "source": [
    "# Slicing operations on multi-dimensional arrays\n",
    "\n",
    "num_5 = np.array([ [2, 3, 5, 6],                # 3 x 4 matrix\n",
    "                  [11, 7, 9, 0],\n",
    "                  [1, 8, -1, 12],\n",
    "])\n",
    "print(num_5)\n"
   ]
  },
  {
   "cell_type": "code",
   "execution_count": 108,
   "metadata": {},
   "outputs": [
    {
     "name": "stdout",
     "output_type": "stream",
     "text": [
      "9\n",
      "8\n"
     ]
    }
   ],
   "source": [
    "# pick only 9 8\n",
    "print(f'{num_5[1, 2]}\\n{num_5[2, 1]}')"
   ]
  },
  {
   "cell_type": "code",
   "execution_count": 96,
   "metadata": {},
   "outputs": [
    {
     "data": {
      "text/plain": [
       "array([[ 2,  6],\n",
       "       [11,  0],\n",
       "       [ 1, 12]])"
      ]
     },
     "execution_count": 96,
     "metadata": {},
     "output_type": "execute_result"
    }
   ],
   "source": [
    "# pick 1st col values only i.e, 3 7 8 (vertically)\n",
    "num_5[:, [0, -1]]                 # : means take all rows, [0, -1] means just take 0th col and -1 col"
   ]
  },
  {
   "cell_type": "code",
   "execution_count": 84,
   "metadata": {},
   "outputs": [
    {
     "data": {
      "text/plain": [
       "array([ 6,  0, 12])"
      ]
     },
     "execution_count": 84,
     "metadata": {},
     "output_type": "execute_result"
    }
   ],
   "source": [
    "# assignment asked - pick 2 11 1 and 6 0 12\n",
    "num_5[:, 3]"
   ]
  },
  {
   "cell_type": "code",
   "execution_count": 85,
   "metadata": {},
   "outputs": [
    {
     "name": "stdout",
     "output_type": "stream",
     "text": [
      "[2 3 5 6]\n",
      "2\n",
      "[[ 9  0]\n",
      " [-1 12]]\n",
      "[[5 6]\n",
      " [9 0]]\n",
      "[[ 7  9]\n",
      " [ 8 -1]]\n"
     ]
    }
   ],
   "source": [
    "# pick 0th row\n",
    "print(num_5[0])\n",
    "\n",
    "# pick 0th row 0th element\n",
    "print(num_5[0][0])\n",
    "\n",
    "\n",
    "# pick elements: 9 0 -1 12\n",
    "print(num_5[1:, 2:])                 # gone from 1st row and 2nd col till end\n",
    "\n",
    "\n",
    "# pick elements: 5 6 9 0 \n",
    "print(num_5[0:2, 2:])                 # gone from 0th - 1st row and 2nd col till end\n",
    "\n",
    "\n",
    "# pick elements: 7 9 8 -1 \n",
    "print(num_5[1:, 1:3])"
   ]
  },
  {
   "cell_type": "code",
   "execution_count": 86,
   "metadata": {},
   "outputs": [
    {
     "name": "stdout",
     "output_type": "stream",
     "text": [
      "[[ 100    3    5    6]\n",
      " [  11    7    9    0]\n",
      " [   1    8   -1 -212]]\n",
      "[[100   3   5   6]\n",
      " [  0   0   0   0]\n",
      " [  0   0   0   0]]\n"
     ]
    }
   ],
   "source": [
    "# modify array elements\n",
    "num_5[0, 0] = 100\n",
    "num_5[2, 3] = -212\n",
    "\n",
    "# num_5[2] = 90               # beware - this will change all elements of row 3\n",
    "\n",
    "print(num_5)\n",
    "\n",
    "num_5[1:] = 0               # beware - changes all elements from 1st row till end\n",
    "print(num_5)"
   ]
  },
  {
   "cell_type": "markdown",
   "metadata": {},
   "source": [
    "#### Logical Operations\n",
    "\n",
    "               - mainly used for EDA aka Exploratory Data Analysis"
   ]
  },
  {
   "cell_type": "code",
   "execution_count": 87,
   "metadata": {},
   "outputs": [
    {
     "data": {
      "text/plain": [
       "array([False, False,  True,  True, False,  True, False,  True,  True,\n",
       "       False])"
      ]
     },
     "execution_count": 87,
     "metadata": {},
     "output_type": "execute_result"
    }
   ],
   "source": [
    "data = np.array([2, 4, 6, 7, 4, 9, 0, 11, 13, 5])\n",
    "\n",
    "data > 5"
   ]
  },
  {
   "cell_type": "code",
   "execution_count": 88,
   "metadata": {},
   "outputs": [
    {
     "name": "stdout",
     "output_type": "stream",
     "text": [
      "[ 6  7  9 11 13]\n",
      "[6 7 9]\n"
     ]
    }
   ],
   "source": [
    "# retrieve all elements greater than 5\n",
    "print(data[data > 5])\n",
    "\n",
    "# retrieve all elements greater than 5 and less than 10 - parenthesis is SUPER important\n",
    "print(data[ (data > 5) \n",
    "           & (data < 10)\n",
    "           ])"
   ]
  },
  {
   "cell_type": "code",
   "execution_count": 89,
   "metadata": {},
   "outputs": [
    {
     "name": "stdout",
     "output_type": "stream",
     "text": [
      "49\n",
      "[24 31 38 24]\n"
     ]
    }
   ],
   "source": [
    "print(np.random.randint(10, 50))       # initializes a random number between 10 & 50 each time when run\n",
    "\n",
    "print(np.random.randint(10, 50, 4))        # 4 is the size which means it will create an array of 4 elements now"
   ]
  },
  {
   "cell_type": "code",
   "execution_count": 90,
   "metadata": {},
   "outputs": [
    {
     "data": {
      "text/plain": [
       "array([[0.18983761, 0.55115729, 0.33600182],\n",
       "       [0.37554289, 0.49062386, 0.34594219],\n",
       "       [0.79727876, 0.45698877, 0.62428436],\n",
       "       [0.02050357, 0.6292971 , 0.19382063]])"
      ]
     },
     "execution_count": 90,
     "metadata": {},
     "output_type": "execute_result"
    }
   ],
   "source": [
    "np.random.random_sample((4,3))          # creates a 4 x 3 matrix array of 1 < nos > -1"
   ]
  },
  {
   "cell_type": "markdown",
   "metadata": {},
   "source": [
    "#### Statistical concept aka \"**Normalization**\"\n",
    "\n",
    "- to have a mean of **0** and standard deviation of **1**  \n",
    "\n",
    "        (may not be required for MLOps - hence parked for now)"
   ]
  },
  {
   "cell_type": "code",
   "execution_count": 91,
   "metadata": {},
   "outputs": [
    {
     "name": "stdout",
     "output_type": "stream",
     "text": [
      "Normalized data: [-1.41421356 -0.70710678  0.          0.70710678  1.41421356]\n"
     ]
    }
   ],
   "source": [
    "data = np.array([1, 2, 3, 4, 5])\n",
    "\n",
    "# Calculate the mean and standard deviation\n",
    "mean = np.mean(data)\n",
    "\n",
    "std_dev = np.std(data)\n",
    "\n",
    "# Normalize the data\n",
    "normalized_data = (data - mean) / std_dev\n",
    "\n",
    "print('Normalized data:', normalized_data)              # Normalized data: [-1.41421356 -0.70710678  0.          0.70710678  1.41421356]"
   ]
  },
  {
   "cell_type": "code",
   "execution_count": 92,
   "metadata": {},
   "outputs": [],
   "source": [
    "# mean, median, mode - LEFT for now"
   ]
  },
  {
   "cell_type": "code",
   "execution_count": null,
   "metadata": {},
   "outputs": [],
   "source": []
  }
 ],
 "metadata": {
  "kernelspec": {
   "display_name": ".venv",
   "language": "python",
   "name": "python3"
  },
  "language_info": {
   "codemirror_mode": {
    "name": "ipython",
    "version": 3
   },
   "file_extension": ".py",
   "mimetype": "text/x-python",
   "name": "python",
   "nbconvert_exporter": "python",
   "pygments_lexer": "ipython3",
   "version": "3.12.7"
  }
 },
 "nbformat": 4,
 "nbformat_minor": 2
}
