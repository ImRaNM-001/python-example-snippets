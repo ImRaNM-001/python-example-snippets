{
 "cells": [
  {
   "cell_type": "markdown",
   "metadata": {},
   "source": [
    "> #### **NumPy (aka Numerical Python)** \n",
    "\n",
    "    is a fundamental library for scientific computing in Python. \n",
    "    \n",
    "    It provides support for arrays and matrices, along with a collection of mathematical functions to operate on these data structures &focuses on arrays and vectorized operations.\n",
    "    \n",
    "    \n",
    "#### Common functions used:\n",
    "           \n",
    "1- .array()  \n",
    "\n",
    "2- .shape \\\n",
    "ex: arr.shape\n",
    "\n",
    "3- .reshape()\n",
    "\n",
    "4- .arange()\n",
    "\n",
    "5- .ones(row, col)\n",
    "\n",
    "6- .zeros(row, col)\n",
    "\n",
    "7- .eye()\n",
    "\n",
    "8- .ndim \\\n",
    "ex: arr.ndim\n",
    "\n",
    "9- .size &emsp;&emsp;&emsp;&emsp;&emsp;&emsp;&emsp;--> This attribute returns the total number of elements in the array. It is the product of the array's dimensions ex: for 2 x 4 matrix i.e, for 2 rows * 4 columns, would return `8` because there are 8 elements in the array\n",
    "\n",
    "\n",
    "10- .dtype\n",
    "\n",
    "11- .itemsize &emsp;&emsp;&emsp;&emsp;&emsp;&emsp;&emsp;--> This attribute returns the size (in bytes) of each element in the array, will return the size of individual element in bytes. For ex: if the array elements are of type `int32`, `arr_3.itemsize` will return `4` because each `int32` element occupies 4 bytes.\n",
    "\n",
    "12- .sqrt()\n",
    "\n",
    "13- .exp() \\\n",
    "exponential\n",
    "\n",
    "14- .sin()\n",
    "\n",
    "15- .log()\n",
    "\n",
    "16- .mean(data) \\\n",
    "data could be anything\n",
    "\n",
    "17- .std(data)\n",
    "\n",
    "18- .median(data)\n",
    "\n",
    "19- .var(data) \\\n",
    "variance\n",
    "\n",
    "20- .random().randint()\n",
    "\n",
    "                         - use randint() when you need random integers within a specific range. You need each integer in the range to have an equal probability of being chosen (like simulating a dice roll).\n",
    "\n",
    "21- .random().randn() &emsp;&emsp;&emsp;&emsp;&emsp; - Bit Tricky yet Fun\n",
    "\n",
    "                       - 1> This function generates a random number from a standard normal distribution (also known as a Gaussian distribution). The randn() function will return values that are more likely to be close to 0, with decreasing probability as you move further away from 0 in either the positive or negative direction.\n",
    "\n",
    "                       - 2> use randn() when you need random values that follow the normal distribution (e.g., simulating measurement errors, modeling heights or weights, etc.). You want the possibility of negative values.\n",
    "                \n",
    "22- .random().random_sample()\n",
    "\n",
    "21- .ravel() &emsp;&emsp;&emsp;&emsp;&emsp; - Ain't that IMPORTANT unlike .flatten()\n",
    "\n",
    " \n",
    "  &emsp;&emsp;&emsp; &emsp;&emsp;&emsp; &emsp;&emsp;&emsp;.ravel() fn used to flatten a multi-dimensional array into a one-dimensional array (also called a flat array).\n",
    "\n",
    "        - It essentially \"unravels\" the array into a single sequence of elements, though both arrays shares \"common\" memory\n"
   ]
  },
  {
   "cell_type": "markdown",
   "metadata": {},
   "source": [
    "                    .ravel() function\n",
    "\n",
    "- np.ravel(a, order='C') where, \n",
    "\n",
    "    - a: The input array that you want to flatten.\n",
    "    - order: (Optional) Specifies how the elements should be read from the input array and placed into the flattened array.\n",
    "    - 'C': (Default) Reads elements in row-major order (C-style).\n",
    "    - 'F': Reads elements in column-major order (Fortran-style).\n",
    "    - 'A': Reads elements in either row-major or column-major order, whichever is closer to the layout in memory (more efficient).\n",
    "\n",
    "            - Key Points:\n",
    "1> View vs. Copy:  ravel() tries to return a view (a shallow copy) of the original array whenever possible. This means that modifying elements in the flattened array may also modify the original array. If a view cannot be created, ravel() will return a copy.\n",
    "\n",
    "2> Performance: Using ravel() is generally faster than reshape(-1) because it often avoids creating a new array in memory.\n",
    "\n",
    "3> Alternative: The flatten() method is similar to ravel(). The main difference is that flatten() always returns a copy of the data, while ravel() attempts to return a view if possible."
   ]
  },
  {
   "cell_type": "code",
   "execution_count": 13,
   "metadata": {},
   "outputs": [
    {
     "name": "stdout",
     "output_type": "stream",
     "text": [
      "[1, 3, 7, 9, 13]\n",
      "<class 'list'>\n"
     ]
    }
   ],
   "source": [
    "num_list: list[int] = [1, 3, 7, 9, 13]\n",
    "print(num_list)\n",
    "print(type(num_list))"
   ]
  },
  {
   "cell_type": "code",
   "execution_count": 14,
   "metadata": {},
   "outputs": [],
   "source": [
    "import numpy as np "
   ]
  },
  {
   "cell_type": "code",
   "execution_count": 15,
   "metadata": {},
   "outputs": [
    {
     "name": "stdout",
     "output_type": "stream",
     "text": [
      "[ 1  3  7  9 13]\n",
      "(5,)\n",
      "\n",
      " <class 'numpy.ndarray'>\n"
     ]
    }
   ],
   "source": [
    "arr_1 = np.array(num_list)                # also can be written as  np.array( [1, 3, 7, 9, 13] )\n",
    "print(arr_1)                # prints [ 1  3  7  9 13]\n",
    "print(arr_1.shape)           # prints (5,) means 1D array having 5 elements\n",
    "\n",
    "print('\\n', type(arr_1))"
   ]
  },
  {
   "cell_type": "code",
   "execution_count": 16,
   "metadata": {},
   "outputs": [
    {
     "name": "stdout",
     "output_type": "stream",
     "text": [
      "[[ 1  3  7  9 13]]\n",
      "[[[ 1]\n",
      "  [ 3]\n",
      "  [ 7]\n",
      "  [ 9]\n",
      "  [13]]]\n",
      "[ 1  3  7  9 13]\n"
     ]
    }
   ],
   "source": [
    "# reshape to a 2D array\n",
    "print(arr_1.reshape(1, 5))              # prints a 2D array [[ 1  3  7  9 13]] means 1 row & 5 columns\n",
    "print(arr_1.reshape(1, 5, 1))            # prints  a 3D array with 5 rows and  1 column\n",
    "\n",
    "print(arr_1)                    # prints [ 1  3  7  9 13] - changes won't be saved"
   ]
  },
  {
   "cell_type": "code",
   "execution_count": 17,
   "metadata": {},
   "outputs": [
    {
     "name": "stdout",
     "output_type": "stream",
     "text": [
      "[[ 1  3  7  9 13]]\n",
      "(1, 5)\n"
     ]
    }
   ],
   "source": [
    "# create 2D array directly\n",
    "arr_2 = np.array([ num_list ])                # also can be written as np.array([ [1, 3, 7, 9, 13] ])\n",
    "print(arr_2)\n",
    "print(arr_2.shape)                      # prints (1, 5) means 1 row and 5 columns"
   ]
  },
  {
   "cell_type": "code",
   "execution_count": 18,
   "metadata": {},
   "outputs": [
    {
     "name": "stdout",
     "output_type": "stream",
     "text": [
      "[[ 1  2  3  4  5]\n",
      " [ 3  4  5  6  7]\n",
      " [ 7  9 11 13 19]]\n",
      "15\n"
     ]
    }
   ],
   "source": [
    "list_1: list[int] = [1, 2, 3, 4, 5]\n",
    "list_2: list[int] = [3, 4, 5, 6, 7]\n",
    "list_3: list[int] = [7, 9, 11, 13, 19]              # ensure rows & cols count/size should be same\n",
    "\n",
    "arr_from_list = np.array([ list_1, \n",
    "          list_2, \n",
    "          list_3] )                     # prints 3 x 5 matrix\n",
    "\n",
    "print(arr_from_list)\n",
    "print(arr_from_list.size)               # size of 3 x 5 matrix = 15"
   ]
  },
  {
   "cell_type": "markdown",
   "metadata": {},
   "source": [
    "#### other ways to create array\n",
    "\n",
    "            - via .arange([start],  [stop],  [step]) function"
   ]
  },
  {
   "cell_type": "code",
   "execution_count": 19,
   "metadata": {},
   "outputs": [
    {
     "data": {
      "text/plain": [
       "array([0, 2, 4, 6, 8])"
      ]
     },
     "execution_count": 19,
     "metadata": {},
     "output_type": "execute_result"
    }
   ],
   "source": [
    "np.arange(0, 10, 2)        # means start from 0, go till 10 but skip 10 and jump every 2 nos. - 0, 2, 4...."
   ]
  },
  {
   "cell_type": "code",
   "execution_count": 20,
   "metadata": {},
   "outputs": [
    {
     "data": {
      "text/plain": [
       "array([[0],\n",
       "       [2],\n",
       "       [4],\n",
       "       [6],\n",
       "       [8]])"
      ]
     },
     "execution_count": 20,
     "metadata": {},
     "output_type": "execute_result"
    }
   ],
   "source": [
    "# reshaping similar array to 2D\n",
    "np.arange(0, 10, 2).reshape(5, 1)         # since there are 5 elements in array, hence reshaping can be done in multiples of 5 either in 5 x 1 (or) 1 x 5"
   ]
  },
  {
   "cell_type": "code",
   "execution_count": 21,
   "metadata": {},
   "outputs": [
    {
     "data": {
      "text/plain": [
       "array([1., 1., 1.])"
      ]
     },
     "execution_count": 21,
     "metadata": {},
     "output_type": "execute_result"
    }
   ],
   "source": [
    "np.ones((3, ))          # means create 1D array with 3 elements - all with values = 1"
   ]
  },
  {
   "cell_type": "code",
   "execution_count": 22,
   "metadata": {},
   "outputs": [
    {
     "data": {
      "text/plain": [
       "array([[1., 1., 1., 1.],\n",
       "       [1., 1., 1., 1.],\n",
       "       [1., 1., 1., 1.]])"
      ]
     },
     "execution_count": 22,
     "metadata": {},
     "output_type": "execute_result"
    }
   ],
   "source": [
    "np.ones((3, 4))          # means create 2D array with 3 rows and 4 cols - all with values = 1"
   ]
  },
  {
   "cell_type": "code",
   "execution_count": 23,
   "metadata": {},
   "outputs": [
    {
     "data": {
      "text/plain": [
       "array([[0., 0., 0., 0.],\n",
       "       [0., 0., 0., 0.],\n",
       "       [0., 0., 0., 0.]])"
      ]
     },
     "execution_count": 23,
     "metadata": {},
     "output_type": "execute_result"
    }
   ],
   "source": [
    "np.zeros((3, 4))             # means create 2D array with 3 rows and 4 cols - all with values = 0"
   ]
  },
  {
   "cell_type": "code",
   "execution_count": 24,
   "metadata": {},
   "outputs": [
    {
     "name": "stdout",
     "output_type": "stream",
     "text": [
      "[[1. 0. 0.]\n",
      " [0. 1. 0.]\n",
      " [0. 0. 1.]]\n",
      "[[1. 0.]\n",
      " [0. 1.]]\n"
     ]
    }
   ],
   "source": [
    "# create identity matrix\n",
    "print(np.eye(3))               # creates a sqaure matrix of 3 x 3 (3 rows, 3 cols) which has 1 inserted diagonally\n",
    "print(np.eye(2))               # creates a sqaure matrix of 2 x 2 (2 rows, 2 cols) which has 1 inserted diagonally"
   ]
  },
  {
   "cell_type": "markdown",
   "metadata": {},
   "source": [
    "#### Numpy Vectorized oeprations"
   ]
  },
  {
   "cell_type": "code",
   "execution_count": 25,
   "metadata": {},
   "outputs": [
    {
     "name": "stdout",
     "output_type": "stream",
     "text": [
      "Adding 2 arrays: [ 9  5  9 12]\n",
      "Subtracting 2 arrays: [-5  3  3  4]\n",
      "Multiplying 2 arrays: [14  4 18 32]\n",
      "Multiplying num_1 array with 3: [ 6 12 18 24]\n",
      "Dividing 2 arrays: [0.28571429 4.         2.         2.        ]\n"
     ]
    }
   ],
   "source": [
    "num_1 = np.array([2, 4, 6, 8])\n",
    "num_2 = np.array([7, 1, 3, 4])\n",
    "\n",
    "print('Adding 2 arrays:', num_1 + num_2)\n",
    "print('Subtracting 2 arrays:', num_1 - num_2)\n",
    "print('Multiplying 2 arrays:', num_1 * num_2)\n",
    "print('Multiplying num_1 array with 3:', num_1 * 3)\n",
    "\n",
    "print('Dividing 2 arrays:', num_1 / num_2)"
   ]
  },
  {
   "cell_type": "markdown",
   "metadata": {},
   "source": [
    "#### Universal functions\n",
    "\n",
    "        are the functions which applies to the entire array"
   ]
  },
  {
   "cell_type": "code",
   "execution_count": 26,
   "metadata": {},
   "outputs": [
    {
     "name": "stdout",
     "output_type": "stream",
     "text": [
      "[ 3.  4.  8.  9. 10.]\n",
      "[   7.3890561    54.59815003  403.42879349 2980.95798704]\n",
      "[ 0.90929743 -0.7568025  -0.2794155   0.98935825]\n",
      "[0.69314718 1.38629436 1.79175947 2.07944154]\n"
     ]
    }
   ],
   "source": [
    "num_4 = np.array([9, 16, 64, 81, 100])\n",
    "\n",
    "# square root\n",
    "print(np.sqrt(num_4))\n",
    "\n",
    "# exponential like 8^8\n",
    "print(np.exp(num_1))                    # num_1 = np.array([2, 4, 6, 8])\n",
    "\n",
    "# Sine\n",
    "print(np.sin(num_1))\n",
    "\n",
    "# natural log\n",
    "print(np.log(num_1))"
   ]
  },
  {
   "cell_type": "markdown",
   "metadata": {},
   "source": [
    "#### Array slicing and indexing     [VERY IMPORTANT]"
   ]
  },
  {
   "cell_type": "code",
   "execution_count": 27,
   "metadata": {},
   "outputs": [
    {
     "name": "stdout",
     "output_type": "stream",
     "text": [
      "13\n",
      "9\n",
      "[1 3 7 9]\n",
      "[1 3 7]\n"
     ]
    }
   ],
   "source": [
    "# pick last & 2nd last element\n",
    "# arr_1 was defined above as        [ 1  3  7  9 13]\n",
    "\n",
    "print(arr_1[-1])            # -1 means pick last element only i.e, 13\n",
    "print(arr_1[-2])            # -2 means pick 2nd last element only i.e, 9\n",
    "\n",
    "# single colon : with -1 means start from 0th index and go till -1 (which is last element) and skip last element\n",
    "print(arr_1[:-1])                   # prints [1 3 7 9]\n",
    "\n",
    "print(arr_1[:-2])                   # prints [1 3 7] - skipped the last 2 elements"
   ]
  },
  {
   "cell_type": "code",
   "execution_count": 28,
   "metadata": {},
   "outputs": [
    {
     "name": "stdout",
     "output_type": "stream",
     "text": [
      "[13  9  7  3  1]\n",
      "[13  7  1]\n"
     ]
    }
   ],
   "source": [
    "# reverse the array\n",
    "print(arr_1[::-1])                 # prints array([13,  9,  7,  3,  1])\n",
    "\n",
    "# print from back but jump / skip 1 element\n",
    "print(arr_1[::-2])                          # prints [13  7  1]"
   ]
  },
  {
   "cell_type": "code",
   "execution_count": 29,
   "metadata": {},
   "outputs": [
    {
     "name": "stdout",
     "output_type": "stream",
     "text": [
      "[[ 2  3  5  6]\n",
      " [11  7  9  0]\n",
      " [ 1  8 -1 12]]\n"
     ]
    }
   ],
   "source": [
    "# Slicing operations on multi-dimensional arrays\n",
    "\n",
    "num_5 = np.array([ [2, 3, 5, 6],                # 3 x 4 matrix\n",
    "                  [11, 7, 9, 0],\n",
    "                  [1, 8, -1, 12],\n",
    "])\n",
    "print(num_5)\n"
   ]
  },
  {
   "cell_type": "code",
   "execution_count": 30,
   "metadata": {},
   "outputs": [
    {
     "name": "stdout",
     "output_type": "stream",
     "text": [
      "9\n",
      "8\n"
     ]
    }
   ],
   "source": [
    "# pick only 9 8\n",
    "print(f'{num_5[1, 2]}\\n{num_5[2, 1]}')"
   ]
  },
  {
   "cell_type": "code",
   "execution_count": 31,
   "metadata": {},
   "outputs": [
    {
     "data": {
      "text/plain": [
       "array([[ 2,  6],\n",
       "       [11,  0],\n",
       "       [ 1, 12]])"
      ]
     },
     "execution_count": 31,
     "metadata": {},
     "output_type": "execute_result"
    }
   ],
   "source": [
    "# pick 1st col values only i.e, 3 7 8 (vertically)\n",
    "num_5[:, [0, -1]]                 # : means take all rows, [0, -1] means just take 0th col and -1 col"
   ]
  },
  {
   "cell_type": "code",
   "execution_count": 32,
   "metadata": {},
   "outputs": [
    {
     "data": {
      "text/plain": [
       "array([ 6,  0, 12])"
      ]
     },
     "execution_count": 32,
     "metadata": {},
     "output_type": "execute_result"
    }
   ],
   "source": [
    "# assignment asked - pick 2 11 1 and 6 0 12\n",
    "num_5[:, 3]"
   ]
  },
  {
   "cell_type": "code",
   "execution_count": 33,
   "metadata": {},
   "outputs": [
    {
     "name": "stdout",
     "output_type": "stream",
     "text": [
      "[2 3 5 6]\n",
      "2\n",
      "[[ 9  0]\n",
      " [-1 12]]\n",
      "[[5 6]\n",
      " [9 0]]\n",
      "[[ 7  9]\n",
      " [ 8 -1]]\n"
     ]
    }
   ],
   "source": [
    "# pick 0th row\n",
    "print(num_5[0])\n",
    "\n",
    "# pick 0th row 0th element\n",
    "print(num_5[0][0])\n",
    "\n",
    "\n",
    "# pick elements: 9 0 -1 12\n",
    "print(num_5[1:, 2:])                 # gone from 1st row and 2nd col till end\n",
    "\n",
    "\n",
    "# pick elements: 5 6 9 0 \n",
    "print(num_5[0:2, 2:])                 # gone from 0th - 1st row and 2nd col till end\n",
    "\n",
    "\n",
    "# pick elements: 7 9 8 -1 \n",
    "print(num_5[1:, 1:3])"
   ]
  },
  {
   "cell_type": "code",
   "execution_count": 34,
   "metadata": {},
   "outputs": [
    {
     "name": "stdout",
     "output_type": "stream",
     "text": [
      "[[ 100    3    5    6]\n",
      " [  11    7    9    0]\n",
      " [   1    8   -1 -212]]\n",
      "[[100   3   5   6]\n",
      " [  0   0   0   0]\n",
      " [  0   0   0   0]]\n"
     ]
    }
   ],
   "source": [
    "# modify array elements\n",
    "num_5[0, 0] = 100\n",
    "num_5[2, 3] = -212\n",
    "\n",
    "# num_5[2] = 90               # beware - this will change all elements of row 3\n",
    "\n",
    "print(num_5)\n",
    "\n",
    "num_5[1:] = 0               # beware - changes all elements from 1st row till end\n",
    "print(num_5)"
   ]
  },
  {
   "cell_type": "markdown",
   "metadata": {},
   "source": [
    "#### Logical Operations\n",
    "\n",
    "               - mainly used for EDA aka Exploratory Data Analysis"
   ]
  },
  {
   "cell_type": "code",
   "execution_count": 35,
   "metadata": {},
   "outputs": [
    {
     "data": {
      "text/plain": [
       "array([False, False,  True,  True, False,  True, False,  True,  True,\n",
       "       False])"
      ]
     },
     "execution_count": 35,
     "metadata": {},
     "output_type": "execute_result"
    }
   ],
   "source": [
    "data = np.array([2, 4, 6, 7, 4, 9, 0, 11, 13, 5])\n",
    "\n",
    "data > 5"
   ]
  },
  {
   "cell_type": "code",
   "execution_count": 36,
   "metadata": {},
   "outputs": [
    {
     "name": "stdout",
     "output_type": "stream",
     "text": [
      "[ 6  7  9 11 13]\n",
      "[6 7 9]\n"
     ]
    }
   ],
   "source": [
    "# retrieve all elements greater than 5\n",
    "print(data[data > 5])\n",
    "\n",
    "# retrieve all elements greater than 5 and less than 10 - parenthesis is SUPER important\n",
    "print(data[ (data > 5) \n",
    "           & (data < 10)\n",
    "           ])"
   ]
  },
  {
   "cell_type": "markdown",
   "metadata": {},
   "source": [
    "#### here starts the .random.rand....() fns"
   ]
  },
  {
   "cell_type": "code",
   "execution_count": 50,
   "metadata": {},
   "outputs": [
    {
     "name": "stdout",
     "output_type": "stream",
     "text": [
      "44\n",
      "[33 28 22 31]\n"
     ]
    }
   ],
   "source": [
    "# 1> random.randint()\n",
    "\n",
    "print(np.random.randint(10, 50))        # initializes a random \"int\" number between 10 & 50 each time when run\n",
    "\n",
    "print(np.random.randint(10, 50, 4))        # 4 is the size which means it will create an 1D array of 4 elements now"
   ]
  },
  {
   "cell_type": "code",
   "execution_count": 77,
   "metadata": {},
   "outputs": [
    {
     "data": {
      "text/plain": [
       "array([[0.03692337, 0.5600287 , 0.70111996],\n",
       "       [0.52416413, 0.93461764, 0.58829477],\n",
       "       [0.96598192, 0.87704334, 0.64990449],\n",
       "       [0.41041174, 0.30290647, 0.425885  ]])"
      ]
     },
     "execution_count": 77,
     "metadata": {},
     "output_type": "execute_result"
    }
   ],
   "source": [
    "# 2> random.random_sample()\n",
    "\n",
    "np.random.random_sample((4,3))        # creates a 4 x 3 matrix array of 1 < floating nos > -1  ex: array([[0.03692337, 0.5600287 , 0.70111996]"
   ]
  },
  {
   "cell_type": "code",
   "execution_count": 103,
   "metadata": {},
   "outputs": [
    {
     "name": "stdout",
     "output_type": "stream",
     "text": [
      "1.5364532667729838\n",
      "[[-0.25548759  0.32919464 -0.47337646  0.11743266]\n",
      " [ 0.36190399  0.63319917  0.26327542  2.0080366 ]\n",
      " [-0.25517673  0.31467085 -2.28249124 -0.18262496]]\n"
     ]
    }
   ],
   "source": [
    "# 3> random.randn() - badass\n",
    "# fn generates samples from the standard normal distribution, which has a mean of 0 and a standard deviation of 1.\n",
    "\n",
    "#     * Mean: 0\n",
    "#     * Standard Deviation: 1\n",
    "#     * Range: Theoretically, the range is from negative infinity to positive infinity, but most values will fall within the range of approximately -3 to 3. In practice, about 99.7% of the values generated by np.random.randn() will lie within three standard deviations of the mean, i.e., between -3 and 3.\n",
    "\n",
    "random_float_num: float = np.random.randn()\n",
    "print(random_float_num)                # creates a random floating number in no range ex: 1.4652415323017673, -3.042263790500626\n",
    "\n",
    "random_float_arr: np.ndarray = np.random.randn(3, 4)             # creates a 3 x 4 matrix array in no range\n",
    "print(random_float_arr)"
   ]
  },
  {
   "cell_type": "markdown",
   "metadata": {},
   "source": [
    "#### Statistical concept aka \"**Normalization**\"\n",
    "\n",
    "- to have a mean of **0** and standard deviation of **1**  \n",
    "\n",
    "        (may not be required for MLOps - hence parked for now)"
   ]
  },
  {
   "cell_type": "code",
   "execution_count": 40,
   "metadata": {},
   "outputs": [
    {
     "name": "stdout",
     "output_type": "stream",
     "text": [
      "Normalized data: [-1.41421356 -0.70710678  0.          0.70710678  1.41421356]\n"
     ]
    }
   ],
   "source": [
    "data = np.array([1, 2, 3, 4, 5])\n",
    "\n",
    "# Calculate the mean and standard deviation\n",
    "mean = np.mean(data)\n",
    "\n",
    "std_dev = np.std(data)\n",
    "\n",
    "# Normalize the data\n",
    "normalized_data = (data - mean) / std_dev\n",
    "\n",
    "print('Normalized data:', normalized_data)              # Normalized data: [-1.41421356 -0.70710678  0.          0.70710678  1.41421356]"
   ]
  },
  {
   "cell_type": "code",
   "execution_count": 41,
   "metadata": {},
   "outputs": [],
   "source": [
    "# mean, median, mode - LEFT for now"
   ]
  },
  {
   "cell_type": "code",
   "execution_count": 42,
   "metadata": {},
   "outputs": [
    {
     "name": "stdout",
     "output_type": "stream",
     "text": [
      "[1 2 3 4 5 6]\n",
      "(6,)\n"
     ]
    }
   ],
   "source": [
    "# .ravel() function example\n",
    "\n",
    "arr_2D = np.array([[ 1, 2, 3], \n",
    "                   [4, 5, 6]\n",
    "                   ])\n",
    "flattened_arr = np.ravel(arr_2D)\n",
    "print(flattened_arr)                    # Output: [1 2 3 4 5 6]\n",
    "print(flattened_arr.shape)              # prints (6, )"
   ]
  },
  {
   "cell_type": "markdown",
   "metadata": {},
   "source": []
  }
 ],
 "metadata": {
  "kernelspec": {
   "display_name": ".venv",
   "language": "python",
   "name": "python3"
  },
  "language_info": {
   "codemirror_mode": {
    "name": "ipython",
    "version": 3
   },
   "file_extension": ".py",
   "mimetype": "text/x-python",
   "name": "python",
   "nbconvert_exporter": "python",
   "pygments_lexer": "ipython3",
   "version": "3.12.7"
  }
 },
 "nbformat": 4,
 "nbformat_minor": 2
}
