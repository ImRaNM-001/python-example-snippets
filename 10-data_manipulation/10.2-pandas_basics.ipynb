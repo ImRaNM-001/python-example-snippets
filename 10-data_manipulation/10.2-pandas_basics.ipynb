{
 "cells": [
  {
   "cell_type": "markdown",
   "metadata": {},
   "source": [
    "#### Pandas \n",
    "\n",
    "    - a powerful data manipulation library in Python, widely used for data analysis and data cleaning. \n",
    "    \n",
    "    - It provides two primary data structures: \n",
    "    \n",
    "    - \"Series\" - a one-dimensional array-like object, \n",
    "    \n",
    "    - \"DataFrame\" is a two-dimensional, size-mutable, and potentially heterogeneous tabular data structure with labeled axes (rows and columns)."
   ]
  },
  {
   "cell_type": "markdown",
   "metadata": {},
   "source": [
    "#### common functions used:\n",
    "\n",
    "1- .Series(list)\n",
    "\n",
    "2- .shape()\n",
    "\n",
    "3- .DataFrame(list or dict)\n",
    "\n",
    "4- .read_csv()\n",
    "\n",
    "5- .head()\n",
    "\n",
    "6- .tail()\n",
    "\n",
    "7- .loc()\n",
    "\n",
    "8- .iloc()\t\t--> prints single value\n",
    "\n",
    "9- .at[index_num, col_name]\n",
    "\n",
    "10- .iat[row_num, col_num]\n",
    "\n",
    "11- .dtypes\n",
    "\n",
    "12- .describe()\n",
    "\n",
    "13- .drop(col_name, axis=1, inplace = True)"
   ]
  },
  {
   "cell_type": "code",
   "execution_count": 315,
   "metadata": {},
   "outputs": [],
   "source": [
    "import pandas as pd"
   ]
  },
  {
   "cell_type": "code",
   "execution_count": 316,
   "metadata": {},
   "outputs": [
    {
     "name": "stdout",
     "output_type": "stream",
     "text": [
      "0    11\n",
      "1     3\n",
      "2     5\n",
      "3     7\n",
      "dtype: int64\n",
      "<class 'pandas.core.series.Series'>\n"
     ]
    }
   ],
   "source": [
    "# created series from a list\n",
    "\n",
    "series1_num = pd.Series([11, 3, 5, 7])                  # 1D array\n",
    "print(series1_num)     # 1st column are the indexes\n",
    "print(type(series1_num)) "
   ]
  },
  {
   "cell_type": "code",
   "execution_count": 317,
   "metadata": {},
   "outputs": [
    {
     "data": {
      "text/plain": [
       "(4,)"
      ]
     },
     "execution_count": 317,
     "metadata": {},
     "output_type": "execute_result"
    }
   ],
   "source": [
    "# get shape of above   \n",
    "series1_num.shape       # prints (4, )"
   ]
  },
  {
   "cell_type": "code",
   "execution_count": 318,
   "metadata": {},
   "outputs": [
    {
     "name": "stdout",
     "output_type": "stream",
     "text": [
      "0     Hi\n",
      "1    Bye\n",
      "dtype: object\n",
      "(2,)\n"
     ]
    }
   ],
   "source": [
    "series1_str = pd.Series(['Hi', 'Bye'])      # 1D array\n",
    "print(series1_str)\n",
    "\n",
    "print(series1_str.shape)            # prints (2, )"
   ]
  },
  {
   "cell_type": "code",
   "execution_count": 319,
   "metadata": {},
   "outputs": [
    {
     "name": "stdout",
     "output_type": "stream",
     "text": [
      "a    1\n",
      "b    2\n",
      "c    3\n",
      "dtype: int64\n",
      "(3,)\n"
     ]
    }
   ],
   "source": [
    "# created series from a dictonary, here the indexes will be the dictonary keys\n",
    "\n",
    "dict_obj: dict[str, int] = {\n",
    "    'a': 1,\n",
    "    'b' : 2,\n",
    "    'c' : 3\n",
    "}\n",
    "\n",
    "series2_num = pd.Series(dict_obj)\n",
    "print(series2_num)         \n",
    "\n",
    "print(series2_num.shape)            # prints (3, )"
   ]
  },
  {
   "cell_type": "code",
   "execution_count": 320,
   "metadata": {},
   "outputs": [
    {
     "name": "stdout",
     "output_type": "stream",
     "text": [
      "alpha       20\n",
      "beta        30\n",
      "charlie    400\n",
      "delta       55\n",
      "dtype: int64\n"
     ]
    }
   ],
   "source": [
    "# provide custom indexes\n",
    "\n",
    "list_2: list[int] = [20, 30, 400, 55]\n",
    "ind: list[str] = ['alpha', 'beta', 'charlie', 'delta' ]\n",
    "\n",
    "series3_num = pd.Series(list_2, index = ind)\n",
    "print(series3_num)"
   ]
  },
  {
   "cell_type": "code",
   "execution_count": 321,
   "metadata": {},
   "outputs": [
    {
     "name": "stdout",
     "output_type": "stream",
     "text": [
      "     Name  Age    City\n",
      "0    John   64  Austin\n",
      "1   Bravo   47  Lisbon\n",
      "2  Kilmer   42  London\n",
      "(3, 3)\n"
     ]
    }
   ],
   "source": [
    "# create Dataframe from a dictonary of list values (dict keys will still be string)\n",
    "\n",
    "person_dict: dict[str, list[str | int]] = {\n",
    "    'Name': ['John', 'Bravo', 'Kilmer'],\n",
    "    'Age': [64, 47, 42],\n",
    "    'City': ['Austin', 'Lisbon', 'London']\n",
    "}\n",
    "\n",
    "df_person = pd.DataFrame(person_dict)\n",
    "print(df_person)\n",
    "\n",
    "print(df_person.shape)          # 3 x 3 matrix (3, 3)"
   ]
  },
  {
   "cell_type": "code",
   "execution_count": 322,
   "metadata": {},
   "outputs": [
    {
     "data": {
      "text/plain": [
       "array([['John', 64, 'Austin'],\n",
       "       ['Bravo', 47, 'Lisbon'],\n",
       "       ['Kilmer', 42, 'London']], dtype=object)"
      ]
     },
     "execution_count": 322,
     "metadata": {},
     "output_type": "execute_result"
    }
   ],
   "source": [
    "import numpy as np\n",
    "np.array(df_person)         # skips dictonary key name i.e, 'Name', 'Age' & 'City'"
   ]
  },
  {
   "cell_type": "code",
   "execution_count": 323,
   "metadata": {},
   "outputs": [
    {
     "name": "stdout",
     "output_type": "stream",
     "text": [
      "     Name  Age    City\n",
      "0    John   64  Austin\n",
      "1   Bravo   47  Lisbon\n",
      "2  Kilmer   42  London\n"
     ]
    }
   ],
   "source": [
    "# create Dataframe from a list of dictonary\n",
    "\n",
    "person_list = [\n",
    "    {\n",
    "        'Name': 'John',\n",
    "        'Age': 64,\n",
    "        'City': 'Austin'\n",
    "    },\n",
    "    {\n",
    "        'Name': 'Bravo',\n",
    "        'Age': 47,\n",
    "        'City': 'Lisbon'\n",
    "    },\n",
    "    {\n",
    "        'Name': 'Kilmer',\n",
    "        'Age': 42,\n",
    "        'City': 'London'\n",
    "    }\n",
    "]\n",
    "\n",
    "df_person_1 = pd.DataFrame(person_list)\n",
    "print(df_person_1)\n"
   ]
  },
  {
   "cell_type": "markdown",
   "metadata": {},
   "source": [
    "#### Reading a csv (large files / aka datasets)"
   ]
  },
  {
   "cell_type": "code",
   "execution_count": 324,
   "metadata": {},
   "outputs": [
    {
     "name": "stdout",
     "output_type": "stream",
     "text": [
      "       Date      Open      High       Low     Close    Volume  Dividends  \\\n",
      "0  01-05-70  0.181500  0.184404  0.181500  0.181500  10924800        0.0   \n",
      "1  01-05-70  0.181500  0.182952  0.180048  0.180048  17068800        0.0   \n",
      "2  01-05-70  0.184404  0.187308  0.184404  0.184404  18508800        0.0   \n",
      "3  01-05-70  0.184403  0.186581  0.183678  0.183678  11174400        0.0   \n",
      "4  01-05-70  0.180048  0.180048  0.177143  0.177143  12172800        0.0   \n",
      "5  01-05-70  0.176417  0.176417  0.173514  0.173514   8966400        0.0   \n",
      "6  01-05-70  0.174240  0.177144  0.174240  0.174240  11347200        0.0   \n",
      "7  01-05-70  0.174240  0.175692  0.172788  0.172788  16262400        0.0   \n",
      "8  01-05-70  0.169884  0.169884  0.166980  0.166980  26918400        0.0   \n",
      "9  01-05-70  0.173514  0.176417  0.173514  0.173514  20102400        0.0   \n",
      "\n",
      "   Stock Splits  \n",
      "0           0.0  \n",
      "1           0.0  \n",
      "2           0.0  \n",
      "3           0.0  \n",
      "4           0.0  \n",
      "5           0.0  \n",
      "6           0.0  \n",
      "7           0.0  \n",
      "8           0.0  \n",
      "9           0.0  \n"
     ]
    }
   ],
   "source": [
    "df_csv = pd.read_csv('./intel-stock-data-1980-2024.csv')\n",
    "\n",
    "# see 1st 10 records\n",
    "print(df_csv.head(10))"
   ]
  },
  {
   "cell_type": "code",
   "execution_count": 325,
   "metadata": {},
   "outputs": [
    {
     "data": {
      "text/html": [
       "<div>\n",
       "<style scoped>\n",
       "    .dataframe tbody tr th:only-of-type {\n",
       "        vertical-align: middle;\n",
       "    }\n",
       "\n",
       "    .dataframe tbody tr th {\n",
       "        vertical-align: top;\n",
       "    }\n",
       "\n",
       "    .dataframe thead th {\n",
       "        text-align: right;\n",
       "    }\n",
       "</style>\n",
       "<table border=\"1\" class=\"dataframe\">\n",
       "  <thead>\n",
       "    <tr style=\"text-align: right;\">\n",
       "      <th></th>\n",
       "      <th>Date</th>\n",
       "      <th>Open</th>\n",
       "      <th>High</th>\n",
       "      <th>Low</th>\n",
       "      <th>Close</th>\n",
       "      <th>Volume</th>\n",
       "      <th>Dividends</th>\n",
       "      <th>Stock Splits</th>\n",
       "    </tr>\n",
       "  </thead>\n",
       "  <tbody>\n",
       "    <tr>\n",
       "      <th>11279</th>\n",
       "      <td>01-21-70</td>\n",
       "      <td>20.139999</td>\n",
       "      <td>20.250000</td>\n",
       "      <td>19.870001</td>\n",
       "      <td>20.120001</td>\n",
       "      <td>75209300</td>\n",
       "      <td>0.0</td>\n",
       "      <td>0.0</td>\n",
       "    </tr>\n",
       "    <tr>\n",
       "      <th>11280</th>\n",
       "      <td>01-21-70</td>\n",
       "      <td>20.020000</td>\n",
       "      <td>20.900000</td>\n",
       "      <td>19.920000</td>\n",
       "      <td>20.780001</td>\n",
       "      <td>77695000</td>\n",
       "      <td>0.0</td>\n",
       "      <td>0.0</td>\n",
       "    </tr>\n",
       "    <tr>\n",
       "      <th>11281</th>\n",
       "      <td>01-21-70</td>\n",
       "      <td>20.600000</td>\n",
       "      <td>20.799999</td>\n",
       "      <td>20.250000</td>\n",
       "      <td>20.340000</td>\n",
       "      <td>55104100</td>\n",
       "      <td>0.0</td>\n",
       "      <td>0.0</td>\n",
       "    </tr>\n",
       "    <tr>\n",
       "      <th>11282</th>\n",
       "      <td>01-21-70</td>\n",
       "      <td>20.170000</td>\n",
       "      <td>21.100000</td>\n",
       "      <td>20.000000</td>\n",
       "      <td>20.830000</td>\n",
       "      <td>73832900</td>\n",
       "      <td>0.0</td>\n",
       "      <td>0.0</td>\n",
       "    </tr>\n",
       "    <tr>\n",
       "      <th>11283</th>\n",
       "      <td>01-21-70</td>\n",
       "      <td>20.639999</td>\n",
       "      <td>20.770000</td>\n",
       "      <td>20.290001</td>\n",
       "      <td>20.440001</td>\n",
       "      <td>51767200</td>\n",
       "      <td>0.0</td>\n",
       "      <td>0.0</td>\n",
       "    </tr>\n",
       "    <tr>\n",
       "      <th>11284</th>\n",
       "      <td>01-21-70</td>\n",
       "      <td>20.480000</td>\n",
       "      <td>20.580000</td>\n",
       "      <td>19.209999</td>\n",
       "      <td>19.299999</td>\n",
       "      <td>86041200</td>\n",
       "      <td>0.0</td>\n",
       "      <td>0.0</td>\n",
       "    </tr>\n",
       "    <tr>\n",
       "      <th>11285</th>\n",
       "      <td>01-21-70</td>\n",
       "      <td>19.530001</td>\n",
       "      <td>19.690001</td>\n",
       "      <td>19.030001</td>\n",
       "      <td>19.059999</td>\n",
       "      <td>69117800</td>\n",
       "      <td>0.0</td>\n",
       "      <td>0.0</td>\n",
       "    </tr>\n",
       "    <tr>\n",
       "      <th>11286</th>\n",
       "      <td>01-21-70</td>\n",
       "      <td>18.969999</td>\n",
       "      <td>19.760000</td>\n",
       "      <td>18.900000</td>\n",
       "      <td>19.520000</td>\n",
       "      <td>108453700</td>\n",
       "      <td>0.0</td>\n",
       "      <td>0.0</td>\n",
       "    </tr>\n",
       "    <tr>\n",
       "      <th>11287</th>\n",
       "      <td>01-21-70</td>\n",
       "      <td>19.580000</td>\n",
       "      <td>20.230000</td>\n",
       "      <td>19.520000</td>\n",
       "      <td>20.200001</td>\n",
       "      <td>57988400</td>\n",
       "      <td>0.0</td>\n",
       "      <td>0.0</td>\n",
       "    </tr>\n",
       "    <tr>\n",
       "      <th>11288</th>\n",
       "      <td>01-21-70</td>\n",
       "      <td>20.219999</td>\n",
       "      <td>20.400000</td>\n",
       "      <td>19.959999</td>\n",
       "      <td>20.400000</td>\n",
       "      <td>29884000</td>\n",
       "      <td>0.0</td>\n",
       "      <td>0.0</td>\n",
       "    </tr>\n",
       "  </tbody>\n",
       "</table>\n",
       "</div>"
      ],
      "text/plain": [
       "           Date       Open       High        Low      Close     Volume  \\\n",
       "11279  01-21-70  20.139999  20.250000  19.870001  20.120001   75209300   \n",
       "11280  01-21-70  20.020000  20.900000  19.920000  20.780001   77695000   \n",
       "11281  01-21-70  20.600000  20.799999  20.250000  20.340000   55104100   \n",
       "11282  01-21-70  20.170000  21.100000  20.000000  20.830000   73832900   \n",
       "11283  01-21-70  20.639999  20.770000  20.290001  20.440001   51767200   \n",
       "11284  01-21-70  20.480000  20.580000  19.209999  19.299999   86041200   \n",
       "11285  01-21-70  19.530001  19.690001  19.030001  19.059999   69117800   \n",
       "11286  01-21-70  18.969999  19.760000  18.900000  19.520000  108453700   \n",
       "11287  01-21-70  19.580000  20.230000  19.520000  20.200001   57988400   \n",
       "11288  01-21-70  20.219999  20.400000  19.959999  20.400000   29884000   \n",
       "\n",
       "       Dividends  Stock Splits  \n",
       "11279        0.0           0.0  \n",
       "11280        0.0           0.0  \n",
       "11281        0.0           0.0  \n",
       "11282        0.0           0.0  \n",
       "11283        0.0           0.0  \n",
       "11284        0.0           0.0  \n",
       "11285        0.0           0.0  \n",
       "11286        0.0           0.0  \n",
       "11287        0.0           0.0  \n",
       "11288        0.0           0.0  "
      ]
     },
     "execution_count": 325,
     "metadata": {},
     "output_type": "execute_result"
    }
   ],
   "source": [
    "# see last 5 records\n",
    "df_csv.tail(10)"
   ]
  },
  {
   "cell_type": "code",
   "execution_count": 326,
   "metadata": {},
   "outputs": [
    {
     "data": {
      "text/html": [
       "<div>\n",
       "<style scoped>\n",
       "    .dataframe tbody tr th:only-of-type {\n",
       "        vertical-align: middle;\n",
       "    }\n",
       "\n",
       "    .dataframe tbody tr th {\n",
       "        vertical-align: top;\n",
       "    }\n",
       "\n",
       "    .dataframe thead th {\n",
       "        text-align: right;\n",
       "    }\n",
       "</style>\n",
       "<table border=\"1\" class=\"dataframe\">\n",
       "  <thead>\n",
       "    <tr style=\"text-align: right;\">\n",
       "      <th></th>\n",
       "      <th>Name</th>\n",
       "      <th>Age</th>\n",
       "      <th>City</th>\n",
       "    </tr>\n",
       "  </thead>\n",
       "  <tbody>\n",
       "    <tr>\n",
       "      <th>0</th>\n",
       "      <td>John</td>\n",
       "      <td>64</td>\n",
       "      <td>Austin</td>\n",
       "    </tr>\n",
       "    <tr>\n",
       "      <th>1</th>\n",
       "      <td>Bravo</td>\n",
       "      <td>47</td>\n",
       "      <td>Lisbon</td>\n",
       "    </tr>\n",
       "    <tr>\n",
       "      <th>2</th>\n",
       "      <td>Kilmer</td>\n",
       "      <td>42</td>\n",
       "      <td>London</td>\n",
       "    </tr>\n",
       "  </tbody>\n",
       "</table>\n",
       "</div>"
      ],
      "text/plain": [
       "     Name  Age    City\n",
       "0    John   64  Austin\n",
       "1   Bravo   47  Lisbon\n",
       "2  Kilmer   42  London"
      ]
     },
     "execution_count": 326,
     "metadata": {},
     "output_type": "execute_result"
    }
   ],
   "source": [
    "df_person_1"
   ]
  },
  {
   "cell_type": "code",
   "execution_count": 327,
   "metadata": {},
   "outputs": [
    {
     "name": "stdout",
     "output_type": "stream",
     "text": [
      "0      John\n",
      "1     Bravo\n",
      "2    Kilmer\n",
      "Name: Name, dtype: object\n",
      "<class 'pandas.core.series.Series'>\n"
     ]
    }
   ],
   "source": [
    "# pick all names\n",
    "print(df_person_1['Name'])      # prints a Series\n",
    "print(type(df_person_1['Name']))"
   ]
  },
  {
   "cell_type": "code",
   "execution_count": 328,
   "metadata": {},
   "outputs": [
    {
     "data": {
      "text/plain": [
       "Name      John\n",
       "Age         64\n",
       "City    Austin\n",
       "Name: 0, dtype: object"
      ]
     },
     "execution_count": 328,
     "metadata": {},
     "output_type": "execute_result"
    }
   ],
   "source": [
    "df_person_1.loc[0]                  # picks 0th row\n",
    "# print(df_person_1.loc[0][0])        # picks column index as well BUT DON'T Use this - getting deprecated"
   ]
  },
  {
   "cell_type": "code",
   "execution_count": 329,
   "metadata": {},
   "outputs": [
    {
     "name": "stderr",
     "output_type": "stream",
     "text": [
      "/var/folders/wd/1mbj2zwn5x1fxlnsrt7w748w0000gn/T/ipykernel_10103/1259016772.py:2: FutureWarning: Series.__getitem__ treating keys as positions is deprecated. In a future version, integer keys will always be treated as labels (consistent with DataFrame behavior). To access a value by position, use `ser.iloc[pos]`\n",
      "  df_person_1.iloc[0][2]\n"
     ]
    },
    {
     "data": {
      "text/plain": [
       "'Austin'"
      ]
     },
     "execution_count": 329,
     "metadata": {},
     "output_type": "execute_result"
    }
   ],
   "source": [
    "# use below to pick column indices as well - iloc is index location picks row & col location both\n",
    "df_person_1.iloc[0][2]"
   ]
  },
  {
   "cell_type": "code",
   "execution_count": 330,
   "metadata": {},
   "outputs": [
    {
     "name": "stdout",
     "output_type": "stream",
     "text": [
      "Kilmer\n",
      "Lisbon\n"
     ]
    }
   ],
   "source": [
    "# Accessing a specified element\n",
    "\n",
    "print(df_person_1.at[2, 'Name'])           # picks 2nd index against the 'Name' column\n",
    "print(df_person_1.at[1, 'City'])            # picks 1st index from 'City' column"
   ]
  },
  {
   "cell_type": "code",
   "execution_count": 331,
   "metadata": {},
   "outputs": [
    {
     "data": {
      "text/plain": [
       "'London'"
      ]
     },
     "execution_count": 331,
     "metadata": {},
     "output_type": "execute_result"
    }
   ],
   "source": [
    "df_person_1.iat[2,2]        # access dierctly by row & col index"
   ]
  },
  {
   "cell_type": "markdown",
   "metadata": {},
   "source": [
    "#### Data manipulation using Dataframes"
   ]
  },
  {
   "cell_type": "code",
   "execution_count": 332,
   "metadata": {},
   "outputs": [
    {
     "data": {
      "text/html": [
       "<div>\n",
       "<style scoped>\n",
       "    .dataframe tbody tr th:only-of-type {\n",
       "        vertical-align: middle;\n",
       "    }\n",
       "\n",
       "    .dataframe tbody tr th {\n",
       "        vertical-align: top;\n",
       "    }\n",
       "\n",
       "    .dataframe thead th {\n",
       "        text-align: right;\n",
       "    }\n",
       "</style>\n",
       "<table border=\"1\" class=\"dataframe\">\n",
       "  <thead>\n",
       "    <tr style=\"text-align: right;\">\n",
       "      <th></th>\n",
       "      <th>Name</th>\n",
       "      <th>Age</th>\n",
       "      <th>City</th>\n",
       "      <th>Salary</th>\n",
       "    </tr>\n",
       "  </thead>\n",
       "  <tbody>\n",
       "    <tr>\n",
       "      <th>0</th>\n",
       "      <td>John</td>\n",
       "      <td>64</td>\n",
       "      <td>Austin</td>\n",
       "      <td>50000</td>\n",
       "    </tr>\n",
       "    <tr>\n",
       "      <th>1</th>\n",
       "      <td>Bravo</td>\n",
       "      <td>47</td>\n",
       "      <td>Lisbon</td>\n",
       "      <td>70000</td>\n",
       "    </tr>\n",
       "    <tr>\n",
       "      <th>2</th>\n",
       "      <td>Kilmer</td>\n",
       "      <td>42</td>\n",
       "      <td>London</td>\n",
       "      <td>90000</td>\n",
       "    </tr>\n",
       "  </tbody>\n",
       "</table>\n",
       "</div>"
      ],
      "text/plain": [
       "     Name  Age    City  Salary\n",
       "0    John   64  Austin   50000\n",
       "1   Bravo   47  Lisbon   70000\n",
       "2  Kilmer   42  London   90000"
      ]
     },
     "execution_count": 332,
     "metadata": {},
     "output_type": "execute_result"
    }
   ],
   "source": [
    "# Adding a new column\n",
    "df_person_1['Salary'] = [50000, 70000, 90000]\n",
    "df_person_1"
   ]
  },
  {
   "cell_type": "code",
   "execution_count": 333,
   "metadata": {},
   "outputs": [
    {
     "name": "stdout",
     "output_type": "stream",
     "text": [
      "Data types:  Name      object\n",
      "Age        int64\n",
      "City      object\n",
      "Salary     int64\n",
      "dtype: object \n",
      "\n",
      "Statistical Summary:               Age   Salary\n",
      "count   3.000000      3.0\n",
      "mean   51.000000  70000.0\n",
      "std    11.532563  20000.0\n",
      "min    42.000000  50000.0\n",
      "25%    44.500000  60000.0\n",
      "50%    47.000000  70000.0\n",
      "75%    55.500000  80000.0\n",
      "max    64.000000  90000.0\n"
     ]
    }
   ],
   "source": [
    "# Display data types of each column names\n",
    "print('Data types: ', df_person_1.dtypes,'\\n')\n",
    "\n",
    "# Describe the Dataframe        - ADVANCED DATA ANALYSIS concepts\n",
    "print('Statistical Summary: ', df_person_1.describe())"
   ]
  },
  {
   "cell_type": "code",
   "execution_count": 334,
   "metadata": {},
   "outputs": [],
   "source": [
    "# Remove a column ex: 'Salary'\n",
    "\n",
    "# won't work\n",
    "# df_person_1.drop('Salary')\n",
    "# df_person_1.drop('Salary', axis = 0)        # axis is 0 by default meaning checks row index by default\n",
    "# df_person_1.drop('Salary', axis = 1)\n",
    "\n",
    "# works - permanent operation\n",
    "df_person_1.drop('Salary', axis = 1, inplace = True)            \n"
   ]
  },
  {
   "cell_type": "code",
   "execution_count": 335,
   "metadata": {},
   "outputs": [
    {
     "data": {
      "text/html": [
       "<div>\n",
       "<style scoped>\n",
       "    .dataframe tbody tr th:only-of-type {\n",
       "        vertical-align: middle;\n",
       "    }\n",
       "\n",
       "    .dataframe tbody tr th {\n",
       "        vertical-align: top;\n",
       "    }\n",
       "\n",
       "    .dataframe thead th {\n",
       "        text-align: right;\n",
       "    }\n",
       "</style>\n",
       "<table border=\"1\" class=\"dataframe\">\n",
       "  <thead>\n",
       "    <tr style=\"text-align: right;\">\n",
       "      <th></th>\n",
       "      <th>Name</th>\n",
       "      <th>Age</th>\n",
       "      <th>City</th>\n",
       "    </tr>\n",
       "  </thead>\n",
       "  <tbody>\n",
       "    <tr>\n",
       "      <th>0</th>\n",
       "      <td>John</td>\n",
       "      <td>64</td>\n",
       "      <td>Austin</td>\n",
       "    </tr>\n",
       "    <tr>\n",
       "      <th>1</th>\n",
       "      <td>Bravo</td>\n",
       "      <td>47</td>\n",
       "      <td>Lisbon</td>\n",
       "    </tr>\n",
       "  </tbody>\n",
       "</table>\n",
       "</div>"
      ],
      "text/plain": [
       "    Name  Age    City\n",
       "0   John   64  Austin\n",
       "1  Bravo   47  Lisbon"
      ]
     },
     "execution_count": 335,
     "metadata": {},
     "output_type": "execute_result"
    }
   ],
   "source": [
    "# Remove a row - ex: last row with Name = 'Kilmer'\n",
    "df_person_1.drop(2, inplace = True)\n",
    "df_person_1"
   ]
  },
  {
   "cell_type": "code",
   "execution_count": 336,
   "metadata": {},
   "outputs": [
    {
     "data": {
      "text/html": [
       "<div>\n",
       "<style scoped>\n",
       "    .dataframe tbody tr th:only-of-type {\n",
       "        vertical-align: middle;\n",
       "    }\n",
       "\n",
       "    .dataframe tbody tr th {\n",
       "        vertical-align: top;\n",
       "    }\n",
       "\n",
       "    .dataframe thead th {\n",
       "        text-align: right;\n",
       "    }\n",
       "</style>\n",
       "<table border=\"1\" class=\"dataframe\">\n",
       "  <thead>\n",
       "    <tr style=\"text-align: right;\">\n",
       "      <th></th>\n",
       "      <th>Name</th>\n",
       "      <th>Age</th>\n",
       "      <th>City</th>\n",
       "    </tr>\n",
       "  </thead>\n",
       "  <tbody>\n",
       "    <tr>\n",
       "      <th>0</th>\n",
       "      <td>John</td>\n",
       "      <td>65</td>\n",
       "      <td>Austin</td>\n",
       "    </tr>\n",
       "    <tr>\n",
       "      <th>1</th>\n",
       "      <td>Bravo</td>\n",
       "      <td>48</td>\n",
       "      <td>Lisbon</td>\n",
       "    </tr>\n",
       "  </tbody>\n",
       "</table>\n",
       "</div>"
      ],
      "text/plain": [
       "    Name  Age    City\n",
       "0   John   65  Austin\n",
       "1  Bravo   48  Lisbon"
      ]
     },
     "execution_count": 336,
     "metadata": {},
     "output_type": "execute_result"
    }
   ],
   "source": [
    "# Increment data to existing row values ex: Age\n",
    "df_person_1['Age'] += 1\n",
    "df_person_1\n"
   ]
  },
  {
   "cell_type": "code",
   "execution_count": null,
   "metadata": {},
   "outputs": [],
   "source": []
  }
 ],
 "metadata": {
  "kernelspec": {
   "display_name": ".venv",
   "language": "python",
   "name": "python3"
  },
  "language_info": {
   "codemirror_mode": {
    "name": "ipython",
    "version": 3
   },
   "file_extension": ".py",
   "mimetype": "text/x-python",
   "name": "python",
   "nbconvert_exporter": "python",
   "pygments_lexer": "ipython3",
   "version": "3.12.7"
  }
 },
 "nbformat": 4,
 "nbformat_minor": 2
}
