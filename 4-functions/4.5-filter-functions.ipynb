{
 "cells": [
  {
   "cell_type": "code",
   "execution_count": 110,
   "metadata": {},
   "outputs": [],
   "source": [
    "from typing import Callable\n",
    "nums_list: list[str] = [1, 2, 3, 4, 5, 6, 7, 8, 88, 100]"
   ]
  },
  {
   "cell_type": "markdown",
   "metadata": {},
   "source": [
    "#### Filter only even nums"
   ]
  },
  {
   "cell_type": "code",
   "execution_count": 111,
   "metadata": {},
   "outputs": [
    {
     "data": {
      "text/plain": [
       "[2, 4, 6, 8, 88, 100]"
      ]
     },
     "execution_count": 111,
     "metadata": {},
     "output_type": "execute_result"
    }
   ],
   "source": [
    "# def even(num):\n",
    "# \treturn num % 2 == 0\n",
    "\n",
    "even: Callable[[int], int] = lambda num: num % 2 == 0\n",
    "\n",
    "list(filter(even, nums_list))"
   ]
  },
  {
   "cell_type": "markdown",
   "metadata": {},
   "source": [
    "#### Filter only even nums but greater than 5"
   ]
  },
  {
   "cell_type": "code",
   "execution_count": 112,
   "metadata": {},
   "outputs": [
    {
     "data": {
      "text/plain": [
       "[6, 8, 88, 100]"
      ]
     },
     "execution_count": 112,
     "metadata": {},
     "output_type": "execute_result"
    }
   ],
   "source": [
    "evem_greater_than_5: Callable[[int],\n",
    "                              int] = lambda num: num % 2 == 0 and num > 5\n",
    "\n",
    "list(filter(evem_greater_than_5, nums_list))"
   ]
  },
  {
   "cell_type": "markdown",
   "metadata": {},
   "source": [
    "#### Check if age is greater than 25 in dictonaries using filter() function\n",
    "\n",
    "- return person's object i.e, entire json\n",
    "\n",
    "- return person name only"
   ]
  },
  {
   "cell_type": "code",
   "execution_count": 113,
   "metadata": {},
   "outputs": [
    {
     "data": {
      "text/plain": [
       "[{'name': 'John Doe', 'age': 42}, {'name': 'Stanley Jobson', 'age': 38}]"
      ]
     },
     "execution_count": 113,
     "metadata": {},
     "output_type": "execute_result"
    }
   ],
   "source": [
    "persons_list: list[dict[str, object]] = [{\n",
    "    'name': 'John Doe',\n",
    "    'age': 42\n",
    "},\n",
    "    {\n",
    "    'name': 'Stanley Jobson',\n",
    "    'age': 38\n",
    "},\n",
    "    {\n",
    "    'name': 'Robin Hills',\n",
    "    'age': 24\n",
    "}]\n",
    "\n",
    "greater_25: Callable[[dict[str, object]], bool]  = lambda persons_list: persons_list['age'] > 25 \n",
    "list(filter(greater_25, persons_list))                         # return person's object i.e, entire json"
   ]
  },
  {
   "cell_type": "code",
   "execution_count": 114,
   "metadata": {},
   "outputs": [
    {
     "data": {
      "text/plain": [
       "['John Doe', 'Stanley Jobson']"
      ]
     },
     "execution_count": 114,
     "metadata": {},
     "output_type": "execute_result"
    }
   ],
   "source": [
    "# return person name only - but has to be done via .map() function\n",
    "greater_25_list = list(filter(greater_25, persons_list))        # [{'name': 'John Doe', 'age': 42}, {'name': 'Stanley Jobson', 'age': 38}]\n",
    "\n",
    "# extracting names only from above list\n",
    "names_only: Callable[[dict[str, object]], bool] = lambda greater_25_list: greater_25_list['name']\n",
    "\n",
    "list(map(names_only, greater_25_list))"
   ]
  },
  {
   "cell_type": "code",
   "execution_count": null,
   "metadata": {},
   "outputs": [],
   "source": []
  }
 ],
 "metadata": {
  "kernelspec": {
   "display_name": ".venv",
   "language": "python",
   "name": "python3"
  },
  "language_info": {
   "codemirror_mode": {
    "name": "ipython",
    "version": 3
   },
   "file_extension": ".py",
   "mimetype": "text/x-python",
   "name": "python",
   "nbconvert_exporter": "python",
   "pygments_lexer": "ipython3",
   "version": "3.12.7"
  }
 },
 "nbformat": 4,
 "nbformat_minor": 2
}
