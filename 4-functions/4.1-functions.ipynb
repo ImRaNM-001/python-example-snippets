{
 "cells": [
  {
   "cell_type": "code",
   "execution_count": 1,
   "metadata": {},
   "outputs": [
    {
     "name": "stdout",
     "output_type": "stream",
     "text": [
      "The number is even\n",
      "The number is odd\n"
     ]
    }
   ],
   "source": [
    "def even_odd(num: int) -> None:\n",
    "    \"\"\" This function evaluates whether a number is even or odd \"\"\"\n",
    "    print('The number is even' if num % 2 == 0 else 'The number is odd')\n",
    "\n",
    "even_odd(42)\n",
    "even_odd(99)"
   ]
  },
  {
   "cell_type": "markdown",
   "metadata": {},
   "source": [
    "#### function with multiple parameters"
   ]
  },
  {
   "cell_type": "code",
   "execution_count": 2,
   "metadata": {},
   "outputs": [
    {
     "name": "stdout",
     "output_type": "stream",
     "text": [
      "10\n",
      "107.82000000000001\n",
      "107.82\n"
     ]
    }
   ],
   "source": [
    "def mul(num1: int, num2: int) -> int:\n",
    "    return num1 * num2\n",
    "\n",
    "print(mul(2, 5) )\n",
    "print(mul(9, 11.98) )           # prints 107.82000000000001\n",
    "print(f'{mul(9, 11.98):.2f}')   # prints 107.82         "
   ]
  },
  {
   "cell_type": "markdown",
   "metadata": {},
   "source": [
    "#### Default Parameters"
   ]
  },
  {
   "cell_type": "code",
   "execution_count": 3,
   "metadata": {},
   "outputs": [
    {
     "name": "stdout",
     "output_type": "stream",
     "text": [
      "Hello Siphon, welcome aboard!\n",
      "Hello Teja, welcome aboard!\n"
     ]
    }
   ],
   "source": [
    "def greet(name: str = 'Siphon') -> str:\n",
    "    return f'Hello {name}, welcome aboard!'\n",
    "\n",
    "print(greet())\n",
    "print(greet('Teja'))"
   ]
  },
  {
   "cell_type": "markdown",
   "metadata": {},
   "source": [
    "#### Variable length arguments\n",
    "\n",
    "- Positional Arguments (for keys or vals only)\n",
    "\n",
    "- Keyword Arguments (for <k, v> both)"
   ]
  },
  {
   "cell_type": "code",
   "execution_count": 4,
   "metadata": {},
   "outputs": [
    {
     "name": "stdout",
     "output_type": "stream",
     "text": [
      "1\n",
      "3\n",
      "7\n",
      "11\n",
      "13\n"
     ]
    }
   ],
   "source": [
    "# with keys only\n",
    "def print_numbers(*args: tuple) -> None:\n",
    "    for each_num in args:\n",
    "        print(each_num)\n",
    "\n",
    "print_numbers(1, 3, 7, 11, 13)  "
   ]
  },
  {
   "cell_type": "code",
   "execution_count": 5,
   "metadata": {},
   "outputs": [
    {
     "name": "stdout",
     "output_type": "stream",
     "text": [
      "name: John Wick\n",
      "age: 42\n",
      "is_hitman: True\n"
     ]
    }
   ],
   "source": [
    "# with <k, v> \n",
    "def get_details(**kwargs: dict[str, object]) -> None:\n",
    "    for each_key, each_val in kwargs.items():\n",
    "        print(f'{each_key}: {each_val}')\n",
    "\n",
    "get_details(name = 'John Wick', age = 42, is_hitman = True)\n"
   ]
  },
  {
   "cell_type": "code",
   "execution_count": 6,
   "metadata": {},
   "outputs": [],
   "source": [
    "# mixed up\n",
    "def combo(*args: tuple, **kwargs: dict[str, object]) -> None:\n",
    "    for each_arg in args:\n",
    "        print(f'Positional Arguments: {each_arg}')\n",
    "    print()\n",
    "    \n",
    "    for each_key, each_val in kwargs.items():\n",
    "        print(f'Keyword Arguments --> {each_key}: {each_val}')"
   ]
  },
  {
   "cell_type": "code",
   "execution_count": 7,
   "metadata": {},
   "outputs": [
    {
     "name": "stdout",
     "output_type": "stream",
     "text": [
      "Positional Arguments: hey\n",
      "Positional Arguments: True\n",
      "Positional Arguments: 3\n",
      "\n",
      "Positional Arguments: Hey\n",
      "Positional Arguments: True\n",
      "Positional Arguments: 3\n",
      "\n",
      "Keyword Arguments --> name: James Bond\n",
      "Keyword Arguments --> age: 45\n",
      "Keyword Arguments --> is_licensed_to_kill: True\n"
     ]
    }
   ],
   "source": [
    "combo('hey', True, 3)\n",
    "\n",
    "# combo(name = 'James Bond', age = 45, is_licensed_to_kill = True)\n",
    "\n",
    "combo('Hey', True, 3, name = 'James Bond', age = 45, is_licensed_to_kill = True)"
   ]
  },
  {
   "cell_type": "code",
   "execution_count": 8,
   "metadata": {},
   "outputs": [],
   "source": [
    "# used return statement for optimization\n",
    "def combined(*args: tuple, **kwargs: dict[str, object]) -> tuple | dict[str, object]:\n",
    "    combined_list: list[str | int | bool] = []\n",
    "\n",
    "    for each_arg in args:\n",
    "       combined_list.append(str(each_arg))\n",
    "\n",
    "    print()\n",
    "    \n",
    "    for each_key, each_val in kwargs.items():\n",
    "        combined_list.append(f'{each_key}: {each_val}')\n",
    "    \n",
    "    # return tuple(combined_list)\n",
    "    return '\\n'.join(combined_list)"
   ]
  },
  {
   "cell_type": "code",
   "execution_count": 9,
   "metadata": {},
   "outputs": [
    {
     "name": "stdout",
     "output_type": "stream",
     "text": [
      "\n",
      "50\n",
      "60\n",
      "zindagi haan\n",
      "\n",
      "a: 1\n",
      "b: 2\n",
      "c: life\n",
      "\n",
      "Hey\n",
      "True\n",
      "3\n",
      "name: James Bond\n",
      "age: 45\n",
      "is_licensed_to_kill: True\n"
     ]
    }
   ],
   "source": [
    "print(combined(50, 60, 'zindagi haan'))\n",
    "print(combined(a = 1, b = 2, c = 'life'))\n",
    "print(combined('Hey', True, 3, name = 'James Bond', age = 45, is_licensed_to_kill = True))"
   ]
  },
  {
   "cell_type": "code",
   "execution_count": null,
   "metadata": {},
   "outputs": [],
   "source": []
  }
 ],
 "metadata": {
  "kernelspec": {
   "display_name": ".venv",
   "language": "python",
   "name": "python3"
  },
  "language_info": {
   "codemirror_mode": {
    "name": "ipython",
    "version": 3
   },
   "file_extension": ".py",
   "mimetype": "text/x-python",
   "name": "python",
   "nbconvert_exporter": "python",
   "pygments_lexer": "ipython3",
   "version": "3.12.7"
  }
 },
 "nbformat": 4,
 "nbformat_minor": 2
}
