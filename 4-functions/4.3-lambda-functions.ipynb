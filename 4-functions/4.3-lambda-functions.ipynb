{
 "cells": [
  {
   "cell_type": "code",
   "execution_count": 1,
   "metadata": {},
   "outputs": [],
   "source": [
    "from typing import Callable"
   ]
  },
  {
   "cell_type": "code",
   "execution_count": 2,
   "metadata": {},
   "outputs": [
    {
     "data": {
      "text/plain": [
       "function"
      ]
     },
     "execution_count": 2,
     "metadata": {},
     "output_type": "execute_result"
    }
   ],
   "source": [
    "addition: Callable[..., int] = lambda a, b: a + b\n",
    "\n",
    "# or simply,\n",
    "addition_no_data_types = lambda a, b: a + b\n",
    "\n",
    "type(addition)"
   ]
  },
  {
   "cell_type": "code",
   "execution_count": 3,
   "metadata": {},
   "outputs": [
    {
     "name": "stdout",
     "output_type": "stream",
     "text": [
      "7\n"
     ]
    }
   ],
   "source": [
    "print(addition(2, 5))"
   ]
  },
  {
   "cell_type": "code",
   "execution_count": 4,
   "metadata": {},
   "outputs": [
    {
     "name": "stdout",
     "output_type": "stream",
     "text": [
      "False\n",
      "True\n"
     ]
    }
   ],
   "source": [
    "even_odd: Callable[[int], int] = lambda num: num % 2 == 0       # 1st int is for argument & 2nd int is for function return type\n",
    "print(even_odd(99))\n",
    "print(even_odd(40))"
   ]
  },
  {
   "cell_type": "markdown",
   "metadata": {},
   "source": [
    "#### with multiple params - lambda"
   ]
  },
  {
   "cell_type": "code",
   "execution_count": 5,
   "metadata": {},
   "outputs": [
    {
     "name": "stdout",
     "output_type": "stream",
     "text": [
      "36\n",
      "0\n"
     ]
    }
   ],
   "source": [
    "mul: Callable[..., int] = lambda x, y, z: x * y * z\n",
    "print(mul(3, 6, 2))\n",
    "print(mul(11, 0, 67))"
   ]
  },
  {
   "cell_type": "code",
   "execution_count": 6,
   "metadata": {},
   "outputs": [
    {
     "name": "stdout",
     "output_type": "stream",
     "text": [
      "120\n",
      "6\n"
     ]
    }
   ],
   "source": [
    "\"\"\" #old way,\n",
    "import math\n",
    "\n",
    "def factorial_optimized(n):\n",
    "    return math.factorial(n)\"\"\"\n",
    "\n",
    "import math\n",
    "factorial_lambda: Callable[[int], int] = lambda n: math.factorial(n)\n",
    "\n",
    "# Example usage\n",
    "print(factorial_lambda(5))  # Output: 120\n",
    "print(factorial_lambda(3))  # Output: 6"
   ]
  },
  {
   "cell_type": "markdown",
   "metadata": {},
   "source": [
    "#### - map() function applies function to all items in a list"
   ]
  },
  {
   "cell_type": "code",
   "execution_count": 7,
   "metadata": {},
   "outputs": [
    {
     "data": {
      "text/plain": [
       "[64, 81, 100]"
      ]
     },
     "execution_count": 7,
     "metadata": {},
     "output_type": "execute_result"
    }
   ],
   "source": [
    "# squaring a number\n",
    "num_list: list[int] = [8, 9, 10]\n",
    "\n",
    "map_num: map = map(lambda each_num: each_num ** 2, \n",
    "                   num_list)                        # creates a <map at 0x1204c2350> at this memory location using lazy loading technique\n",
    "\n",
    "list(map_num)                   # syntax is list(map(lamdba fn, list_name))\n",
    "\n",
    "# lambda each_num: each_num ** 2      is technically the function name\n",
    "#                    num_list         is technically the iterable aka the collection"
   ]
  },
  {
   "cell_type": "code",
   "execution_count": 8,
   "metadata": {},
   "outputs": [
    {
     "name": "stdout",
     "output_type": "stream",
     "text": [
      "[64, 81, 100]\n"
     ]
    }
   ],
   "source": [
    "# 2nd way - without using map() - boring / hard way - DON'T USE\n",
    "squared_list: Callable[..., int] = lambda num_list: [each_num ** 2\n",
    "                                                     for each_num in num_list]\n",
    "print(squared_list(num_list))"
   ]
  },
  {
   "cell_type": "code",
   "execution_count": null,
   "metadata": {},
   "outputs": [],
   "source": []
  }
 ],
 "metadata": {
  "kernelspec": {
   "display_name": ".venv",
   "language": "python",
   "name": "python3"
  },
  "language_info": {
   "codemirror_mode": {
    "name": "ipython",
    "version": 3
   },
   "file_extension": ".py",
   "mimetype": "text/x-python",
   "name": "python",
   "nbconvert_exporter": "python",
   "pygments_lexer": "ipython3",
   "version": "3.12.7"
  }
 },
 "nbformat": 4,
 "nbformat_minor": 2
}
