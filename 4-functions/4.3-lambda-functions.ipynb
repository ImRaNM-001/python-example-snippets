{
 "cells": [
  {
   "cell_type": "code",
   "execution_count": 1,
   "metadata": {},
   "outputs": [],
   "source": [
    "from typing import Callable"
   ]
  },
  {
   "cell_type": "code",
   "execution_count": 2,
   "metadata": {},
   "outputs": [
    {
     "data": {
      "text/plain": [
       "function"
      ]
     },
     "execution_count": 2,
     "metadata": {},
     "output_type": "execute_result"
    }
   ],
   "source": [
    "addition: Callable[..., int] = lambda a, b: a + b\n",
    "\n",
    "# or simply,\n",
    "addition_no_data_types = lambda a, b: a + b\n",
    "\n",
    "type(addition)"
   ]
  },
  {
   "cell_type": "code",
   "execution_count": 3,
   "metadata": {},
   "outputs": [
    {
     "name": "stdout",
     "output_type": "stream",
     "text": [
      "7\n"
     ]
    }
   ],
   "source": [
    "print(addition(2, 5))"
   ]
  },
  {
   "cell_type": "code",
   "execution_count": 4,
   "metadata": {},
   "outputs": [
    {
     "name": "stdout",
     "output_type": "stream",
     "text": [
      "False\n",
      "True\n"
     ]
    }
   ],
   "source": [
    "even_odd: Callable[[int], int] = lambda num: num % 2 == 0       # 1st int is for argument & 2nd int is for function return type\n",
    "print(even_odd(99))\n",
    "print(even_odd(40))"
   ]
  },
  {
   "cell_type": "markdown",
   "metadata": {},
   "source": [
    "#### with multiple params - lambda"
   ]
  },
  {
   "cell_type": "code",
   "execution_count": 5,
   "metadata": {},
   "outputs": [
    {
     "name": "stdout",
     "output_type": "stream",
     "text": [
      "36\n",
      "0\n"
     ]
    }
   ],
   "source": [
    "mul: Callable[..., int] = lambda x, y, z: x * y * z\n",
    "print(mul(3, 6, 2))\n",
    "print(mul(11, 0, 67))"
   ]
  },
  {
   "cell_type": "code",
   "execution_count": 6,
   "metadata": {},
   "outputs": [
    {
     "name": "stdout",
     "output_type": "stream",
     "text": [
      "120\n",
      "6\n"
     ]
    }
   ],
   "source": [
    "\"\"\" #old way,\n",
    "import math\n",
    "\n",
    "def factorial_optimized(n):\n",
    "    return math.factorial(n)\n",
    "\"\"\"\n",
    "\n",
    "import math\n",
    "factorial_lambda: Callable[[int], int] = lambda n: math.factorial(n)\n",
    "\n",
    "# Example usage\n",
    "print(factorial_lambda(5))  # Output: 120\n",
    "print(factorial_lambda(3))  # Output: 6"
   ]
  },
  {
   "cell_type": "markdown",
   "metadata": {},
   "source": [
    "#### - map() function applies function to all items in a list"
   ]
  },
  {
   "cell_type": "code",
   "execution_count": 7,
   "metadata": {},
   "outputs": [
    {
     "data": {
      "text/plain": [
       "[64, 81, 100]"
      ]
     },
     "execution_count": 7,
     "metadata": {},
     "output_type": "execute_result"
    }
   ],
   "source": [
    "# squaring a number\n",
    "num_list: list[int] = [8, 9, 10]\n",
    "\n",
    "map_num: map = map(lambda each_num: each_num ** 2, \n",
    "                   num_list)                        # creates a <map at 0x1204c2350> at this memory location using lazy loading technique\n",
    "\n",
    "list(map_num)                   # syntax is list(map(lamdba fn, list_name))\n",
    "\n",
    "# lambda each_num: each_num ** 2      is technically the function name\n",
    "#                    num_list         is technically the iterable aka the collection"
   ]
  },
  {
   "cell_type": "code",
   "execution_count": 8,
   "metadata": {},
   "outputs": [
    {
     "name": "stdout",
     "output_type": "stream",
     "text": [
      "[64, 81, 100]\n"
     ]
    }
   ],
   "source": [
    "# 2nd way - without using map() - boring / hard way - DON'T USE\n",
    "squared_list: Callable[..., int] = lambda num_list: [each_num ** 2\n",
    "                                                     for each_num in num_list]\n",
    "print(squared_list(num_list))"
   ]
  },
  {
   "cell_type": "markdown",
   "metadata": {},
   "source": [
    "#### post functional programming lessons\n",
    "\n",
    "> Functional Programming (Theory of Python) (Python Tutorial) - **\"Real Physics\"**\n",
    "\n",
    "- few samples:\n",
    "    - lambda a,b: a + b    &emsp;&emsp;&emsp;&emsp; NOTE: ensure the expression returned should NOT contain impure fn calls\n",
    "\n",
    "    - lambda *args: len(args)\n",
    "\n",
    "    - lambda x: x ** 3 &emsp;&emsp;&emsp;&emsp; performing (cube on x)\n",
    "\n",
    "    - filter(fn, iterable) -> iterator\n",
    "\n",
    "    - map(fn, iterable, ...) -> iterator\n",
    "\n",
    "    - zip(iterable, ...) -> iterator\n",
    "\n",
    "            - zip(*iterables): takes 1 or more iterables (like lists, tuples, or ranges) as arguments, iterates through the input iterables in parallel, combining the corresponding elements into tuples.\n",
    "            \n",
    "            - then for each step of the iteration, returns an iterator of these newly created tuples."
   ]
  },
  {
   "cell_type": "code",
   "execution_count": 2,
   "metadata": {},
   "outputs": [
    {
     "data": {
      "text/plain": [
       "[0, 1, 8, 27, 64]"
      ]
     },
     "execution_count": 2,
     "metadata": {},
     "output_type": "execute_result"
    }
   ],
   "source": [
    "i = map(lambda x: x ** 3, \n",
    "        range(5))         # creates cube from 0 till 4, range(5) is the iterable\n",
    "list(i)"
   ]
  },
  {
   "cell_type": "code",
   "execution_count": 4,
   "metadata": {},
   "outputs": [
    {
     "data": {
      "text/plain": [
       "[10, 12, 14, 16, 18, 20, 22, 24, 26, 28]"
      ]
     },
     "execution_count": 4,
     "metadata": {},
     "output_type": "execute_result"
    }
   ],
   "source": [
    "j = map(lambda x,y: x + y, \\\n",
    "        range(10), \\\n",
    "        range(10, 20)\n",
    ")                             # (0, 1, 2, ..., 9) for range(10) added to (10, 11, 12, ..., 19) for range(10, 20)\n",
    "\n",
    "list(j)"
   ]
  },
  {
   "cell_type": "code",
   "execution_count": 5,
   "metadata": {},
   "outputs": [
    {
     "data": {
      "text/plain": [
       "[(0, 10, 20),\n",
       " (1, 11, 21),\n",
       " (2, 12, 22),\n",
       " (3, 13, 23),\n",
       " (4, 14, 24),\n",
       " (5, 15, 25),\n",
       " (6, 16, 26),\n",
       " (7, 17, 27),\n",
       " (8, 18, 28),\n",
       " (9, 19, 29)]"
      ]
     },
     "execution_count": 5,
     "metadata": {},
     "output_type": "execute_result"
    }
   ],
   "source": [
    "k = zip(range(10),\n",
    "        range(10, 20),\n",
    "        range(20, 30))\n",
    "\n",
    "# 1st row -> 0, 1, 2, 3...9\n",
    "# 2nd row -> 10, 11, 12, 13...19\n",
    "# 3rd row -> 20, 21, 22, 23...29\n",
    "\n",
    "# next(i) -> (0, 10, 20)\n",
    "# next(i) -> (1, 11, 21)\n",
    "# next(i) -> (2, 12, 22)....and so on......\n",
    "\n",
    "list(k)"
   ]
  },
  {
   "cell_type": "code",
   "execution_count": 9,
   "metadata": {},
   "outputs": [
    {
     "data": {
      "text/plain": [
       "8"
      ]
     },
     "execution_count": 9,
     "metadata": {},
     "output_type": "execute_result"
    }
   ],
   "source": [
    "from functools import partial, reduce\n",
    "add = lambda x,y: x + y\n",
    "\n",
    "# syntax\n",
    "# functools.partial(func,\n",
    "#                   ...args...)\n",
    "\n",
    "partial(add, 3)(5)"
   ]
  },
  {
   "cell_type": "code",
   "execution_count": 11,
   "metadata": {},
   "outputs": [
    {
     "data": {
      "text/plain": [
       "105"
      ]
     },
     "execution_count": 11,
     "metadata": {},
     "output_type": "execute_result"
    }
   ],
   "source": [
    "# syntax\n",
    "# functools.reduce(func,\n",
    "#                   iterable,\n",
    "#                   initializer = None)\n",
    "\n",
    "reduce(add,\n",
    "       (100, 2, 3,\n",
    "        0))"
   ]
  },
  {
   "cell_type": "code",
   "execution_count": null,
   "metadata": {},
   "outputs": [],
   "source": []
  }
 ],
 "metadata": {
  "kernelspec": {
   "display_name": ".venv",
   "language": "python",
   "name": "python3"
  },
  "language_info": {
   "codemirror_mode": {
    "name": "ipython",
    "version": 3
   },
   "file_extension": ".py",
   "mimetype": "text/x-python",
   "name": "python",
   "nbconvert_exporter": "python",
   "pygments_lexer": "ipython3",
   "version": "3.12.7"
  }
 },
 "nbformat": 4,
 "nbformat_minor": 2
}
