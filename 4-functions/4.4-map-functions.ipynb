{
 "cells": [
  {
   "cell_type": "markdown",
   "metadata": {},
   "source": [
    "#### add two lists directly via map() function"
   ]
  },
  {
   "cell_type": "code",
   "execution_count": 38,
   "metadata": {},
   "outputs": [
    {
     "data": {
      "text/plain": [
       "[5, 9, 13]"
      ]
     },
     "execution_count": 38,
     "metadata": {},
     "output_type": "execute_result"
    }
   ],
   "source": [
    "_1st_nums_list: list[int] = [2, 4, 6]\n",
    "_2nd_nums_list: list[int] = [3, 5, 7]\n",
    "\n",
    "list(map(lambda x, y: x + y,                    # lambda x, y: x + y  is technicaly the anonymous function written directly wihout any () \n",
    "          _1st_nums_list, \n",
    "          _2nd_nums_list))"
   ]
  },
  {
   "cell_type": "code",
   "execution_count": 39,
   "metadata": {},
   "outputs": [
    {
     "name": "stdout",
     "output_type": "stream",
     "text": [
      "[5, 9, 13]\n"
     ]
    }
   ],
   "source": [
    "# same logic but stored in a variable\n",
    "added_nums: list[int] = list(map(lambda x, y: x + y,\n",
    "          _1st_nums_list, \n",
    "          _2nd_nums_list))\n",
    "\n",
    "print(added_nums)"
   ]
  },
  {
   "cell_type": "markdown",
   "metadata": {},
   "source": [
    "#### Typecast a data type\n",
    "- convert string list to a int list"
   ]
  },
  {
   "cell_type": "code",
   "execution_count": 40,
   "metadata": {},
   "outputs": [
    {
     "name": "stdout",
     "output_type": "stream",
     "text": [
      "[2, 6, 12, 18]\n"
     ]
    },
    {
     "data": {
      "text/plain": [
       "[int, int, int, int]"
      ]
     },
     "execution_count": 40,
     "metadata": {},
     "output_type": "execute_result"
    }
   ],
   "source": [
    "str_list: list[str] = ['2', '6', '12', '18']\n",
    "\n",
    "int_list: list[int] = list(map(int, str_list))\n",
    "print(int_list)\n",
    "\n",
    "# now, where's the proof, eh?\n",
    "type_int_list: map = map(lambda elem: type(elem), int_list)       # find the type of each elements inside int list\n",
    "list(type_int_list)\n"
   ]
  },
  {
   "cell_type": "markdown",
   "metadata": {},
   "source": [
    "#### Captalize each words in a list"
   ]
  },
  {
   "cell_type": "code",
   "execution_count": 41,
   "metadata": {},
   "outputs": [
    {
     "data": {
      "text/plain": [
       "['CARROT', 'PEAS', 'LADY FINGER']"
      ]
     },
     "execution_count": 41,
     "metadata": {},
     "output_type": "execute_result"
    }
   ],
   "source": [
    "words_list: list[str] = ['carrot', 'peas', 'lady finger']\n",
    "\n",
    "list(map(str.upper, words_list))            # no need to write () of upper() function"
   ]
  },
  {
   "cell_type": "code",
   "execution_count": 42,
   "metadata": {},
   "outputs": [
    {
     "data": {
      "text/plain": [
       "['John Doe', 'Stanley Jobson']"
      ]
     },
     "execution_count": 42,
     "metadata": {},
     "output_type": "execute_result"
    }
   ],
   "source": [
    "# lambda function to return the name of a person from dictonary\n",
    "get_names: list[str] = lambda persons_list: persons_list['name']\n",
    "\n",
    "persons_list: list[dict[str, object]] = [{\n",
    "    'name': 'John Doe',\n",
    "    'age': 42\n",
    "},\n",
    "    {\n",
    "    'name': 'Stanley Jobson',\n",
    "    'age': 38\n",
    "}]\n",
    "\n",
    "list(map(get_names, persons_list))              # used & called get_names function without the ()\n",
    "\n",
    "# Original function of Krish:\n",
    "# def get_names(persons_list):\n",
    "#     return persons_list['name']"
   ]
  },
  {
   "cell_type": "code",
   "execution_count": null,
   "metadata": {},
   "outputs": [],
   "source": []
  }
 ],
 "metadata": {
  "kernelspec": {
   "display_name": ".venv",
   "language": "python",
   "name": "python3"
  },
  "language_info": {
   "codemirror_mode": {
    "name": "ipython",
    "version": 3
   },
   "file_extension": ".py",
   "mimetype": "text/x-python",
   "name": "python",
   "nbconvert_exporter": "python",
   "pygments_lexer": "ipython3",
   "version": "3.12.7"
  }
 },
 "nbformat": 4,
 "nbformat_minor": 2
}
