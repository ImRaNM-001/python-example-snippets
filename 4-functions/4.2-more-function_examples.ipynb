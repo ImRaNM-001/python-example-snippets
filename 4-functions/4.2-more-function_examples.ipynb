{
 "cells": [
  {
   "cell_type": "markdown",
   "metadata": {},
   "source": [
    "#### Common functions used:\n",
    "\n",
    "- char.isdigit() \n",
    "\n",
    "  char.islower() \n",
    "\n",
    "  char.isupper() \n",
    "\n",
    "  char.isalnum() \n",
    "\n",
    "    ________________\n",
    "    \n",
    "        \n",
    "- .replace()\n",
    "\n",
    "                from re\n",
    "\n",
    "- .match(pattern, text)"
   ]
  },
  {
   "cell_type": "markdown",
   "metadata": {},
   "source": [
    "#### Ex 1: Temperature conversion"
   ]
  },
  {
   "cell_type": "code",
   "execution_count": 1,
   "metadata": {},
   "outputs": [
    {
     "name": "stdout",
     "output_type": "stream",
     "text": [
      "The temperature is: 78.6°F\n",
      "The temperature is: 25.9°C\n",
      "Invalid unit\n"
     ]
    }
   ],
   "source": [
    "\"\"\"Golden childhood formula:\n",
    "C/5 = F-32/9    \n",
    "\n",
    "Alt + 0     will generate a ° symbol\n",
    "\"\"\"\n",
    "\n",
    "def convert_temperature(temp_val: float, unit: str) -> str:\n",
    "    match unit:\n",
    "        case 'F':\n",
    "            return f'The temperature is: {(temp_val - 32) * 5/9:.1f}°C'\n",
    "        \n",
    "        case 'C':\n",
    "            return f'The temperature is: {(temp_val * 9 /5) + 32:.1f}°F'\n",
    "        \n",
    "        case _:\n",
    "            return f'Invalid unit'\n",
    "\n",
    "print(convert_temperature(25.9, 'C'))\n",
    "print(convert_temperature(78.6, 'F'))\n",
    "# print(convert_temperature('Uri - the surgical strike', 'F'))        # TypeError: unsupported operand type(s) for -: 'str' and 'int'\n",
    "print(convert_temperature(25, 'c'))\n"
   ]
  },
  {
   "cell_type": "markdown",
   "metadata": {},
   "source": [
    "#### Ex 2: Password strength checker"
   ]
  },
  {
   "cell_type": "code",
   "execution_count": 9,
   "metadata": {},
   "outputs": [
    {
     "name": "stdout",
     "output_type": "stream",
     "text": [
      "True\n",
      "False\n"
     ]
    }
   ],
   "source": [
    "def is_valid_password(password: str) -> bool:\n",
    "    return (\n",
    "        len(password) >= 8 and\n",
    "        any(char.isdigit() for char in password) and\n",
    "        any(char.islower() for char in password) and\n",
    "        any(char.isupper() for char in password) and\n",
    "        any(char in '!@#$%^&*()_+' for char in password)\n",
    "    )\n",
    "\n",
    "# Example usage\n",
    "print(is_valid_password(\"Password123!\"))  # True\n",
    "print(is_valid_password(\"pass\"))          # False"
   ]
  },
  {
   "cell_type": "markdown",
   "metadata": {},
   "source": [
    "#### Ex 3: Calculate the total cost of items in shopping cart"
   ]
  },
  {
   "cell_type": "code",
   "execution_count": 3,
   "metadata": {},
   "outputs": [
    {
     "name": "stdout",
     "output_type": "stream",
     "text": [
      "Total cost: 6.20\n"
     ]
    }
   ],
   "source": [
    "def calculate_total_cost(cart: list[dict[str, float]]) -> float:\n",
    "    return sum(\n",
    "        each_item['price'] * each_item['quantity']\n",
    "        for each_item in cart\n",
    "        )\n",
    "\n",
    "cart: list[dict[str, float]] = [\n",
    "    {'item_name': 'Apple', 'price': 0.5, 'quantity': 4},\n",
    "    {'item_name': 'Banana', 'price': 0.3, 'quantity': 6},\n",
    "    {'item_name': 'Milk', 'price': 1.2, 'quantity': 2},\n",
    "]\n",
    "\n",
    "# Example usage\n",
    "total_cost: float = calculate_total_cost(cart)\n",
    "print(f'Total cost: {total_cost:.2f}')"
   ]
  },
  {
   "cell_type": "markdown",
   "metadata": {},
   "source": [
    "#### Ex 4: Check if s string is palindrome"
   ]
  },
  {
   "cell_type": "code",
   "execution_count": 4,
   "metadata": {},
   "outputs": [
    {
     "name": "stdout",
     "output_type": "stream",
     "text": [
      "True\n",
      "False\n",
      "True\n"
     ]
    }
   ],
   "source": [
    "def palindrome_check(str: str) -> bool:\n",
    "    str = str.lower().replace(' ', '')      # making the string lowercase to avoid casing issues and killing all whitespaces\n",
    "    return str == str[::-1]                 # comparing the string with it's reverse to return True or False\n",
    "\n",
    "print(palindrome_check('HANAH'))\n",
    "print(palindrome_check('jack'))\n",
    "print(palindrome_check('a Man a PLAN a CANAL PANAMA'))"
   ]
  },
  {
   "cell_type": "markdown",
   "metadata": {},
   "source": [
    "#### Ex 5: Calculate the factorials of number using recursion"
   ]
  },
  {
   "cell_type": "code",
   "execution_count": 5,
   "metadata": {},
   "outputs": [
    {
     "name": "stdout",
     "output_type": "stream",
     "text": [
      "1\n",
      "1\n",
      "24\n",
      "40320\n"
     ]
    }
   ],
   "source": [
    "def factorial(num: int) -> int:\n",
    "    return 1 if num == 0 else num * factorial(num - 1)\n",
    "    \n",
    "print(factorial(0))\n",
    "print(factorial(1))\n",
    "print(factorial(4))         # 4 * 3 * 2 * 1 = 24\n",
    "print(factorial(8))\n"
   ]
  },
  {
   "cell_type": "markdown",
   "metadata": {},
   "source": [
    "#### Ex 6: Read a file and count frequency of each word"
   ]
  },
  {
   "cell_type": "code",
   "execution_count": 6,
   "metadata": {},
   "outputs": [
    {
     "name": "stdout",
     "output_type": "stream",
     "text": [
      "yo: 1\n",
      "world: 2\n",
      "how: 1\n",
      "are: 2\n",
      "ya: 2\n",
      "this: 1\n",
      "is: 1\n",
      "john: 1\n",
      "doe: 1\n",
      "here: 2\n",
      "in: 1\n",
      ": 0\n"
     ]
    }
   ],
   "source": [
    "# taken from copilot, yet to understand & absorb - FUTURE SHIT\n",
    "\n",
    "def count_words(file_path: str) -> dict[str, int]:\n",
    "    word_count: dict[str, int] = {}\n",
    "\n",
    "    with open(file_path, 'r', encoding = 'utf-8') as file:\n",
    "        for line in file:\n",
    "            words: list[str] = line.lower().split()\n",
    "\n",
    "            for each_word in words:\n",
    "                each_word: str = ''.join(char\n",
    "                                         for char in each_word\n",
    "                                         if char.isalnum())             # Remove punctuation\n",
    "                word_count[each_word] = word_count.get(each_word, 0) + 1 if each_word else 0\n",
    "    return word_count\n",
    "\n",
    "\n",
    "# Example usage\n",
    "word_count: dict[str, int] = count_words('../data/read_file.txt')\n",
    "formatted: str = '\\n'.join(f'{each_word}: {count}' \n",
    "                           for each_word, count in word_count.items())\n",
    "print(formatted)"
   ]
  },
  {
   "cell_type": "markdown",
   "metadata": {},
   "source": [
    "#### Ex 7: Validate Email Address\n",
    "\n",
    "    This line of Python code is a return statement that uses the re.match function from the re (regular expression) module to check if a given email address matches a specific pattern. \n",
    "    The pattern is defined by the regular expression r'^[\\w\\.-]+@[\\w\\.-]+\\.\\w+$'.\n",
    "\n",
    "    Here's a breakdown of the regular expression:\n",
    "\n",
    "- **r** is a prefix that denotes a raw string in Python. Raw strings are useful for regular expressions because they treat backslashes (\\) as literal characters and do not interpret them as escape characters. This makes it easier to write and read regular expressions.\n",
    "\n",
    "- ^ asserts the position at the start of the string.\n",
    "\n",
    "- [\\w\\.-]+ matches one or more word characters (alphanumeric characters and underscores), dots, or hyphens.\n",
    "\n",
    "- @ matches the literal \"@\" character.\n",
    "\n",
    "- [\\w\\.-]+ matches one or more word characters, dots, or hyphens again (this part represents the domain name).\n",
    "\n",
    "- \\. matches a literal dot.\n",
    "\n",
    "- \\w+ matches one or more word characters (this part represents the top-level domain, like \"com\" or \"org\").\n",
    "\n",
    "- $ asserts the position at the end of the string.\n",
    "\n",
    "- The **re.match** function returns a match object if the pattern is found at the beginning of the string; otherwise, it returns None. \n",
    "- The expression **is not None** checks if the match object exists, meaning the email address is valid according to the specified pattern. If the match object is not None, the function returns True, indicating a valid email address; otherwise, it returns False.\n",
    "\n",
    "- Further, The **is not None** part of the code checks whether the result of re.match is not None. In Python, re.match returns a match object if the pattern matches the string; otherwise, it returns None. By checking is not None, the code ensures that the function returns True if there is a match and False if there isn't."
   ]
  },
  {
   "cell_type": "code",
   "execution_count": 7,
   "metadata": {},
   "outputs": [
    {
     "name": "stdout",
     "output_type": "stream",
     "text": [
      "True\n",
      "False\n"
     ]
    }
   ],
   "source": [
    "# taken from copilot, yet to understand & absorb - FUTURE SHIT\n",
    "\n",
    "import re\n",
    "\n",
    "def is_valid_email(email: str) -> bool:\n",
    "    \"\"\"This function checks if an email is vald \"\"\"\n",
    "    return re.match(r'^[\\w\\.-]+@[\\w\\.-]+\\.\\w+$', email) is not None\n",
    "\n",
    "print(is_valid_email('sulta_-n@wrestling123.com'))\n",
    "print(is_valid_email('inva^&*()@com'))\n",
    "\n",
    "\n",
    "# KK's logic\n",
    "# def is_valid_email(email: str) -> bool:\n",
    "#     \"\"\"This function checks if an email is vald \"\"\"\n",
    "#     pattern = r'^[a-zA-Z0-9_.+-]+@[a-zA-Z0-9-_]+\\.[a-zA-Z0-9-.]+$'\n",
    "#     return re.match(pattern, email) is not None    "
   ]
  },
  {
   "cell_type": "code",
   "execution_count": null,
   "metadata": {},
   "outputs": [],
   "source": []
  }
 ],
 "metadata": {
  "kernelspec": {
   "display_name": ".venv",
   "language": "python",
   "name": "python3"
  },
  "language_info": {
   "codemirror_mode": {
    "name": "ipython",
    "version": 3
   },
   "file_extension": ".py",
   "mimetype": "text/x-python",
   "name": "python",
   "nbconvert_exporter": "python",
   "pygments_lexer": "ipython3",
   "version": "3.12.7"
  }
 },
 "nbformat": 4,
 "nbformat_minor": 2
}
