{
 "cells": [
  {
   "cell_type": "code",
   "execution_count": 18,
   "metadata": {},
   "outputs": [],
   "source": [
    "class Error(Exception):\n",
    "    pass\n",
    "\n",
    "class DobException(Error):\n",
    "    pass"
   ]
  },
  {
   "cell_type": "code",
   "execution_count": 19,
   "metadata": {},
   "outputs": [
    {
     "name": "stdout",
     "output_type": "stream",
     "text": [
      "Age is valid to apply for the exam\n"
     ]
    }
   ],
   "source": [
    "from datetime import date\n",
    "\n",
    "year_of_birth: int = int(input('Enter year of birth'))\n",
    "age: int = date.today().year - year_of_birth\n",
    "\n",
    "try:\n",
    "    if age < 0:\n",
    "        raise DobException('Year of birth cannot be in the future')\n",
    "    \n",
    "    if not 20 <= age <= 30:\n",
    "        raise DobException('Age should be greater than 20 and less than 30')\n",
    "    \n",
    "    print(f'Age is valid to apply for the exam')            \n",
    "    \n",
    "except DobException as exception:\n",
    "    print(exception)"
   ]
  },
  {
   "cell_type": "code",
   "execution_count": null,
   "metadata": {},
   "outputs": [],
   "source": []
  }
 ],
 "metadata": {
  "kernelspec": {
   "display_name": ".venv",
   "language": "python",
   "name": "python3"
  },
  "language_info": {
   "codemirror_mode": {
    "name": "ipython",
    "version": 3
   },
   "file_extension": ".py",
   "mimetype": "text/x-python",
   "name": "python",
   "nbconvert_exporter": "python",
   "pygments_lexer": "ipython3",
   "version": "3.12.7"
  }
 },
 "nbformat": 4,
 "nbformat_minor": 2
}
