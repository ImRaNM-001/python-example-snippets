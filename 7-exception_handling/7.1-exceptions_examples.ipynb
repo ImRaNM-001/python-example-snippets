{
 "cells": [
  {
   "cell_type": "markdown",
   "metadata": {},
   "source": [
    "#### Common functions used:\n",
    "\n",
    "- open()\n",
    "\n",
    "- **file**.closed()"
   ]
  },
  {
   "cell_type": "markdown",
   "metadata": {},
   "source": [
    "#### Handling any kind of errors"
   ]
  },
  {
   "cell_type": "code",
   "execution_count": 1,
   "metadata": {},
   "outputs": [
    {
     "name": "stdout",
     "output_type": "stream",
     "text": [
      "The variable b is not defined\n"
     ]
    }
   ],
   "source": [
    "try:\n",
    "    a = b\n",
    "except:\n",
    "    print('The variable b is not defined')"
   ]
  },
  {
   "cell_type": "markdown",
   "metadata": {},
   "source": [
    "#### Display the Errors gracefully"
   ]
  },
  {
   "cell_type": "code",
   "execution_count": 2,
   "metadata": {},
   "outputs": [
    {
     "name": "stdout",
     "output_type": "stream",
     "text": [
      "name 'b' is not defined\n"
     ]
    }
   ],
   "source": [
    "# NameError\n",
    "try:\n",
    "    a = b\n",
    "except NameError as error:      # error is an alias\n",
    "    print(error)                # name 'b' is not defined"
   ]
  },
  {
   "cell_type": "code",
   "execution_count": 3,
   "metadata": {},
   "outputs": [
    {
     "name": "stdout",
     "output_type": "stream",
     "text": [
      "division by zero, ain't possible\n",
      "Enter denominator > 0\n"
     ]
    }
   ],
   "source": [
    "# ZeroDivisionError\n",
    "try:\n",
    "    1 / 0\n",
    "except ZeroDivisionError as error:\n",
    "    print(f'{error}, ain\\'t possible')\n",
    "    print('Enter denominator > 0')"
   ]
  },
  {
   "cell_type": "code",
   "execution_count": 4,
   "metadata": {},
   "outputs": [
    {
     "name": "stdout",
     "output_type": "stream",
     "text": [
      "name 'a' is not defined, :caught main exception in here\n"
     ]
    }
   ],
   "source": [
    "# Parent of all exceptions\n",
    "try:\n",
    "    2 / 4\n",
    "    a == b\n",
    "except ZeroDivisionError as error:\n",
    "    print(error)\n",
    "    print('is not allowed')\n",
    "except Exception as exception:\n",
    "    print(f'{exception}, :caught main exception in here')\n"
   ]
  },
  {
   "cell_type": "markdown",
   "metadata": {},
   "source": [
    "#### Handle multiple exceptions together but in ascending order"
   ]
  },
  {
   "cell_type": "code",
   "execution_count": 5,
   "metadata": {},
   "outputs": [
    {
     "name": "stdout",
     "output_type": "stream",
     "text": [
      "ValueError is:, invalid literal for int() with base 10: ''\n"
     ]
    }
   ],
   "source": [
    "try:\n",
    "    num: int = int(input('Enter a number'))\n",
    "    num = 10 / num\n",
    "    print(num)\n",
    "    \n",
    "except ValueError as error:\n",
    "    print(f'ValueError is:, {error}')\n",
    "\n",
    "except ZeroDivisionError as error:\n",
    "    print(f'ZeroDivisionError is:, {error}')\n",
    "\n",
    "except Exception as exception:\n",
    "    print(f'Exception is:, {exception}')"
   ]
  },
  {
   "cell_type": "code",
   "execution_count": 6,
   "metadata": {},
   "outputs": [
    {
     "name": "stdout",
     "output_type": "stream",
     "text": [
      "TypeError: object of type 'NoneType' has no len()\n"
     ]
    }
   ],
   "source": [
    "\"\"\" writing else block to gracefully execute line num 4 print condition if try block do not have any exceptions,\n",
    "- if no exception is triggered, then 'except' block is skipped and else block is executed\n",
    "\"\"\"\n",
    "\n",
    "try:\n",
    "    my_str: str = input('Enter your string....')\n",
    "    \n",
    "    try:\n",
    "        my_str: int = int(my_str)\n",
    "    except ValueError:\n",
    "        pass                            # If conversion fails, my_str remains a string\n",
    "    \n",
    "    match my_str:\n",
    "        case '':\n",
    "             my_str: None = None\n",
    "\n",
    "        case 'True':\n",
    "            my_str: bool = True\n",
    "\n",
    "        case 'False':\n",
    "            my_str: bool = False\n",
    "\n",
    "        # case int() as num:                  # USELESS logic: Match if my_str is an integer and set it as num  [NOT NEEDED]\n",
    "        #     my_str: int = num\n",
    "\n",
    "    len_my_str: int = len(my_str)                 # commented so that next line exception is triggered - python executes line by line\n",
    "    my_str: str = my_str.upper()\n",
    " \n",
    "except AttributeError as error:\n",
    "    print(f'AttributeError: {error}')\n",
    "\n",
    "except TypeError as error:\n",
    "    print(f'TypeError: {error}')\n",
    "\n",
    "except Exception as exception: \n",
    "    print(f'Main exception is:, {exception}')\n",
    "\n",
    "else:\n",
    "    print(len_my_str)\n",
    "    print(my_str)"
   ]
  },
  {
   "cell_type": "markdown",
   "metadata": {},
   "source": [
    "#### finally block\n",
    "\n",
    "- wll execute even if exceptions handled or not handled"
   ]
  },
  {
   "cell_type": "code",
   "execution_count": 7,
   "metadata": {},
   "outputs": [
    {
     "name": "stdout",
     "output_type": "stream",
     "text": [
      "ValueError is:, invalid literal for int() with base 10: ''\n",
      "Finally block will execute regardless\n"
     ]
    }
   ],
   "source": [
    "try:\n",
    "    num: int = int(input('Enter a number'))\n",
    "    num = 100 / num\n",
    "\n",
    "except ValueError as error:\n",
    "    print(f'ValueError is:, {error}')\n",
    "\n",
    "except ZeroDivisionError as error:\n",
    "    print(f'ZeroDivisionError is:, {error}')\n",
    "\n",
    "except Exception as exception:\n",
    "    print(f'Exception is:, {exception}')\n",
    "\n",
    "else:\n",
    "    print(num)\n",
    "\n",
    "finally:\n",
    "    print('Finally block will execute regardless')"
   ]
  },
  {
   "cell_type": "markdown",
   "metadata": {},
   "source": [
    "#### File handling exceptions"
   ]
  },
  {
   "cell_type": "code",
   "execution_count": 8,
   "metadata": {},
   "outputs": [
    {
     "name": "stdout",
     "output_type": "stream",
     "text": [
      "File is not found: \t[Errno 2] No such file or directory: 'some_file_not_there'\n",
      "File closed, finally block will execute regardless\n"
     ]
    }
   ],
   "source": [
    "try:\n",
    "    file = open('some_file_not_there', 'r')\n",
    "    file_content: str = file.read()\n",
    "    a = b                               # will trigger exception only when file created or above lines commented\n",
    "    print(file_content)\n",
    "   \n",
    "except FileNotFoundError as error:\n",
    "    print(f'File is not found: \\t{error}')\n",
    "\n",
    "except Exception as exception:                  # to handle any other exception\n",
    "    print(f'Handled any other exceptions as: \\t{exception}')\n",
    "\n",
    "finally:\n",
    "    if 'file' in locals() and not file.closed():\n",
    "        file.close()\n",
    "    print('File closed, finally block will execute regardless')"
   ]
  },
  {
   "cell_type": "code",
   "execution_count": null,
   "metadata": {},
   "outputs": [],
   "source": []
  }
 ],
 "metadata": {
  "kernelspec": {
   "display_name": ".venv",
   "language": "python",
   "name": "python3"
  },
  "language_info": {
   "codemirror_mode": {
    "name": "ipython",
    "version": 3
   },
   "file_extension": ".py",
   "mimetype": "text/x-python",
   "name": "python",
   "nbconvert_exporter": "python",
   "pygments_lexer": "ipython3",
   "version": "3.12.7"
  }
 },
 "nbformat": 4,
 "nbformat_minor": 2
}
